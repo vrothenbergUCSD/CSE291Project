{
 "cells": [
  {
   "cell_type": "code",
   "execution_count": 49,
   "metadata": {},
   "outputs": [
    {
     "name": "stderr",
     "output_type": "stream",
     "text": [
      "Some weights of LongformerModel were not initialized from the model checkpoint at yikuan8/Clinical-Longformer and are newly initialized: ['longformer.pooler.dense.bias', 'longformer.pooler.dense.weight']\n",
      "You should probably TRAIN this model on a down-stream task to be able to use it for predictions and inference.\n"
     ]
    }
   ],
   "source": [
    "import torch\n",
    "from transformers import LongformerTokenizer, LongformerModel\n",
    "import pandas as pd\n",
    "import numpy as np\n",
    "import faiss\n",
    "\n",
    "# Load Clinical-Longformer model and tokenizer\n",
    "longformer_model_name = \"yikuan8/Clinical-Longformer\"\n",
    "tokenizer = LongformerTokenizer.from_pretrained(longformer_model_name)\n",
    "embedding_model = LongformerModel.from_pretrained(longformer_model_name)\n",
    "\n",
    "device = torch.device(\"cuda\" if torch.cuda.is_available() else \"cpu\")\n",
    "embedding_model.to(device)"
   ]
  },
  {
   "cell_type": "code",
   "execution_count": 3,
   "metadata": {},
   "outputs": [],
   "source": [
    "def generate_visit_embeddings(texts, batch_size=8):\n",
    "    all_embeddings = []\n",
    "    for i in range(0, len(texts), batch_size):\n",
    "        batch_texts = texts[i:i + batch_size]\n",
    "        inputs = tokenizer(batch_texts, return_tensors='pt', padding=True, truncation=True, max_length=4096).to(device)\n",
    "        with torch.no_grad():\n",
    "            outputs = embedding_model(**inputs)\n",
    "        batch_embeddings = outputs.last_hidden_state.mean(dim=1).cpu().numpy()\n",
    "        all_embeddings.append(batch_embeddings)\n",
    "    return np.vstack(all_embeddings)"
   ]
  },
  {
   "cell_type": "code",
   "execution_count": 4,
   "metadata": {},
   "outputs": [],
   "source": [
    "data_df = pd.read_csv(\"data/discharge_journal_df.csv\")"
   ]
  },
  {
   "cell_type": "code",
   "execution_count": 5,
   "metadata": {},
   "outputs": [
    {
     "name": "stderr",
     "output_type": "stream",
     "text": [
      "Input ids are automatically padded to be a multiple of `config.attention_window`: 512\n"
     ]
    }
   ],
   "source": [
    "all_texts = data_df['text'].tolist()\n",
    "visit_embeddings = generate_visit_embeddings(all_texts)"
   ]
  },
  {
   "cell_type": "code",
   "execution_count": 6,
   "metadata": {},
   "outputs": [],
   "source": [
    "patient_embeddings = {}\n",
    "for subject_id, group in data_df.groupby('subject_id'):\n",
    "    indices = group.index.tolist()\n",
    "    patient_embedding = np.mean(visit_embeddings[indices], axis=0)\n",
    "    patient_embeddings[subject_id] = patient_embedding"
   ]
  },
  {
   "cell_type": "code",
   "execution_count": 7,
   "metadata": {},
   "outputs": [],
   "source": [
    "# Convert patient embeddings dictionary to array for indexing\n",
    "patient_ids = list(patient_embeddings.keys())\n",
    "embeddings_array = np.array(list(patient_embeddings.values()))\n",
    "\n",
    "# Create FAISS index\n",
    "index = faiss.IndexFlatL2(embeddings_array.shape[1])\n",
    "index.add(embeddings_array)"
   ]
  },
  {
   "cell_type": "code",
   "execution_count": 8,
   "metadata": {},
   "outputs": [],
   "source": [
    "df = pd.read_csv(\"data/training_text.csv\")\n",
    "\n",
    "# Combine the specified columns into a single text block for each row\n",
    "df['masked_text'] = df.apply(lambda row: '\\n'.join([\n",
    "    f\"Admission Type:\\n{row['Admission Type']}\",\n",
    "    f\"Chief Complaint:\\n{row['Chief Complaint']}\",\n",
    "    f\"Major Surgical or Invasive Procedure:\\n{row['Major Surgical or Invasive Procedure']}\",\n",
    "    f\"History of Present Illness:\\n{row['History of Present Illness']}\",\n",
    "    f\"Past Medical History:\\n{row['Past Medical History']}\",\n",
    "    f\"Social History:\\n{row['Social History']}\",\n",
    "    f\"Physical Exam:\\n{row['Physical Exam']}\",\n",
    "    f\"Brief Hospital Course:\\n{row['Brief Hospital Course']}\"\n",
    "]), axis=1)\n",
    "\n",
    "df = df[['masked_text']]\n",
    "# Save the new DataFrame to a CSV file\n",
    "output_csv = 'data/output_with_masked_text.csv'\n",
    "df.to_csv(output_csv, index=False)"
   ]
  },
  {
   "cell_type": "code",
   "execution_count": 64,
   "metadata": {},
   "outputs": [
    {
     "name": "stdout",
     "output_type": "stream",
     "text": [
      "Distances: [[0.36186546 0.3762812 ]]\n",
      "Indices: [[6696 3696]]\n",
      "Retrieved Patient Data:\n",
      "               note_id  subject_id   hadm_id   charttime  \\\n",
      "8089    10260254-DS-2    10260254  28861371  2147-12-15   \n",
      "14870  10472450-DS-20    10472450  24626805  2140-10-06   \n",
      "14871  10472450-DS-21    10472450  24553761  2141-04-12   \n",
      "14872  10472450-DS-22    10472450  23142912  2141-04-26   \n",
      "\n",
      "                                                    text  \n",
      "8089   Subject ID: 10260254, HAdm ID: 28861371, Chart...  \n",
      "14870  Subject ID: 10472450, HAdm ID: 24626805, Chart...  \n",
      "14871  Subject ID: 10472450, HAdm ID: 24553761, Chart...  \n",
      "14872  Subject ID: 10472450, HAdm ID: 23142912, Chart...  \n"
     ]
    }
   ],
   "source": [
    "# Example new visit data and generating its embedding\n",
    "new_visit_data = df['masked_text'][4]\n",
    "new_visit_embedding = generate_visit_embeddings([new_visit_data])\n",
    "\n",
    "# Find similar patients\n",
    "distances, indices = index.search(new_visit_embedding, k=2)\n",
    "print(\"Distances:\", distances)\n",
    "print(\"Indices:\", indices)\n",
    "\n",
    "# Retrieve patient data based on indices\n",
    "retrieved_patient_data_df = data_df[data_df['subject_id'].isin([patient_ids[i] for i in indices[0]])]\n",
    "print(\"Retrieved Patient Data:\\n\", retrieved_patient_data_df)"
   ]
  },
  {
   "cell_type": "code",
   "execution_count": 51,
   "metadata": {},
   "outputs": [
    {
     "name": "stderr",
     "output_type": "stream",
     "text": [
      "/home/aashish/miniconda3/envs/gated_purge/lib/python3.11/site-packages/huggingface_hub/file_download.py:1132: FutureWarning: `resume_download` is deprecated and will be removed in version 1.0.0. Downloads always resume when possible. If you want to force a new download, use `force_download=True`.\n",
      "  warnings.warn(\n"
     ]
    }
   ],
   "source": [
    "from transformers import AutoTokenizer, LongT5ForConditionalGeneration\n",
    "# Load LongT5Model for summarization\n",
    "longt5_model_name = \"google/long-t5-tglobal-base\"\n",
    "longt5_tokenizer = AutoTokenizer.from_pretrained(longt5_model_name)\n",
    "longt5_model = LongT5ForConditionalGeneration.from_pretrained(longt5_model_name)"
   ]
  },
  {
   "cell_type": "code",
   "execution_count": 56,
   "metadata": {},
   "outputs": [],
   "source": [
    "torch.cuda.empty_cache()"
   ]
  },
  {
   "cell_type": "code",
   "execution_count": 65,
   "metadata": {},
   "outputs": [
    {
     "name": "stderr",
     "output_type": "stream",
     "text": [
      "/home/aashish/miniconda3/envs/gated_purge/lib/python3.11/site-packages/transformers/modeling_utils.py:1006: FutureWarning: The `device` argument is deprecated and will be removed in v5 of Transformers.\n",
      "  warnings.warn(\n"
     ]
    },
    {
     "name": "stdout",
     "output_type": "stream",
     "text": [
      "Summarized Text:\n",
      " Past Medical History: Cardiac History: -Nonischemic cardiomyopathy (EF 15%) -Atrial fibrillation on apixaban -H/o ___ thrombus in ___ -Moderate to severe MR -___ PMH: -DMII -Substance use disorder -CKD, III -Hypothyroidism -History of CVA -Depression Social History: ___ Family History: Unable to be obtained. Past Medical History: Cardiac History: -Nonischemic cardiomyopathy (EF 15%) -Atrial fibrillation on apixaban -H/o ___ thrombus in ___ -Moderate to severe MR -___ PMH: -DMII -Substance use disorder -CKD, III -Hypothyroidism -History of CVA -Depression Social History: ___ Family History: Unable to be obtained. ___ is a ___ year old male with PMH significant for HFrEF (EF 15%), AF w/ RVR, ___ thrombus noted ___, MR, type II DM, EtOH and polysubstance abuse, hypothyroidism, depression, HLD, and HTN who was admitted to ___ with concerns for acute decompensated heart failure and is transferred to ___ for management of cardiogenic shock. ___ is a ___ year old male with PMH significant for HFrEF (EF 15%), AF w/ RVR, ___ thrombus noted ___, MR, type II DM, EtOH and polysubstance abuse, hypothyroidism, depression, HLD, and HTN who was admitted to ___ with concerns for acute decompensated heart failure and is transferred to ___ for management of cardiogenic shock. ___ is a ___ year old male with PMH significant for HFrEF (EF 15%), AF w/ RVR, ___ Chief Complaint: admitted for heart failure optimization following ICD generator change Major Surgical or Invasive Procedure: ___: ICD generator exchange History of Present Illness: ___ with dilated cardiomyopathy (LVEF 10%), bioprosthetic MVR replacement, tachy-brady syndrome s/p DDD pacemaker (___) on ___, ___ s/p ___ ICD (most recent shock delivered ___, EtOH cirrhosis with history of GI bleeds with multiple transfusions, CKD stage V, who presents to the heart failure service following successful ICD generator change. DISCHARGE PHYSICAL EXAM: ======================== 24 HR Data (last updated ___ @ 750) Temp: 97.9 (Tm 98.4), BP: 99/65 (90-109/52-71), HR: 72 (64-72), RR: 13 (___), O2 sat: 100% (97-100), O2 delivery: RA GENERAL: Well developed, well nourished male in NAD. DISCHARGE PHYSICAL EXAM: ============================= 24 HR Data (last updated ___ @ 750) Temp: 97.9 (Tm 98.4), BP: 99/65 (90-109/52-71), HR: 72 (64-72), RR: 13 (___), O2 sat: 100% (97-100), O2 delivery: RA GENERAL: Well developed, well nourished male in NAD. DISCHARGE PHYSICAL EXAM: =========================== 24 HR Data (last updated ___ @ 750) Temp: 97.9 (Tm 98.4), BP: 99/65 (90-109/52-71), HR: 72 Chief Complaint: Dyspnea Major Surgical or Invasive Procedure: Right heart catheterization (___) Right heart catheterization (___) Liver biopsy (___) Tunneled HD line placement (___) History of Present Illness: ___ is a ___ year old man w/hx dilated cardiomyopathy, HFrEF (EF 10%), bioprosthetic MV replacement, tachy-brady syndrome s/p DDD pacemaker (___) on ___, ___ s/p ___ ICD (last shock delivered ___, EtOH cirrhosis, CKD stage V, presenting with dyspnea. DISCHARGE PHYSICAL EXAM ==================== ___ 03:30PM BLOOD WBC-9.1 RBC-3.05* Hgb-10.3* Hct-31.8* MCV-104* MCH-33.8* MCHC-32.4 RDW-14.8 RDWSD-56.4* Plt ___ ___ 03:30PM BLOOD Glucose-90 UreaN-35* Creat-2.5* Na-139 K-4.2 Cl-101 HCO3-23 AnGap-15 ___ 03:30PM BLOOD ALT-33 AST-46* AlkPhos-122 TotBili-1.9* ___ 03:30PM BLOOD ___ ___ 03:30PM BLOOD cTropnT-0.06* ___ 03:30PM BLOOD Calcium-9.7 Phos-3.9 Mg-2.0 Iron-37* ___ 03:30PM BLOOD calTIBC-347 Ferritn-451* TRF-267 ___ 03:49PM BLOOD ___ pO2-44* pCO2-44 pH-7.38 calTCO2-27 Base XS-0 Comment-GREEN TOP REPORTS ============== Chief Complaint: shortness of breath Major Surgical or Invasive Procedure: none History of Present Illness: ___ man with PMH dilated cardiomyopathy (EF 10%, attributed to alcohol use disorder), bioprosthetic mitral valve replacement, tachybradycardia syndrome status post DDD pacemaker on ___, ___ status post ___ ICD (last shock ___, alcoholic cirrhosis, end-stage renal disease on dialysis presenting with dyspnea, orthopnea weight gain. - EKG: atrial fibrillation, LBBB - Labs/studies notable for: 8.3 10.3 >------ 249 134 | 88 | 34 -------------- 4.1 | 30 | 4.8 ___: 21.8 PTT: 38.5 INR: 2.0 Trop-T: 0.10 ___: ___ Lactate:1.6 ALT: 46 AST: 41 AP: 110 Tbili: 1.0 Alb: 3.9 CXR: Mild-to-moderate pulmonary edema, progressed in the interval, with small bilateral pleural effusions and probable bibasilar atelectasis. CV: RRR, S1/S2, no murmurs, gallops, or rubs PULM: CTAB GI: abdomen soft, nondistended, nontender in all quadrants, no rebound/guarding, no hepatosplenomegaly EXTREMITIES: warm, trace edema PULSES: 2+ radial pulses bilaterally NEURO: Alert, moving all 4 extremities with purpose, face symmetric DISCHARGE EXAM ================= 24 HR Data (last updated ___ @ 619) Temp: 98.0 (Tm 98.4), BP: 108/62 (94-108/55-63), HR: 83 (81-91), RR: 20 (___), O2 sat: 97% (96-98), O2 delivery: RA, GENERAL: N\n"
     ]
    }
   ],
   "source": [
    "longt5_model.to(device)\n",
    "def summarize_text(text, max_length=512):\n",
    "    inputs = longt5_tokenizer.encode(text, return_tensors=\"pt\", max_length=8192, truncation=True).to(device)\n",
    "    summary_ids = longt5_model.generate(inputs, max_length=max_length, min_length=40, length_penalty=2.0, num_beams=2)\n",
    "    summary = longt5_tokenizer.decode(summary_ids[0].cpu().detach(), skip_special_tokens=True)\n",
    "    return summary\n",
    "\n",
    "def summarize_retrieved_data(retrieved_data):\n",
    "    summaries = []\n",
    "    for text in retrieved_data['text']:\n",
    "        summary = summarize_text(text)\n",
    "        summaries.append(summary)\n",
    "    return \" \".join(summaries)\n",
    "\n",
    "# Summarize retrieved patient data\n",
    "summarized_text = summarize_retrieved_data(retrieved_patient_data_df)\n",
    "print(\"Summarized Text:\\n\", summarized_text)"
   ]
  },
  {
   "cell_type": "code",
   "execution_count": 66,
   "metadata": {},
   "outputs": [
    {
     "name": "stderr",
     "output_type": "stream",
     "text": [
      "`flash-attention` package not found, consider installing for better performance: No module named 'flash_attn'.\n",
      "Current `flash-attention` does not support `window_size`. Either upgrade or use `attn_implementation='eager'`.\n"
     ]
    },
    {
     "data": {
      "application/vnd.jupyter.widget-view+json": {
       "model_id": "8aad8b3442f647e2b75cbfef4cc7f6f3",
       "version_major": 2,
       "version_minor": 0
      },
      "text/plain": [
       "Loading checkpoint shards:   0%|          | 0/2 [00:00<?, ?it/s]"
      ]
     },
     "metadata": {},
     "output_type": "display_data"
    },
    {
     "name": "stderr",
     "output_type": "stream",
     "text": [
      "Special tokens have been added in the vocabulary, make sure the associated word embeddings are fine-tuned or trained.\n",
      "/home/aashish/miniconda3/envs/gated_purge/lib/python3.11/site-packages/transformers/generation/configuration_utils.py:515: UserWarning: `do_sample` is set to `False`. However, `temperature` is set to `0.0` -- this flag is only used in sample-based generation modes. You should set `do_sample=True` or unset `temperature`.\n",
      "  warnings.warn(\n"
     ]
    },
    {
     "name": "stdout",
     "output_type": "stream",
     "text": [
      " Chief Complaint: Shortness of breath\n",
      "\n",
      "Major Surgical or Invasive Procedure: None\n",
      "\n",
      "History of Present Illness: A 55-year-old male with a past medical history of nonischemic cardiomyopathy (ejection fraction 10%), bioprosthetic mitral valve replacement, tachy-brady syndrome status post DDD pacemaker on the left side, and a history of an implantable cardioverter-defibrillator (ICD) shock delivered 2 months ago. The patient has a history of alcoholic cirrhosis, end-stage renal disease on dialysis, and presents with shortness of breath, orthopnea, and weight gain.\n",
      "\n",
      "EKG: Atrial fibrillation with left bundle branch block (LBBB)\n",
      "\n",
      "Labs/Studies:\n",
      "\n",
      "- Troponin T: 0.10 ng/mL (normal range: 0-0.04 ng/mL)\n",
      "\n",
      "- Prothrombin time (PTT): 38.5 seconds (normal range: 25-35 seconds)\n",
      "\n",
      "- International normalized ratio (INR): 2.0 (normal range: 0.8-1.2)\n",
      "\n",
      "- Lactate: 1.6 mmol/L (normal range: 0.5-2.2 mmol/L)\n",
      "\n",
      "- Alanine aminotransferase (ALT): 46 U/L (normal range: 7-56 U/L)\n",
      "\n",
      "- Aspartate aminotransferase (AST): 41 U/L (normal range: 10-40 U/L)\n",
      "\n",
      "- Trop-T: 0.10 ng/mL (normal range: 0-0.02 ng/mL)\n",
      "\n",
      "Chest X-ray (CXR): Mild-to-moderate pulmonary edema, progressed in the interval, with small bilateral pleural effusions and probable bibasilar atelectasis.\n",
      "\n",
      "Pulmonary examination: Clear to auscultation bilaterally, no wheezes, rales\n"
     ]
    }
   ],
   "source": [
    "from transformers import AutoModelForCausalLM, AutoTokenizer, pipeline\n",
    "\n",
    "phi_model = AutoModelForCausalLM.from_pretrained(\"microsoft/Phi-3-mini-4k-instruct\",trust_remote_code=True)\n",
    "phi_tokenizer = AutoTokenizer.from_pretrained(\"microsoft/Phi-3-mini-4k-instruct\")\n",
    "\n",
    "messages = [\n",
    "    {\"role\": \"user\", \"content\": \"Recommend: \"+summarized_text}\n",
    "]\n",
    "pipe = pipeline(\n",
    "    \"text-generation\",\n",
    "    model=phi_model,\n",
    "    tokenizer=phi_tokenizer,\n",
    ")\n",
    "\n",
    "generation_args = {\n",
    "    \"max_new_tokens\": 500,\n",
    "    \"return_full_text\": False,\n",
    "    \"temperature\": 0.0,\n",
    "    \"do_sample\": False\n",
    "}\n",
    "\n",
    "output = pipe(messages, **generation_args)\n",
    "print(output[0]['generated_text'])"
   ]
  }
 ],
 "metadata": {
  "kernelspec": {
   "display_name": "gated_purge",
   "language": "python",
   "name": "python3"
  },
  "language_info": {
   "codemirror_mode": {
    "name": "ipython",
    "version": 3
   },
   "file_extension": ".py",
   "mimetype": "text/x-python",
   "name": "python",
   "nbconvert_exporter": "python",
   "pygments_lexer": "ipython3",
   "version": "3.11.7"
  }
 },
 "nbformat": 4,
 "nbformat_minor": 2
}
