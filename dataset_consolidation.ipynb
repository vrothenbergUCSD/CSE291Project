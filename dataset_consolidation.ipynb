{
 "cells": [
  {
   "cell_type": "code",
   "execution_count": 3,
   "metadata": {},
   "outputs": [
    {
     "data": {
      "text/plain": [
       "['micro_journal_df.csv',\n",
       " 'journal_omr_df.csv',\n",
       " 'radiology_journal_df.csv',\n",
       " 'lab_journal_df.csv',\n",
       " 'admissions_journal_df.csv',\n",
       " 'discharge_journal_df.csv']"
      ]
     },
     "execution_count": 3,
     "metadata": {},
     "output_type": "execute_result"
    }
   ],
   "source": [
    "import os\n",
    "import csv\n",
    "import pandas as pd\n",
    "import pprint as pp\n",
    "\n",
    "# First run dataset_construction.ipynb \n",
    "data_dir = 'data/'\n",
    "os.chdir(data_dir)\n",
    "journal_csv_files = [file for file in os.listdir() if 'journal' in file]\n",
    "journal_csv_files"
   ]
  },
  {
   "cell_type": "code",
   "execution_count": 5,
   "metadata": {},
   "outputs": [
    {
     "data": {
      "text/plain": [
       "Index(['subject_id', 'hadm_id', 'admittime', 'discharge_location', 'text'], dtype='object')"
      ]
     },
     "execution_count": 5,
     "metadata": {},
     "output_type": "execute_result"
    }
   ],
   "source": [
    "admissions_journal_df = pd.read_csv('admissions_journal_df.csv')\n",
    "admissions_journal_df.columns"
   ]
  },
  {
   "cell_type": "code",
   "execution_count": null,
   "metadata": {},
   "outputs": [],
   "source": [
    "journal_omr_df = pd.read_csv('journal_omr_df.csv')"
   ]
  }
 ],
 "metadata": {
  "kernelspec": {
   "display_name": "cse251u",
   "language": "python",
   "name": "python3"
  },
  "language_info": {
   "codemirror_mode": {
    "name": "ipython",
    "version": 3
   },
   "file_extension": ".py",
   "mimetype": "text/x-python",
   "name": "python",
   "nbconvert_exporter": "python",
   "pygments_lexer": "ipython3",
   "version": "3.11.7"
  }
 },
 "nbformat": 4,
 "nbformat_minor": 2
}
