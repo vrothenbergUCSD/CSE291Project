{
 "cells": [
  {
   "cell_type": "code",
   "execution_count": 5,
   "metadata": {},
   "outputs": [
    {
     "data": {
      "text/html": [
       "<div>\n",
       "<style scoped>\n",
       "    .dataframe tbody tr th:only-of-type {\n",
       "        vertical-align: middle;\n",
       "    }\n",
       "\n",
       "    .dataframe tbody tr th {\n",
       "        vertical-align: top;\n",
       "    }\n",
       "\n",
       "    .dataframe thead th {\n",
       "        text-align: right;\n",
       "    }\n",
       "</style>\n",
       "<table border=\"1\" class=\"dataframe\">\n",
       "  <thead>\n",
       "    <tr style=\"text-align: right;\">\n",
       "      <th></th>\n",
       "      <th>subject_id</th>\n",
       "      <th>hadm_id</th>\n",
       "      <th>admittime</th>\n",
       "      <th>discharge_location</th>\n",
       "      <th>adm_text</th>\n",
       "      <th>severity_level</th>\n",
       "      <th>note_id</th>\n",
       "      <th>disc_charttime</th>\n",
       "      <th>disc_text</th>\n",
       "      <th>Chief Complaint</th>\n",
       "      <th>...</th>\n",
       "      <th>Physical Exam</th>\n",
       "      <th>Brief Hospital Course</th>\n",
       "      <th>Medications on Admission</th>\n",
       "      <th>Discharge Medications</th>\n",
       "      <th>Discharge Disposition</th>\n",
       "      <th>Discharge Diagnosis</th>\n",
       "      <th>Discharge Condition</th>\n",
       "      <th>Discharge Instructions</th>\n",
       "      <th>Followup Instructions</th>\n",
       "      <th>training_text</th>\n",
       "    </tr>\n",
       "  </thead>\n",
       "  <tbody>\n",
       "    <tr>\n",
       "      <th>0</th>\n",
       "      <td>10000032</td>\n",
       "      <td>22595853</td>\n",
       "      <td>2180-05-06 22:23:00</td>\n",
       "      <td>HOME</td>\n",
       "      <td>Subject ID: 10000032, Hospital Admission ID: 2...</td>\n",
       "      <td>Minimal Care/Recovery at Home</td>\n",
       "      <td>10000032-DS-21</td>\n",
       "      <td>2180-05-07</td>\n",
       "      <td>Subject ID: 10000032, HAdm ID: 22595853, Chart...</td>\n",
       "      <td>Worsening ABD distension and pain</td>\n",
       "      <td>...</td>\n",
       "      <td>VS: 98.1 107/61 78 18 97RA  \\nGeneral: in NAD ...</td>\n",
       "      <td>___ HCV cirrhosis c/b ascites, hiv on ART, h/o...</td>\n",
       "      <td>The Preadmission Medication list is accurate a...</td>\n",
       "      <td>1. Albuterol Inhaler 2 PUFF IH Q4H:PRN wheezin...</td>\n",
       "      <td>Home</td>\n",
       "      <td>Ascites from Portal HTN</td>\n",
       "      <td>Mental Status: Clear and coherent.\\nLevel of C...</td>\n",
       "      <td>Dear Ms. ___,\\nIt was a pleasure taking care o...</td>\n",
       "      <td>___</td>\n",
       "      <td>Subject ID: 10000032, Hospital Admission ID: 2...</td>\n",
       "    </tr>\n",
       "    <tr>\n",
       "      <th>1</th>\n",
       "      <td>10000032</td>\n",
       "      <td>22841357</td>\n",
       "      <td>2180-06-26 18:27:00</td>\n",
       "      <td>HOME</td>\n",
       "      <td>Subject ID: 10000032, Hospital Admission ID: 2...</td>\n",
       "      <td>Minimal Care/Recovery at Home</td>\n",
       "      <td>10000032-DS-22</td>\n",
       "      <td>2180-06-27</td>\n",
       "      <td>Subject ID: 10000032, HAdm ID: 22841357, Chart...</td>\n",
       "      <td>abdominal fullness and discomfort</td>\n",
       "      <td>...</td>\n",
       "      <td>ADMISSION PHYSICAL EXAM:  \\nVS: T98.1 105/57 7...</td>\n",
       "      <td>___ with HIV on HAART, HCV cirrhosis with asci...</td>\n",
       "      <td>The Preadmission Medication list is accurate a...</td>\n",
       "      <td>1. Acetaminophen 500 mg PO Q6H:PRN pain,fever ...</td>\n",
       "      <td>Home</td>\n",
       "      <td>Primary:  diuretic refractory ascites\\nSeconda...</td>\n",
       "      <td>Mental Status: Clear and coherent.\\nLevel of C...</td>\n",
       "      <td>Dear ___,\\n\\n___ was a pleasure to take care o...</td>\n",
       "      <td>___</td>\n",
       "      <td>Subject ID: 10000032, Hospital Admission ID: 2...</td>\n",
       "    </tr>\n",
       "  </tbody>\n",
       "</table>\n",
       "<p>2 rows × 24 columns</p>\n",
       "</div>"
      ],
      "text/plain": [
       "   subject_id   hadm_id            admittime discharge_location  \\\n",
       "0    10000032  22595853  2180-05-06 22:23:00               HOME   \n",
       "1    10000032  22841357  2180-06-26 18:27:00               HOME   \n",
       "\n",
       "                                            adm_text  \\\n",
       "0  Subject ID: 10000032, Hospital Admission ID: 2...   \n",
       "1  Subject ID: 10000032, Hospital Admission ID: 2...   \n",
       "\n",
       "                  severity_level         note_id disc_charttime  \\\n",
       "0  Minimal Care/Recovery at Home  10000032-DS-21     2180-05-07   \n",
       "1  Minimal Care/Recovery at Home  10000032-DS-22     2180-06-27   \n",
       "\n",
       "                                           disc_text  \\\n",
       "0  Subject ID: 10000032, HAdm ID: 22595853, Chart...   \n",
       "1  Subject ID: 10000032, HAdm ID: 22841357, Chart...   \n",
       "\n",
       "                     Chief Complaint  ...  \\\n",
       "0  Worsening ABD distension and pain  ...   \n",
       "1  abdominal fullness and discomfort  ...   \n",
       "\n",
       "                                       Physical Exam  \\\n",
       "0  VS: 98.1 107/61 78 18 97RA  \\nGeneral: in NAD ...   \n",
       "1  ADMISSION PHYSICAL EXAM:  \\nVS: T98.1 105/57 7...   \n",
       "\n",
       "                               Brief Hospital Course  \\\n",
       "0  ___ HCV cirrhosis c/b ascites, hiv on ART, h/o...   \n",
       "1  ___ with HIV on HAART, HCV cirrhosis with asci...   \n",
       "\n",
       "                            Medications on Admission  \\\n",
       "0  The Preadmission Medication list is accurate a...   \n",
       "1  The Preadmission Medication list is accurate a...   \n",
       "\n",
       "                               Discharge Medications Discharge Disposition  \\\n",
       "0  1. Albuterol Inhaler 2 PUFF IH Q4H:PRN wheezin...                  Home   \n",
       "1  1. Acetaminophen 500 mg PO Q6H:PRN pain,fever ...                  Home   \n",
       "\n",
       "                                 Discharge Diagnosis  \\\n",
       "0                            Ascites from Portal HTN   \n",
       "1  Primary:  diuretic refractory ascites\\nSeconda...   \n",
       "\n",
       "                                 Discharge Condition  \\\n",
       "0  Mental Status: Clear and coherent.\\nLevel of C...   \n",
       "1  Mental Status: Clear and coherent.\\nLevel of C...   \n",
       "\n",
       "                              Discharge Instructions Followup Instructions  \\\n",
       "0  Dear Ms. ___,\\nIt was a pleasure taking care o...                   ___   \n",
       "1  Dear ___,\\n\\n___ was a pleasure to take care o...                   ___   \n",
       "\n",
       "                                       training_text  \n",
       "0  Subject ID: 10000032, Hospital Admission ID: 2...  \n",
       "1  Subject ID: 10000032, Hospital Admission ID: 2...  \n",
       "\n",
       "[2 rows x 24 columns]"
      ]
     },
     "execution_count": 5,
     "metadata": {},
     "output_type": "execute_result"
    }
   ],
   "source": [
    "import pandas as pd\n",
    "\n",
    "training_df = pd.read_csv('data/training_text.csv')\n",
    "training_df.head(2)"
   ]
  },
  {
   "cell_type": "code",
   "execution_count": 6,
   "metadata": {},
   "outputs": [
    {
     "name": "stderr",
     "output_type": "stream",
     "text": [
      "Some weights of BertForSequenceClassification were not initialized from the model checkpoint at bert-base-uncased and are newly initialized: ['classifier.bias', 'classifier.weight']\n",
      "You should probably TRAIN this model on a down-stream task to be able to use it for predictions and inference.\n"
     ]
    },
    {
     "data": {
      "application/vnd.jupyter.widget-view+json": {
       "model_id": "dbf75ce82bbe4a669bc9191bb2358092",
       "version_major": 2,
       "version_minor": 0
      },
      "text/plain": [
       "Map:   0%|          | 0/10221 [00:00<?, ? examples/s]"
      ]
     },
     "metadata": {},
     "output_type": "display_data"
    },
    {
     "data": {
      "application/vnd.jupyter.widget-view+json": {
       "model_id": "ca202601542742b9ad48527c661ba449",
       "version_major": 2,
       "version_minor": 0
      },
      "text/plain": [
       "Map:   0%|          | 0/2556 [00:00<?, ? examples/s]"
      ]
     },
     "metadata": {},
     "output_type": "display_data"
    },
    {
     "name": "stderr",
     "output_type": "stream",
     "text": [
      "/Users/vince/miniforge3/envs/cse251u/lib/python3.11/site-packages/accelerate/accelerator.py:436: FutureWarning: Passing the following arguments to `Accelerator` is deprecated and will be removed in version 1.0 of Accelerate: dict_keys(['dispatch_batches', 'split_batches', 'even_batches', 'use_seedable_sampler']). Please pass an `accelerate.DataLoaderConfiguration` instead: \n",
      "dataloader_config = DataLoaderConfiguration(dispatch_batches=None, split_batches=False, even_batches=True, use_seedable_sampler=True)\n",
      "  warnings.warn(\n"
     ]
    },
    {
     "data": {
      "application/vnd.jupyter.widget-view+json": {
       "model_id": "7796285875c749d580acf51503126371",
       "version_major": 2,
       "version_minor": 0
      },
      "text/plain": [
       "  0%|          | 0/1917 [00:00<?, ?it/s]"
      ]
     },
     "metadata": {},
     "output_type": "display_data"
    },
    {
     "name": "stdout",
     "output_type": "stream",
     "text": [
      "{'loss': 1.4283, 'grad_norm': 4.744565010070801, 'learning_rate': 1.4783515910276475e-05, 'epoch': 0.78}\n"
     ]
    },
    {
     "data": {
      "application/vnd.jupyter.widget-view+json": {
       "model_id": "8c5baec19c0b441380016a4798f888a3",
       "version_major": 2,
       "version_minor": 0
      },
      "text/plain": [
       "  0%|          | 0/160 [00:00<?, ?it/s]"
      ]
     },
     "metadata": {},
     "output_type": "display_data"
    },
    {
     "name": "stdout",
     "output_type": "stream",
     "text": [
      "{'eval_loss': 1.2187020778656006, 'eval_runtime': 47.4683, 'eval_samples_per_second': 53.847, 'eval_steps_per_second': 3.371, 'epoch': 1.0}\n",
      "{'loss': 1.2074, 'grad_norm': 5.955478668212891, 'learning_rate': 9.567031820552947e-06, 'epoch': 1.56}\n"
     ]
    },
    {
     "data": {
      "application/vnd.jupyter.widget-view+json": {
       "model_id": "b48e4ef4f3714f94b53342e4e51b21e6",
       "version_major": 2,
       "version_minor": 0
      },
      "text/plain": [
       "  0%|          | 0/160 [00:00<?, ?it/s]"
      ]
     },
     "metadata": {},
     "output_type": "display_data"
    },
    {
     "name": "stdout",
     "output_type": "stream",
     "text": [
      "{'eval_loss': 1.1675701141357422, 'eval_runtime': 47.0741, 'eval_samples_per_second': 54.297, 'eval_steps_per_second': 3.399, 'epoch': 2.0}\n",
      "{'loss': 1.105, 'grad_norm': 8.371431350708008, 'learning_rate': 4.350547730829422e-06, 'epoch': 2.35}\n"
     ]
    },
    {
     "data": {
      "application/vnd.jupyter.widget-view+json": {
       "model_id": "1d0cc87c68ba41088ae2236141b9b874",
       "version_major": 2,
       "version_minor": 0
      },
      "text/plain": [
       "  0%|          | 0/160 [00:00<?, ?it/s]"
      ]
     },
     "metadata": {},
     "output_type": "display_data"
    },
    {
     "name": "stdout",
     "output_type": "stream",
     "text": [
      "{'eval_loss': 1.1573486328125, 'eval_runtime': 48.662, 'eval_samples_per_second': 52.526, 'eval_steps_per_second': 3.288, 'epoch': 3.0}\n",
      "{'train_runtime': 3845.2844, 'train_samples_per_second': 7.974, 'train_steps_per_second': 0.499, 'train_loss': 1.2051059999500766, 'epoch': 3.0}\n"
     ]
    },
    {
     "data": {
      "application/vnd.jupyter.widget-view+json": {
       "model_id": "2c0bd3b59eee4e599b1ad8e7a47f1cf6",
       "version_major": 2,
       "version_minor": 0
      },
      "text/plain": [
       "  0%|          | 0/160 [00:00<?, ?it/s]"
      ]
     },
     "metadata": {},
     "output_type": "display_data"
    },
    {
     "data": {
      "text/plain": [
       "{'eval_loss': 1.1573486328125,\n",
       " 'eval_runtime': 48.6275,\n",
       " 'eval_samples_per_second': 52.563,\n",
       " 'eval_steps_per_second': 3.29,\n",
       " 'epoch': 3.0}"
      ]
     },
     "execution_count": 6,
     "metadata": {},
     "output_type": "execute_result"
    }
   ],
   "source": [
    "import re\n",
    "import pandas as pd\n",
    "from sklearn.model_selection import train_test_split\n",
    "from datasets import Dataset\n",
    "from transformers import BertTokenizer, BertForSequenceClassification, Trainer, TrainingArguments\n",
    "from transformers import DataCollatorWithPadding\n",
    "\n",
    "# Load your data\n",
    "# Assume training_df is already prepared\n",
    "\n",
    "# Prepare the data\n",
    "X = training_df['training_text']\n",
    "y = training_df['discharge_location']\n",
    "\n",
    "# Map labels to integers\n",
    "label_mapping = {label: idx for idx, label in enumerate(y.unique())}\n",
    "y = y.map(label_mapping)\n",
    "\n",
    "# Split the data into training and test sets\n",
    "X_train, X_test, y_train, y_test = train_test_split(X, y, test_size=0.2, random_state=42)\n",
    "\n",
    "# Create a Hugging Face dataset\n",
    "train_data = pd.DataFrame({'text': X_train, 'label': y_train})\n",
    "test_data = pd.DataFrame({'text': X_test, 'label': y_test})\n",
    "\n",
    "train_dataset = Dataset.from_pandas(train_data)\n",
    "test_dataset = Dataset.from_pandas(test_data)\n",
    "\n",
    "# Load the BERT tokenizer and model\n",
    "tokenizer = BertTokenizer.from_pretrained('bert-base-uncased')\n",
    "model = BertForSequenceClassification.from_pretrained('bert-base-uncased', num_labels=len(label_mapping))\n",
    "\n",
    "# Tokenize the data with truncation and padding\n",
    "def tokenize_function(examples):\n",
    "    return tokenizer(examples['text'], truncation=True, padding=True)\n",
    "\n",
    "train_dataset = train_dataset.map(tokenize_function, batched=True)\n",
    "test_dataset = test_dataset.map(tokenize_function, batched=True)\n",
    "\n",
    "# Data collator\n",
    "data_collator = DataCollatorWithPadding(tokenizer=tokenizer)\n",
    "\n",
    "# Training arguments\n",
    "training_args = TrainingArguments(\n",
    "    output_dir='./results',\n",
    "    evaluation_strategy=\"epoch\",\n",
    "    learning_rate=2e-5,\n",
    "    per_device_train_batch_size=16,\n",
    "    per_device_eval_batch_size=16,\n",
    "    num_train_epochs=3,\n",
    "    weight_decay=0.01,\n",
    ")\n",
    "\n",
    "# Trainer\n",
    "trainer = Trainer(\n",
    "    model=model,\n",
    "    args=training_args,\n",
    "    train_dataset=train_dataset,\n",
    "    eval_dataset=test_dataset,\n",
    "    tokenizer=tokenizer,\n",
    "    data_collator=data_collator,\n",
    ")\n",
    "\n",
    "# Train the model\n",
    "trainer.train()\n",
    "\n",
    "# Evaluate the model\n",
    "results = trainer.evaluate()\n",
    "results\n"
   ]
  },
  {
   "cell_type": "code",
   "execution_count": 7,
   "metadata": {},
   "outputs": [
    {
     "data": {
      "text/plain": [
       "('./results/tokenizer_config.json',\n",
       " './results/special_tokens_map.json',\n",
       " './results/vocab.txt',\n",
       " './results/added_tokens.json')"
      ]
     },
     "execution_count": 7,
     "metadata": {},
     "output_type": "execute_result"
    }
   ],
   "source": [
    "model.save_pretrained('./results')\n",
    "tokenizer.save_pretrained('./results')"
   ]
  },
  {
   "cell_type": "markdown",
   "metadata": {},
   "source": [
    "### Load the Trained Model"
   ]
  },
  {
   "cell_type": "code",
   "execution_count": 3,
   "metadata": {},
   "outputs": [
    {
     "data": {
      "application/vnd.jupyter.widget-view+json": {
       "model_id": "75ae1eaf73ee4f0b9fd7214790bd35ae",
       "version_major": 2,
       "version_minor": 0
      },
      "text/plain": [
       "Map:   0%|          | 0/2556 [00:00<?, ? examples/s]"
      ]
     },
     "metadata": {},
     "output_type": "display_data"
    }
   ],
   "source": [
    "import re\n",
    "import pandas as pd\n",
    "from sklearn.model_selection import train_test_split\n",
    "from datasets import Dataset\n",
    "from transformers import BertTokenizer, BertForSequenceClassification, Trainer, TrainingArguments\n",
    "from transformers import DataCollatorWithPadding\n",
    "from sklearn.metrics import classification_report\n",
    "\n",
    "# Load the saved model and tokenizer\n",
    "model = BertForSequenceClassification.from_pretrained('./results')\n",
    "tokenizer = BertTokenizer.from_pretrained('./results')\n",
    "\n",
    "# Load your data\n",
    "training_df = pd.read_csv('data/training_text.csv')\n",
    "\n",
    "# Prepare the data\n",
    "X = training_df['training_text']\n",
    "y = training_df['discharge_location']\n",
    "\n",
    "# Map labels to integers\n",
    "label_mapping = {label: idx for idx, label in enumerate(y.unique())}\n",
    "y = y.map(label_mapping)\n",
    "\n",
    "# Split the data into training and test sets\n",
    "X_train, X_test, y_train, y_test = train_test_split(X, y, test_size=0.2, random_state=42)\n",
    "\n",
    "# Create a Hugging Face dataset\n",
    "test_data = pd.DataFrame({'text': X_test, 'label': y_test})\n",
    "test_dataset = Dataset.from_pandas(test_data)\n",
    "\n",
    "# Tokenize the data with truncation and padding\n",
    "def tokenize_function(examples):\n",
    "    return tokenizer(examples['text'], truncation=True, padding=True)\n",
    "\n",
    "test_dataset = test_dataset.map(tokenize_function, batched=True)\n",
    "\n"
   ]
  },
  {
   "cell_type": "code",
   "execution_count": 16,
   "metadata": {},
   "outputs": [
    {
     "data": {
      "application/vnd.jupyter.widget-view+json": {
       "model_id": "ae8f22391cd14e279956deda7f4febdf",
       "version_major": 2,
       "version_minor": 0
      },
      "text/plain": [
       "Map:   0%|          | 0/2556 [00:00<?, ? examples/s]"
      ]
     },
     "metadata": {},
     "output_type": "display_data"
    },
    {
     "name": "stdout",
     "output_type": "stream",
     "text": [
      "Original text 1: Subject ID: 10469058, Hospital Admission ID: 26099851, Admission Time: 2157-07-25 14:51:00\n",
      "Admission Type: EW EMER., Admission Location: EMERGENCY ROOM, Insurance: Other, Language: ENGLISH, Marital Status: SINGLE, Race: WHITE, Gender: F, Age: 45 NSTEMI Cardiac Cath (___) without stenting ___ with chest pain. Patient states her chest pain began last \n",
      "evening approximately 10 ___ and continued to worsen through the \n",
      "night. Pain is in the ___ her chest traveling to the arms \n",
      "bilaterally worse in the right arm. Pain worse when laying flat \n",
      "and not associated with any shortness of breath. Patient seen at \n",
      "outside hospital where CTA was performed concerning for small \n",
      "subsegmental pulmonary embolism and infrarenal aortic \n",
      "dissection.  Pain improved with morphine given at OSH. Troponin \n",
      "increased from undetectable to 1.9. Patient with history of \n",
      "achalasia and family history of cardiac disease. Patient smokes \n",
      "one pack per day.  Of note patient reports h/o superficial blood \n",
      "clot in leg last year.  Patient denies any recent travel or \n",
      "immobilization.  Mother also with history of clots, but no PE.  \n",
      "\n",
      "In the ED, initial vitals were 98.5 82 108/70 14 100%. EKG \n",
      "remarkable for: Sinus 70, normal axis, Q V2, no ST seg changes, \n",
      "normal intervals. Labs largely normal except Trop of 0.2. Second \n",
      "read of CTA chest read without aortic dissection. Started on \n",
      "Heparin IV Bolused: 3800 units and started on Infusion Rate: 750 \n",
      "units/hr Target PTT: 50 - 80 seconds. - Achalasia status post dilation\n",
      "- ___ esophagitis \n",
      "- Gastroesophageal reflux ___\n",
      "Family History:\n",
      "- Positive for multiple sclerosis, kidney disease, alcohol \n",
      "abuse.  \n",
      "- No family history of achalasia.\n",
      "- History of early MI (grandfather with MI in ___, uncle in ___ ADMISSION PHYSICAL EXAM:\n",
      "VS: T=98.2 BP=111/70 HR=84 RR=20 O2 sat= 100% RA  \n",
      "General: Laying down, in NAD, well-appearing\n",
      "HEENT: NC/AT, EOMI, sclera anicteric, MMM, oropharynx clear \n",
      "Neck:  Trachea midline, no JVD \n",
      "CV: RRR, normal s1 and s2, no r/m/g appreciated \n",
      "Lungs: CTAB, no wheezes or rhonchi appreciated \n",
      "Abdomen: Soft, non-distended, NTTP \n",
      "GU: Deferred \n",
      "Ext: 1+ peripheral pulses, no c/c/e \n",
      "Neuro: Speech fluent, moving all extremities\n",
      "Skin: No rashes noted\n",
      "\n",
      "DISCHARGE PHYSICAL EXAM:\n",
      "VS: Wt=54.7 kgs T=98-98.7 BP=102/56 HR=53-59 RR=18 O2 sat= 100% \n",
      "RA  \n",
      "General: Laying down, in NAD, well-appearing\n",
      "HEENT: NC/AT, EOMI, sclera anicteric, MMM, oropharynx clear \n",
      "Neck:  Trachea midline, no JVD \n",
      "CV: RRR, normal s1 and s2, no r/m/g appreciated \n",
      "Lungs: CTAB, no wheezes or rhonchi appreciated \n",
      "Abdomen: Soft, non-distended, NTTP \n",
      "GU: Deferred \n",
      "Ext: 1+ peripheral pulses, no c/c/e \n",
      "Neuro: Speech fluent, moving all extremities\n",
      "Skin: No rashes noted\n",
      " \n",
      "Pertinent Results:\n",
      "ADMISSION LABS:\n",
      "___ 08:30AM BLOOD WBC-7.6 RBC-4.18* Hgb-12.9 Hct-38.7 \n",
      "MCV-93 MCH-30.9 MCHC-33.4 RDW-12.5 Plt ___\n",
      "___ 08:30AM BLOOD Neuts-93.9* Lymphs-4.7* Monos-0.7* \n",
      "Eos-0.4 Baso-0.3\n",
      "___ 08:30AM BLOOD ___ PTT-29.2 ___\n",
      "___ 08:30AM BLOOD Glucose-125* UreaN-7 Creat-0.6 Na-138 \n",
      "K-4.4 Cl-101 HCO3-27 AnGap-14\n",
      "___ 08:47AM BLOOD cTropnT-0.20*\n",
      "___ 08:30AM URINE Color-Straw Appear-Clear Sp ___\n",
      "___ 08:30AM URINE Blood-NEG Nitrite-NEG Protein-NEG \n",
      "Glucose-NEG Ketone-10 Bilirub-NEG Urobiln-NEG pH-6.0 Leuks-NEG\n",
      "___ 08:30AM URINE UCG-NEGATIVE\n",
      "\n",
      "DISCHARGE LABS:\n",
      "___ 06:00AM BLOOD WBC-6.7 RBC-3.87* Hgb-11.9* Hct-35.7* \n",
      "MCV-92 MCH-30.8 MCHC-33.4 RDW-12.7 Plt ___\n",
      "___ 06:00AM BLOOD ___ PTT-69.2* ___\n",
      "___ 09:10AM BLOOD Glucose-75 UreaN-10 Creat-0.5 Na-139 \n",
      "K-4.1 Cl-102 HCO3-30 AnGap-11\n",
      "___ 06:00AM BLOOD UreaN-9 Creat-0.4 Na-137 K-4.3 Cl-102 \n",
      "HCO3-27 AnGap-12\n",
      "___ 06:00AM BLOOD Calcium-9.0 Phos-3.4 Mg-2.0\n",
      "\n",
      "IMAGING/STUDIES:\n",
      "ECG ___: Sinus rhythm. Possible septal myocardial \n",
      "infarction, age indeterminate, although could be due lead \n",
      "placement. No previous tracing available for comparison.\n",
      "\n",
      "CT ABD (OSH wet read): IMPRESSION:\n",
      "1.  Subsegmental pulmonary embolism demonstrated within the \n",
      "lateral basal segment of the right lower lobe. \n",
      "2.  No acute aortic dissection. A region of partially calcified, \n",
      "atypical atherosclerotic plaque with an adjacent region of \n",
      "scarring moderately narrows the infrarenal aorta. Although no \n",
      "comparisons images are available, this finding appears chronic \n",
      "and is referenced in the OSH radiology report to be similar in \n",
      "appearance when compared to a CTA chest performed in ___ \n",
      "3.  Significantly dilated esophagus with distal narrowing, \n",
      "compatible with thevpatient's known history of achalasia. \n",
      "4.  Mild to moderate centrilobular emphysema.\n",
      "\n",
      "CARDIAC CATH (___): \n",
      "Coronary angiography:  right dominant\n",
      "LMCA:  normal\n",
      "LAD:  occluded D2 with collateral filling; otherwise no \n",
      "significant disease\n",
      "LCX:  normal\n",
      "RCA:  normal\n",
      "Assessment & Recommendations\n",
      " 1. Occluded LAD D2; otherwise no significant CAD\n",
      "\n",
      "ECHO (___):\n",
      "The left atrium and right atrium are normal in cavity size. The \n",
      "left atrial volume is normal. No atrial septal defect is seen by \n",
      "2D or color Doppler. The estimated right atrial pressure is ___ \n",
      "mmHg. Left ventricular wall thicknesses and cavity size are \n",
      "normal. There is mild regional left ventricular systolic \n",
      "dysfunction with hypokinesis of the mid to distal anterior wall \n",
      "and distal lateral wall. The remaining segments contract \n",
      "normally. Overall left ventricular systolic function is low \n",
      "normal (LVEF 50-55%). Diastolic function could not be assessed. \n",
      "Right ventricular chamber size and free wall motion are normal. \n",
      "The aortic valve leaflets (3) are mildly thickened but aortic \n",
      "stenosis is not present. Trace aortic regurgitation is seen. The \n",
      "mitral valve leaflets are mildly thickened. There is no mitral \n",
      "valve prolapse. Trivial mitral regurgitation is seen. The \n",
      "tricuspid valve leaflets are mildly thickened. The pulmonary \n",
      "artery systolic pressure could not be determined. There is no \n",
      "pericardial effusion. \n",
      "\n",
      "IMPRESSION: Mild regional left ventricular dysfunction c/w CAD, \n",
      "with overall low-normal global systolic function. Normal right \n",
      "ventricular free wall systolic function. ASSESSMENT AND PLAN:  ___ year old female with PMHx notable for \n",
      "achalasia s/p dilation, now with chest pain x1 day and CTA at \n",
      "OSH c/f PE. \n",
      "\n",
      "#  NSTEMI: EKG without ischemic changes.  Troponin elevated.  \n",
      "Trop elevation may be secondary to heart strain from PE, versus \n",
      "intrinsic coronary disease.  Patient was initially treated with \n",
      "heparin drip, ASA 81, metoprolol 12.5 TID, and plavix 75 daily.  \n",
      "Echo abnormalities seen: specifically mild regional left \n",
      "ventricular systolic dysfunction with hypokinesis of the mid to \n",
      "distal anterior wall and distal lateral wall.  Given echo \n",
      "abnormalities, cardiac cath was pursued. Cardiac catheterization \n",
      "showed LAD:  occluded D2 with collateral filling; otherwise no \n",
      "significant disease.  No intervention was done.  Patient was \n",
      "discharged on ASA 81 and metoprolol XL 25 mg daily.\n",
      "\n",
      "# Pulmonary embolism: noted on CT imaging, history of \n",
      "superficial clots in leg per patient.  Also mother with history \n",
      "of clots, but no PE.  Patient was transferred on heparin gtt.  \n",
      "This was continued during her admission.  She was transitioned \n",
      "to Xarelto on discharge.  Given PE was unprovoked, patient will \n",
      "need at least 6 months of anticoagulation.\n",
      " \n",
      "# Barretts/Achalasia:  patient on aciphex at home, was \n",
      "non-formulary at ___ pharmacy.  Thus was treated with Zantac \n",
      "150 qd.  On discharge continued on aciphex.\n",
      "\n",
      "Transitional issues:\n",
      "- Pulmonary embolism: discharged on Xarelto (20 mg daily). \n",
      "Likely requires 6 months of oral anticoagulation for unprovoked \n",
      "PE if not lifelong.  Recommend PCP ___ to assist in \n",
      "determining length of anticoagulation.\n",
      "- ___ benefit from thrombophilia work up in the outpatient \n",
      "setting once off oral anticoagulation\n",
      "- CAD/NSTEMI: patient underwent cardiac cath on ___: showed LAD: \n",
      "occluded D2 with collateral filling; otherwise no significant \n",
      "disease. Is being discharged on aspirin, and metoprolol. Would \n",
      "consider starting atorvastatin on outpatient setting. The Preadmission Medication list is accurate and complete.\n",
      "1. Aciphex (RABEprazole) 20 mg oral BID \n",
      "2. Ferrous Sulfate Dose is Unknown  PO DAILY \n",
      "3. Multivitamins 1 TAB PO DAILY \n",
      "4. Vitamin D ___ UNIT PO DAILY\n",
      "Tokenized input IDs 1: [101, 3395, 8909, 1024, 9645, 2575, 21057, 27814, 1010, 2902, 9634, 8909, 1024, 13539, 2683, 2683, 27531, 2487, 1010, 9634, 2051, 1024, 17405, 2581, 1011, 5718, 1011, 2423, 2403, 1024, 4868, 1024, 4002, 9634, 2828, 1024, 1041, 2860, 7861, 2121, 1012, 1010, 9634, 3295, 1024, 5057, 2282, 1010, 5427, 1024, 2060, 1010, 2653, 1024, 2394, 1010, 23143, 3570, 1024, 2309, 1010, 2679, 1024, 2317, 1010, 5907, 1024, 1042, 1010, 2287, 1024, 3429, 24978, 18532, 2072, 15050, 4937, 2232, 1006, 1035, 1035, 1035, 1007, 2302, 26261, 24360, 1035, 1035, 1035, 2007, 3108, 3255, 1012, 5776, 2163, 2014, 3108, 3255, 2211, 2197, 3944, 3155, 2184, 1035, 1035, 1035, 1998, 2506, 2000, 4788, 2078, 2083, 1996, 2305, 1012, 3255, 2003, 1999, 1996, 1035, 1035, 1035, 2014, 3108, 7118, 2000, 1996, 2608, 17758, 2135, 4788, 1999, 1996, 2157, 2849, 1012, 3255, 4788, 2043, 10201, 4257, 1998, 2025, 3378, 2007, 2151, 2460, 2791, 1997, 3052, 1012, 5776, 2464, 2012, 2648, 2902, 2073, 14931, 2050, 2001, 2864, 7175, 2005, 2235, 4942, 3366, 21693, 21050, 21908, 7861, 14956, 2964, 1998, 1999, 27843, 7389, 2389, 20118, 28228, 2278, 4487, 11393, 7542, 1012, 3255, 5301, 2007, 22822, 20738, 2445, 2012, 9808, 2232, 1012, 19817, 7361, 10698, 2078, 3445, 2013, 6151, 12870, 23576, 2000, 1015, 1012, 1023, 1012, 5776, 2007, 2381, 1997, 9353, 19531, 8464, 1998, 2155, 2381, 1997, 15050, 4295, 1012, 5776, 5610, 2015, 2028, 5308, 2566, 2154, 1012, 1997, 3602, 5776, 4311, 1044, 1013, 1051, 23105, 2668, 18856, 4140, 1999, 4190, 2197, 2095, 1012, 5776, 23439, 2151, 3522, 3604, 2030, 10047, 5302, 14454, 3989, 1012, 2388, 2036, 2007, 2381, 1997, 18856, 12868, 1010, 2021, 2053, 21877, 1012, 1999, 1996, 3968, 1010, 3988, 8995, 2015, 2020, 5818, 1012, 1019, 6445, 10715, 1013, 3963, 2403, 2531, 1003, 1012, 23969, 2290, 9487, 2005, 1024, 8254, 2271, 3963, 1010, 3671, 8123, 1010, 1053, 1058, 2475, 1010, 2053, 2358, 7367, 2290, 3431, 1010, 3671, 14025, 1012, 13625, 4321, 3671, 3272, 19817, 7361, 1997, 1014, 1012, 1016, 1012, 2117, 3191, 1997, 14931, 2050, 3108, 3191, 2302, 20118, 28228, 2278, 4487, 11393, 7542, 1012, 2318, 2006, 2002, 19362, 2378, 4921, 8945, 7393, 2098, 1024, 17014, 2692, 3197, 1998, 2318, 2006, 1999, 20523, 3446, 1024, 9683, 3197, 1013, 17850, 4539, 13866, 2102, 1024, 2753, 1011, 3770, 3823, 1012, 1011, 9353, 19531, 8464, 3570, 2695, 29454, 3370, 1011, 1035, 1035, 1035, 9686, 7361, 3270, 23806, 2483, 1011, 3806, 13181, 2229, 7361, 3270, 3351, 2389, 25416, 25148, 1035, 1035, 1035, 2155, 2381, 1024, 1011, 3893, 2005, 3674, 8040, 3917, 12650, 1010, 14234, 4295, 1010, 6544, 6905, 1012, 1011, 2053, 2155, 2381, 1997, 9353, 19531, 8464, 1012, 1011, 2381, 1997, 2220, 2771, 1006, 5615, 2007, 2771, 1999, 1035, 1035, 1035, 1010, 4470, 1999, 1035, 1035, 1035, 9634, 3558, 11360, 1024, 5443, 1024, 1056, 1027, 5818, 1012, 1016, 17531, 1027, 11118, 1013, 3963, 17850, 1027, 6391, 25269, 1027, 2322, 1051, 2475, 2938, 1027, 2531, 1003, 10958, 2236, 1024, 10201, 2091, 1010, 1999, 23233, 1010, 2092, 1011, 6037, 18235, 3372, 1024, 13316, 1013, 2012, 1010, 1041, 20936, 1010, 8040, 3917, 2050, 2019, 2594, 3334, 2594, 1010, 25391, 1010, 20298, 21890, 18143, 2595, 102]\n",
      "Tokenized attention mask 1: [1, 1, 1, 1, 1, 1, 1, 1, 1, 1, 1, 1, 1, 1, 1, 1, 1, 1, 1, 1, 1, 1, 1, 1, 1, 1, 1, 1, 1, 1, 1, 1, 1, 1, 1, 1, 1, 1, 1, 1, 1, 1, 1, 1, 1, 1, 1, 1, 1, 1, 1, 1, 1, 1, 1, 1, 1, 1, 1, 1, 1, 1, 1, 1, 1, 1, 1, 1, 1, 1, 1, 1, 1, 1, 1, 1, 1, 1, 1, 1, 1, 1, 1, 1, 1, 1, 1, 1, 1, 1, 1, 1, 1, 1, 1, 1, 1, 1, 1, 1, 1, 1, 1, 1, 1, 1, 1, 1, 1, 1, 1, 1, 1, 1, 1, 1, 1, 1, 1, 1, 1, 1, 1, 1, 1, 1, 1, 1, 1, 1, 1, 1, 1, 1, 1, 1, 1, 1, 1, 1, 1, 1, 1, 1, 1, 1, 1, 1, 1, 1, 1, 1, 1, 1, 1, 1, 1, 1, 1, 1, 1, 1, 1, 1, 1, 1, 1, 1, 1, 1, 1, 1, 1, 1, 1, 1, 1, 1, 1, 1, 1, 1, 1, 1, 1, 1, 1, 1, 1, 1, 1, 1, 1, 1, 1, 1, 1, 1, 1, 1, 1, 1, 1, 1, 1, 1, 1, 1, 1, 1, 1, 1, 1, 1, 1, 1, 1, 1, 1, 1, 1, 1, 1, 1, 1, 1, 1, 1, 1, 1, 1, 1, 1, 1, 1, 1, 1, 1, 1, 1, 1, 1, 1, 1, 1, 1, 1, 1, 1, 1, 1, 1, 1, 1, 1, 1, 1, 1, 1, 1, 1, 1, 1, 1, 1, 1, 1, 1, 1, 1, 1, 1, 1, 1, 1, 1, 1, 1, 1, 1, 1, 1, 1, 1, 1, 1, 1, 1, 1, 1, 1, 1, 1, 1, 1, 1, 1, 1, 1, 1, 1, 1, 1, 1, 1, 1, 1, 1, 1, 1, 1, 1, 1, 1, 1, 1, 1, 1, 1, 1, 1, 1, 1, 1, 1, 1, 1, 1, 1, 1, 1, 1, 1, 1, 1, 1, 1, 1, 1, 1, 1, 1, 1, 1, 1, 1, 1, 1, 1, 1, 1, 1, 1, 1, 1, 1, 1, 1, 1, 1, 1, 1, 1, 1, 1, 1, 1, 1, 1, 1, 1, 1, 1, 1, 1, 1, 1, 1, 1, 1, 1, 1, 1, 1, 1, 1, 1, 1, 1, 1, 1, 1, 1, 1, 1, 1, 1, 1, 1, 1, 1, 1, 1, 1, 1, 1, 1, 1, 1, 1, 1, 1, 1, 1, 1, 1, 1, 1, 1, 1, 1, 1, 1, 1, 1, 1, 1, 1, 1, 1, 1, 1, 1, 1, 1, 1, 1, 1, 1, 1, 1, 1, 1, 1, 1, 1, 1, 1, 1, 1, 1, 1, 1, 1, 1, 1, 1, 1, 1, 1, 1, 1, 1, 1, 1, 1, 1, 1, 1, 1, 1, 1, 1, 1, 1, 1, 1, 1, 1, 1, 1, 1, 1, 1, 1, 1, 1, 1, 1, 1, 1, 1, 1, 1, 1, 1, 1, 1, 1, 1, 1, 1, 1, 1, 1, 1, 1, 1, 1, 1, 1, 1]\n",
      "\n",
      "Original text 2: Subject ID: 10104549, Hospital Admission ID: 22353375, Admission Time: 2197-10-19 11:15:00\n",
      "Admission Type: SURGICAL SAME DAY ADMISSION, Admission Location: PHYSICIAN REFERRAL, Insurance: Medicare, Language: ENGLISH, Marital Status: DIVORCED, Race: WHITE, Gender: F, Age: 65 Back pain ___: L4-S1 revision PSIF Ms. ___ had undergone a previous lumbar fusion with \n",
      "instrumentation.  X-rays have shown a breakage of the L4 pedicle \n",
      "screw and a pseudarthrosis.  She presents with back pain for a \n",
      "revision of the fusion. DM II\n",
      "Hypertension\n",
      "pyelonephritis\n",
      "Depression\n",
      "Peripheral neuropathy\n",
      "Gastric banding\n",
      "Chronic lower back pain\n",
      "Partial vertebrectomy of L4 and L5, fusion L4-S1 anterior and \n",
      "posterior in ___\n",
      "knee surgery\n",
      "Cholecystectomy\n",
      "Lobectomy for lung CA ___\n",
      "Family History:\n",
      "Non-contributory A&O X 3; NAD\n",
      "RRR\n",
      "Deminished breath sounds\n",
      "Abd soft NT/ND\n",
      "BUE- good strength at deltoid, biceps, triceps, wrist \n",
      "flexion/extension, finger flexion/extension and intrinics; \n",
      "sensation intact C5-T1 dermatomes; - ___, reflexes \n",
      "symmetric at biceps, triceps and brachioradialis\n",
      "BLE- good strength at hip flexion/extension, knee \n",
      "flexion/extension; ankle dorsiflexion and plantar flexion, \n",
      "___ are deminished on the left but unchanged from previous; \n",
      "sensation intact L1-S1 dermatomes; - clonus, reflexes symmetric \n",
      "at quads and Achilles\n",
      "\n",
      " \n",
      "Pertinent Results:\n",
      "___ 07:45AM BLOOD WBC-10.3 RBC-3.19* Hgb-9.0* Hct-27.2* \n",
      "MCV-85 MCH-28.2 MCHC-33.0 RDW-18.0* Plt ___\n",
      "___ 05:23PM BLOOD WBC-8.5 RBC-3.38* Hgb-9.3* Hct-28.9* \n",
      "MCV-85 MCH-27.4 MCHC-32.1 RDW-17.4* Plt ___\n",
      "___ 05:23PM BLOOD Glucose-208* UreaN-17 Creat-0.8 Na-139 \n",
      "K-4.5 Cl-105 HCO3-27 AnGap-12\n",
      "___ 05:23PM BLOOD Calcium-9.8 Phos-2.8 Mg-1.6 Ms ___ was admitted to the service of Dr. ___ for \n",
      "a revision of lumbar fusion instrumentation and removal of \n",
      "hardware.  She was informed and consented and elected to \n",
      "proceed.  Please see Operative Note for procedure in detail.  \n",
      "Post-operatively she was given antibiotics and pain medication.  \n",
      "A hemovac drain was placed intra-operatively and this was \n",
      "removed POD 2.  Her bladder catheter was removed POD 2 and her \n",
      "diet was advanced without difficulty.  She was able to work with \n",
      "physical therapy for strength and balance.  She was discharged \n",
      "in good condition and will follow up in the Orthopaedic Spine \n",
      "clinic. Metformin 1000''', Pregabalin 200''', Simvastatin 20', Doxepin \n",
      "50', Venlafaxine SR 150am/75pm, Verapamil SR 240', Lisinopril \n",
      "20'\n",
      "Tokenized input IDs 2: [101, 3395, 8909, 1024, 7886, 2692, 19961, 26224, 1010, 2902, 9634, 8909, 1024, 20802, 22275, 24434, 2629, 1010, 9634, 2051, 1024, 20636, 2581, 1011, 2184, 1011, 2539, 2340, 1024, 2321, 1024, 4002, 9634, 2828, 1024, 11707, 2168, 2154, 9634, 1010, 9634, 3295, 1024, 7522, 6523, 7941, 1010, 5427, 1024, 27615, 1010, 2653, 1024, 2394, 1010, 23143, 3570, 1024, 9196, 1010, 2679, 1024, 2317, 1010, 5907, 1024, 1042, 1010, 2287, 1024, 3515, 2067, 3255, 1035, 1035, 1035, 1024, 1048, 2549, 1011, 1055, 2487, 13921, 17816, 2546, 5796, 1012, 1035, 1035, 1035, 2018, 17215, 1037, 3025, 11320, 11201, 2099, 10077, 2007, 16015, 1012, 1060, 1011, 9938, 2031, 3491, 1037, 3338, 4270, 1997, 1996, 1048, 2549, 21877, 14808, 2571, 11224, 1998, 1037, 8827, 13765, 7662, 2705, 29166, 1012, 2016, 7534, 2007, 2067, 3255, 2005, 1037, 13921, 1997, 1996, 10077, 1012, 1040, 2213, 2462, 23760, 29048, 1052, 6672, 27165, 8458, 14778, 2483, 6245, 15965, 11265, 10976, 20166, 3806, 12412, 2316, 2075, 11888, 2896, 2067, 3255, 7704, 2310, 19731, 13578, 6593, 16940, 1997, 1048, 2549, 1998, 1048, 2629, 1010, 10077, 1048, 2549, 1011, 1055, 2487, 15099, 1998, 15219, 1999, 1035, 1035, 1035, 6181, 5970, 16480, 2571, 5666, 13473, 6593, 16940, 21833, 6593, 16940, 2005, 11192, 6187, 1035, 1035, 1035, 2155, 2381, 1024, 2512, 1011, 12130, 2100, 1037, 1004, 1051, 1060, 1017, 1025, 23233, 25269, 2099, 27668, 28357, 3052, 4165, 19935, 3730, 23961, 1013, 1050, 2094, 20934, 2063, 1011, 2204, 3997, 2012, 3972, 3406, 3593, 1010, 27947, 1010, 13012, 3401, 4523, 1010, 7223, 23951, 3258, 1013, 5331, 1010, 4344, 23951, 3258, 1013, 5331, 1998, 20014, 22612, 6169, 1025, 8742, 10109, 1039, 2629, 1011, 1056, 2487, 4315, 18900, 8462, 2015, 1025, 1011, 1035, 1035, 1035, 1010, 22259, 2229, 19490, 2012, 27947, 1010, 13012, 3401, 4523, 1998, 11655, 23584, 12173, 4818, 2483, 1038, 2571, 1011, 2204, 3997, 2012, 5099, 23951, 3258, 1013, 5331, 1010, 6181, 23951, 3258, 1013, 5331, 1025, 10792, 2079, 2869, 10128, 2571, 9048, 2239, 1998, 3269, 2906, 23951, 3258, 1010, 1035, 1035, 1035, 2024, 27668, 28357, 2006, 1996, 2187, 2021, 15704, 2013, 3025, 1025, 8742, 10109, 1048, 2487, 1011, 1055, 2487, 4315, 18900, 8462, 2015, 1025, 1011, 18856, 24891, 1010, 22259, 2229, 19490, 2012, 17718, 2015, 1998, 23167, 2566, 10196, 3372, 3463, 1024, 1035, 1035, 1035, 5718, 1024, 3429, 3286, 2668, 25610, 2278, 1011, 2184, 1012, 1017, 21144, 2278, 1011, 1017, 1012, 2539, 1008, 1044, 18259, 1011, 1023, 1012, 1014, 1008, 16731, 2102, 1011, 2676, 1012, 1016, 1008, 11338, 2615, 1011, 5594, 11338, 2232, 1011, 2654, 1012, 1016, 11338, 16257, 1011, 3943, 1012, 1014, 16428, 2860, 1011, 2324, 1012, 1014, 1008, 20228, 2102, 1035, 1035, 1035, 1035, 1035, 1035, 5709, 1024, 2603, 9737, 2668, 25610, 2278, 1011, 1022, 1012, 1019, 21144, 2278, 1011, 1017, 1012, 4229, 1008, 1044, 18259, 1011, 1023, 1012, 1017, 1008, 16731, 2102, 1011, 2654, 1012, 1023, 1008, 11338, 2615, 1011, 5594, 11338, 2232, 1011, 2676, 1012, 1018, 11338, 16257, 1011, 3590, 1012, 1015, 16428, 2860, 1011, 2459, 1012, 1018, 1008, 20228, 2102, 1035, 1035, 1035, 1035, 1035, 1035, 5709, 1024, 2603, 9737, 2668, 18423, 1011, 18512, 1008, 24471, 11219, 1011, 2459, 13675, 102]\n",
      "Tokenized attention mask 2: [1, 1, 1, 1, 1, 1, 1, 1, 1, 1, 1, 1, 1, 1, 1, 1, 1, 1, 1, 1, 1, 1, 1, 1, 1, 1, 1, 1, 1, 1, 1, 1, 1, 1, 1, 1, 1, 1, 1, 1, 1, 1, 1, 1, 1, 1, 1, 1, 1, 1, 1, 1, 1, 1, 1, 1, 1, 1, 1, 1, 1, 1, 1, 1, 1, 1, 1, 1, 1, 1, 1, 1, 1, 1, 1, 1, 1, 1, 1, 1, 1, 1, 1, 1, 1, 1, 1, 1, 1, 1, 1, 1, 1, 1, 1, 1, 1, 1, 1, 1, 1, 1, 1, 1, 1, 1, 1, 1, 1, 1, 1, 1, 1, 1, 1, 1, 1, 1, 1, 1, 1, 1, 1, 1, 1, 1, 1, 1, 1, 1, 1, 1, 1, 1, 1, 1, 1, 1, 1, 1, 1, 1, 1, 1, 1, 1, 1, 1, 1, 1, 1, 1, 1, 1, 1, 1, 1, 1, 1, 1, 1, 1, 1, 1, 1, 1, 1, 1, 1, 1, 1, 1, 1, 1, 1, 1, 1, 1, 1, 1, 1, 1, 1, 1, 1, 1, 1, 1, 1, 1, 1, 1, 1, 1, 1, 1, 1, 1, 1, 1, 1, 1, 1, 1, 1, 1, 1, 1, 1, 1, 1, 1, 1, 1, 1, 1, 1, 1, 1, 1, 1, 1, 1, 1, 1, 1, 1, 1, 1, 1, 1, 1, 1, 1, 1, 1, 1, 1, 1, 1, 1, 1, 1, 1, 1, 1, 1, 1, 1, 1, 1, 1, 1, 1, 1, 1, 1, 1, 1, 1, 1, 1, 1, 1, 1, 1, 1, 1, 1, 1, 1, 1, 1, 1, 1, 1, 1, 1, 1, 1, 1, 1, 1, 1, 1, 1, 1, 1, 1, 1, 1, 1, 1, 1, 1, 1, 1, 1, 1, 1, 1, 1, 1, 1, 1, 1, 1, 1, 1, 1, 1, 1, 1, 1, 1, 1, 1, 1, 1, 1, 1, 1, 1, 1, 1, 1, 1, 1, 1, 1, 1, 1, 1, 1, 1, 1, 1, 1, 1, 1, 1, 1, 1, 1, 1, 1, 1, 1, 1, 1, 1, 1, 1, 1, 1, 1, 1, 1, 1, 1, 1, 1, 1, 1, 1, 1, 1, 1, 1, 1, 1, 1, 1, 1, 1, 1, 1, 1, 1, 1, 1, 1, 1, 1, 1, 1, 1, 1, 1, 1, 1, 1, 1, 1, 1, 1, 1, 1, 1, 1, 1, 1, 1, 1, 1, 1, 1, 1, 1, 1, 1, 1, 1, 1, 1, 1, 1, 1, 1, 1, 1, 1, 1, 1, 1, 1, 1, 1, 1, 1, 1, 1, 1, 1, 1, 1, 1, 1, 1, 1, 1, 1, 1, 1, 1, 1, 1, 1, 1, 1, 1, 1, 1, 1, 1, 1, 1, 1, 1, 1, 1, 1, 1, 1, 1, 1, 1, 1, 1, 1, 1, 1, 1, 1, 1, 1, 1, 1, 1, 1, 1, 1, 1, 1, 1, 1, 1, 1, 1, 1, 1, 1, 1, 1, 1, 1, 1, 1, 1, 1, 1, 1, 1, 1, 1, 1, 1, 1, 1, 1, 1, 1]\n",
      "\n",
      "Original text 3: Subject ID: 10175645, Hospital Admission ID: 22067224, Admission Time: 2162-08-04 07:15:00\n",
      "Admission Type: ELECTIVE, Admission Location: PHYSICIAN REFERRAL, Insurance: Other, Language: ENGLISH, Marital Status: MARRIED, Race: OTHER, Gender: M, Age: 74 Right axillary lipomatous neoplasm. 1. Right axillary complete lymphadenectomy.\n",
      "2. Resection of right axillary lipomatous neoplasm. This is a ___ man who initially presented with an issue \n",
      "of a possible left breast mass,which was not the case. However, \n",
      "at the time of that evaluation,there was palpapable a sizable \n",
      "right axillary mass.  Patient had a right axillary lymph node \n",
      "biopsy on ___, at the ___ \n",
      "___, the report indicated that the lesion removed \n",
      "was a 1 cm benign reactive lymph node.  The incision for the \n",
      "procedure appeared to be low in the axilla.  It was not at all \n",
      "clear if the axillary mass would have been appreciated at that \n",
      "time. The patient had undergone a chest CT scan on ___, apparently for the indication of an abnormal chest x-ray. \n",
      "A chest CT scan was perfoemed which demonstrated a sizable \n",
      "lipomatous mass within the right axilla which had very little \n",
      "internal structure.  There is some faint internal septations and \n",
      "a 15 mm soft tissue component in the more caudad portion of the \n",
      "lesion.  It appeared to be potentially involving the \n",
      "subscapularis muscle.  After some discussion, and after \n",
      "re-evaluation later in the ___ in ___, it was decided \n",
      "to proceed with resection of the mass.  The patient freely \n",
      "consented to surgery. PMH: Hypogonadism (self administers testosterone), cervical disc \n",
      "disease, partial unilateral vocal cord paralysis, chronic right \n",
      "arm pain with radiculopathy, chronic low back pain, sciatica, \n",
      "hypothyroidism, hypertension, rosacea, chronic right rotator \n",
      "cuff syndrome\n",
      "\n",
      "PSH: Cervical laminectomy x 3 ___\n",
      "Family History:\n",
      "___ family history is significant for the brother who had \n",
      "bladder cancer and his father with lung cancer.  The maternal \n",
      "grandmother had breast cancer as well as the maternal aunt. Vitals:99.0,75,129/72,18, 94% RA\n",
      "General:alert and oriented\n",
      "Cardiac:RRR\n",
      "Pulmonary:clear\n",
      "Abdomen:soft NT/ND, normoactive BS\n",
      "Incision: right axillary dressing c/d/i, JP drain \n",
      "serosanguineous output\n",
      "right hand splint intact +csm  \n",
      "Extremities: warm well perfused, no edema The patient is a ___ year old male with history of right axillary \n",
      "lipomatous neoplasm. The patient underwent a right axillary \n",
      "complete lymphadenectomy;resection of right axillary lipomatous \n",
      "neoplasm.The patient tolerated the procedure well and was \n",
      "admitted to the inpatient general surgery service. His \n",
      "postoperative course was stable. His pain was well controlled \n",
      "with oral narcotics. The right axillary dressing remained clean \n",
      "dry and intact without any signs or symptoms of hematoma or \n",
      "infection. The JP drain remained intact with serosanguineous \n",
      "output. Patient was voiding and ambulating independently. \n",
      "Discharge teaching and instructions were provided to patient who \n",
      "agreed with the plan. Patient was discharged home with ___ for \n",
      "drain care and will follow-up with Dr. ___ in clinic. Allopurinol ___ mg PO DAILY \n",
      "Finasteride 5 mg PO DAILY \n",
      "Levothyroxine Sodium 137 mcg PO DAILY \n",
      "Lisinopril 20 mg PO DAILY \n",
      "Ranitidine 300 mg PO DAILY \n",
      "Tamsulosin 0.4 mg PO HS \n",
      "traZODONE 50 mg PO HS:PRN insomnia \n",
      "Diltiazem Extended-Release 240 mg PO HS \n",
      "Diclofenac\n",
      "\"various vitamins\"\n",
      "Tokenized input IDs 3: [101, 3395, 8909, 1024, 7886, 23352, 21084, 2629, 1010, 2902, 9634, 8909, 1024, 10545, 2575, 2581, 19317, 2549, 1010, 9634, 2051, 1024, 20294, 2475, 1011, 5511, 1011, 5840, 5718, 1024, 2321, 1024, 4002, 9634, 2828, 1024, 11322, 3512, 1010, 9634, 3295, 1024, 7522, 6523, 7941, 1010, 5427, 1024, 2060, 1010, 2653, 1024, 2394, 1010, 23143, 3570, 1024, 2496, 1010, 2679, 1024, 2060, 1010, 5907, 1024, 1049, 1010, 2287, 1024, 6356, 2157, 22260, 9386, 2854, 5423, 9626, 24826, 2015, 9253, 24759, 3022, 2213, 1012, 1015, 1012, 2157, 22260, 9386, 2854, 3143, 1048, 24335, 21890, 4181, 22471, 16940, 1012, 1016, 1012, 24501, 18491, 1997, 2157, 22260, 9386, 2854, 5423, 9626, 24826, 2015, 9253, 24759, 3022, 2213, 1012, 2023, 2003, 1037, 1035, 1035, 1035, 2158, 2040, 3322, 3591, 2007, 2019, 3277, 1997, 1037, 2825, 2187, 7388, 3742, 1010, 2029, 2001, 2025, 1996, 2553, 1012, 2174, 1010, 2012, 1996, 2051, 1997, 2008, 9312, 1010, 2045, 2001, 14412, 4502, 4502, 3468, 1037, 25908, 2157, 22260, 9386, 2854, 3742, 1012, 5776, 2018, 1037, 2157, 22260, 9386, 2854, 1048, 24335, 8458, 13045, 16012, 18075, 2006, 1035, 1035, 1035, 1010, 2012, 1996, 1035, 1035, 1035, 1035, 1035, 1035, 1010, 1996, 3189, 5393, 2008, 1996, 4649, 3258, 3718, 2001, 1037, 1015, 4642, 28378, 22643, 1048, 24335, 8458, 13045, 1012, 1996, 4297, 19969, 2005, 1996, 7709, 2596, 2000, 2022, 2659, 1999, 1996, 22260, 9386, 1012, 2009, 2001, 2025, 2012, 2035, 3154, 2065, 1996, 22260, 9386, 2854, 3742, 2052, 2031, 2042, 12315, 2012, 2008, 2051, 1012, 1996, 5776, 2018, 17215, 1037, 3108, 14931, 13594, 2006, 1035, 1035, 1035, 1010, 4593, 2005, 1996, 12407, 1997, 2019, 19470, 3108, 1060, 1011, 4097, 1012, 1037, 3108, 14931, 13594, 2001, 2566, 14876, 21382, 2094, 2029, 7645, 1037, 25908, 5423, 9626, 24826, 2015, 3742, 2306, 1996, 2157, 22260, 9386, 2029, 2018, 2200, 2210, 4722, 3252, 1012, 2045, 2003, 2070, 8143, 4722, 17419, 10708, 1998, 1037, 2321, 3461, 3730, 8153, 6922, 1999, 1996, 2062, 6187, 14066, 2094, 4664, 1997, 1996, 4649, 3258, 1012, 2009, 2596, 2000, 2022, 9280, 5994, 1996, 4942, 15782, 14289, 8017, 2483, 6740, 1012, 2044, 2070, 6594, 1010, 1998, 2044, 2128, 1011, 9312, 2101, 1999, 1996, 1035, 1035, 1035, 1999, 1035, 1035, 1035, 1010, 2009, 2001, 2787, 2000, 10838, 2007, 24501, 18491, 1997, 1996, 3742, 1012, 1996, 5776, 10350, 9619, 2098, 2000, 5970, 1012, 7610, 2232, 1024, 1044, 22571, 22844, 25389, 2964, 1006, 2969, 21497, 2015, 25937, 1007, 1010, 28711, 5860, 4295, 1010, 7704, 4895, 11733, 14621, 2140, 5554, 11601, 26287, 1010, 11888, 2157, 2849, 3255, 2007, 10958, 14808, 18845, 20166, 1010, 11888, 2659, 2067, 3255, 1010, 16596, 12070, 2050, 1010, 1044, 22571, 14573, 12541, 9314, 2964, 1010, 23760, 29048, 1010, 9508, 21456, 1010, 11888, 2157, 18672, 8844, 26450, 8715, 8827, 2232, 1024, 28711, 16983, 3170, 6593, 16940, 1060, 1017, 1035, 1035, 1035, 2155, 2381, 1024, 1035, 1035, 1035, 2155, 2381, 2003, 3278, 2005, 1996, 2567, 2040, 2018, 24176, 4456, 1998, 2010, 2269, 2007, 11192, 4456, 1012, 1996, 11062, 7133, 2018, 7388, 4456, 2004, 2092, 2004, 1996, 11062, 5916, 1012, 8995, 2015, 1024, 5585, 1012, 1014, 1010, 4293, 1010, 14378, 1013, 5824, 1010, 2324, 1010, 102]\n",
      "Tokenized attention mask 3: [1, 1, 1, 1, 1, 1, 1, 1, 1, 1, 1, 1, 1, 1, 1, 1, 1, 1, 1, 1, 1, 1, 1, 1, 1, 1, 1, 1, 1, 1, 1, 1, 1, 1, 1, 1, 1, 1, 1, 1, 1, 1, 1, 1, 1, 1, 1, 1, 1, 1, 1, 1, 1, 1, 1, 1, 1, 1, 1, 1, 1, 1, 1, 1, 1, 1, 1, 1, 1, 1, 1, 1, 1, 1, 1, 1, 1, 1, 1, 1, 1, 1, 1, 1, 1, 1, 1, 1, 1, 1, 1, 1, 1, 1, 1, 1, 1, 1, 1, 1, 1, 1, 1, 1, 1, 1, 1, 1, 1, 1, 1, 1, 1, 1, 1, 1, 1, 1, 1, 1, 1, 1, 1, 1, 1, 1, 1, 1, 1, 1, 1, 1, 1, 1, 1, 1, 1, 1, 1, 1, 1, 1, 1, 1, 1, 1, 1, 1, 1, 1, 1, 1, 1, 1, 1, 1, 1, 1, 1, 1, 1, 1, 1, 1, 1, 1, 1, 1, 1, 1, 1, 1, 1, 1, 1, 1, 1, 1, 1, 1, 1, 1, 1, 1, 1, 1, 1, 1, 1, 1, 1, 1, 1, 1, 1, 1, 1, 1, 1, 1, 1, 1, 1, 1, 1, 1, 1, 1, 1, 1, 1, 1, 1, 1, 1, 1, 1, 1, 1, 1, 1, 1, 1, 1, 1, 1, 1, 1, 1, 1, 1, 1, 1, 1, 1, 1, 1, 1, 1, 1, 1, 1, 1, 1, 1, 1, 1, 1, 1, 1, 1, 1, 1, 1, 1, 1, 1, 1, 1, 1, 1, 1, 1, 1, 1, 1, 1, 1, 1, 1, 1, 1, 1, 1, 1, 1, 1, 1, 1, 1, 1, 1, 1, 1, 1, 1, 1, 1, 1, 1, 1, 1, 1, 1, 1, 1, 1, 1, 1, 1, 1, 1, 1, 1, 1, 1, 1, 1, 1, 1, 1, 1, 1, 1, 1, 1, 1, 1, 1, 1, 1, 1, 1, 1, 1, 1, 1, 1, 1, 1, 1, 1, 1, 1, 1, 1, 1, 1, 1, 1, 1, 1, 1, 1, 1, 1, 1, 1, 1, 1, 1, 1, 1, 1, 1, 1, 1, 1, 1, 1, 1, 1, 1, 1, 1, 1, 1, 1, 1, 1, 1, 1, 1, 1, 1, 1, 1, 1, 1, 1, 1, 1, 1, 1, 1, 1, 1, 1, 1, 1, 1, 1, 1, 1, 1, 1, 1, 1, 1, 1, 1, 1, 1, 1, 1, 1, 1, 1, 1, 1, 1, 1, 1, 1, 1, 1, 1, 1, 1, 1, 1, 1, 1, 1, 1, 1, 1, 1, 1, 1, 1, 1, 1, 1, 1, 1, 1, 1, 1, 1, 1, 1, 1, 1, 1, 1, 1, 1, 1, 1, 1, 1, 1, 1, 1, 1, 1, 1, 1, 1, 1, 1, 1, 1, 1, 1, 1, 1, 1, 1, 1, 1, 1, 1, 1, 1, 1, 1, 1, 1, 1, 1, 1, 1, 1, 1, 1, 1, 1, 1, 1, 1, 1, 1, 1, 1, 1, 1, 1, 1, 1, 1, 1, 1, 1, 1, 1, 1, 1, 1, 1, 1]\n",
      "\n"
     ]
    }
   ],
   "source": [
    "# Tokenize the data with truncation and padding\n",
    "def tokenize_inspect(examples):\n",
    "    tokenized = tokenizer(examples['text'], truncation=True, padding=True)\n",
    "    tokenized['original_text'] = examples['text']\n",
    "    return tokenized\n",
    "\n",
    "# Apply the tokenization function to the dataset\n",
    "tokenized_dataset = test_dataset.map(tokenize_inspect, batched=True)\n",
    "\n",
    "# Inspect a few examples\n",
    "for i in range(3):  # Adjust the range to see more examples if needed\n",
    "    print(f\"Original text {i+1}: {tokenized_dataset[i]['original_text']}\")\n",
    "    print(f\"Tokenized input IDs {i+1}: {tokenized_dataset[i]['input_ids']}\")\n",
    "    print(f\"Tokenized attention mask {i+1}: {tokenized_dataset[i]['attention_mask']}\\n\")\n",
    "\n"
   ]
  },
  {
   "cell_type": "code",
   "execution_count": 17,
   "metadata": {},
   "outputs": [
    {
     "name": "stdout",
     "output_type": "stream",
     "text": [
      "Original text 1 length: 8078\n",
      "Tokenized input IDs 1: 512\n",
      "Tokenized attention mask 1: 512\n",
      "\n",
      "Original text 2 length: 2432\n",
      "Tokenized input IDs 2: 512\n",
      "Tokenized attention mask 2: 512\n",
      "\n",
      "Original text 3 length: 3373\n",
      "Tokenized input IDs 3: 512\n",
      "Tokenized attention mask 3: 512\n",
      "\n"
     ]
    }
   ],
   "source": [
    "# Limited context window of 512\n",
    "# Inspect a few examples\n",
    "for i in range(3):  # Adjust the range to see more examples if needed\n",
    "    print(f\"Original text {i+1} length: {len(tokenized_dataset[i]['original_text'])}\")\n",
    "    print(f\"Tokenized input IDs {i+1}: {len(tokenized_dataset[i]['input_ids'])}\")\n",
    "    print(f\"Tokenized attention mask {i+1}: {len(tokenized_dataset[i]['attention_mask'])}\\n\")\n",
    "\n"
   ]
  },
  {
   "cell_type": "code",
   "execution_count": 19,
   "metadata": {},
   "outputs": [
    {
     "data": {
      "application/vnd.jupyter.widget-view+json": {
       "model_id": "fbc97a0420434728a386ad535309cda2",
       "version_major": 2,
       "version_minor": 0
      },
      "text/plain": [
       "Map:   0%|          | 0/2556 [00:00<?, ? examples/s]"
      ]
     },
     "metadata": {},
     "output_type": "display_data"
    },
    {
     "data": {
      "image/png": "[encoded data removed]",
      "text/plain": [
       "<Figure size 640x480 with 1 Axes>"
      ]
     },
     "metadata": {},
     "output_type": "display_data"
    },
    {
     "name": "stdout",
     "output_type": "stream",
     "text": [
      "Maximum token length: 11818\n",
      "Average token length: 2377.3258998435053\n",
      "Median token length: 2233\n"
     ]
    }
   ],
   "source": [
    "# Tokenize the data without truncation\n",
    "def tokenize_function_no_truncation(examples):\n",
    "    tokenized = tokenizer(examples['text'], truncation=False, padding=False)\n",
    "    tokenized['original_text'] = examples['text']  # Include the original text\n",
    "    return tokenized\n",
    "\n",
    "# Apply the tokenization function to the dataset\n",
    "tokenized_dataset_no_truncation = test_dataset.map(tokenize_function_no_truncation, batched=True)\n",
    "\n",
    "# Calculate the lengths of tokenized input IDs\n",
    "tokenized_lengths_no_truncation = [len(tokenized_dataset_no_truncation[i]['input_ids']) for i in range(len(tokenized_dataset_no_truncation))]\n",
    "\n",
    "# Plot the distribution of tokenized lengths using matplotlib\n",
    "import matplotlib.pyplot as plt\n",
    "\n",
    "plt.hist(tokenized_lengths_no_truncation, bins=50, edgecolor='black')\n",
    "plt.xlabel('Token Length')\n",
    "plt.ylabel('Frequency')\n",
    "plt.title('Distribution of Tokenized Original Text Lengths')\n",
    "plt.show()\n",
    "\n",
    "# Print some statistics about token lengths\n",
    "print(f\"Maximum token length: {max(tokenized_lengths_no_truncation)}\")\n",
    "print(f\"Average token length: {sum(tokenized_lengths_no_truncation)/len(tokenized_lengths_no_truncation)}\")\n",
    "print(f\"Median token length: {sorted(tokenized_lengths_no_truncation)[len(tokenized_lengths_no_truncation)//2]}\")\n"
   ]
  },
  {
   "cell_type": "code",
   "execution_count": 21,
   "metadata": {},
   "outputs": [
    {
     "data": {
      "image/png": "[encoded data removed]",
      "text/plain": [
       "<Figure size 640x480 with 1 Axes>"
      ]
     },
     "metadata": {},
     "output_type": "display_data"
    },
    {
     "name": "stdout",
     "output_type": "stream",
     "text": [
      "Maximum token length: 11818\n",
      "Average token length: 2377.3258998435053\n",
      "Median token length: 2233\n"
     ]
    }
   ],
   "source": [
    "\n",
    "# Plot the distribution of tokenized lengths using matplotlib\n",
    "import matplotlib.pyplot as plt\n",
    "\n",
    "plt.hist(tokenized_lengths_no_truncation, bins=50, edgecolor='black')\n",
    "plt.axvline(x=512, color='red')\n",
    "plt.xlabel('Token Length')\n",
    "plt.ylabel('Frequency')\n",
    "plt.title('Distribution of Tokenized Original Text Lengths')\n",
    "plt.show()\n",
    "\n",
    "# Print some statistics about token lengths\n",
    "print(f\"Maximum token length: {max(tokenized_lengths_no_truncation)}\")\n",
    "print(f\"Average token length: {sum(tokenized_lengths_no_truncation)/len(tokenized_lengths_no_truncation)}\")\n",
    "print(f\"Median token length: {sorted(tokenized_lengths_no_truncation)[len(tokenized_lengths_no_truncation)//2]}\")\n"
   ]
  },
  {
   "cell_type": "code",
   "execution_count": 5,
   "metadata": {},
   "outputs": [
    {
     "name": "stderr",
     "output_type": "stream",
     "text": [
      "/Users/vince/miniforge3/envs/cse251u/lib/python3.11/site-packages/accelerate/accelerator.py:436: FutureWarning: Passing the following arguments to `Accelerator` is deprecated and will be removed in version 1.0 of Accelerate: dict_keys(['dispatch_batches', 'split_batches', 'even_batches', 'use_seedable_sampler']). Please pass an `accelerate.DataLoaderConfiguration` instead: \n",
      "dataloader_config = DataLoaderConfiguration(dispatch_batches=None, split_batches=False, even_batches=True, use_seedable_sampler=True)\n",
      "  warnings.warn(\n"
     ]
    },
    {
     "data": {
      "application/vnd.jupyter.widget-view+json": {
       "model_id": "6167532eb6ae402f98c83893ad5d09ed",
       "version_major": 2,
       "version_minor": 0
      },
      "text/plain": [
       "  0%|          | 0/160 [00:00<?, ?it/s]"
      ]
     },
     "metadata": {},
     "output_type": "display_data"
    },
    {
     "name": "stdout",
     "output_type": "stream",
     "text": [
      "{'eval_loss': 1.1573486328125, 'eval_runtime': 47.3137, 'eval_samples_per_second': 54.022, 'eval_steps_per_second': 3.382}\n"
     ]
    },
    {
     "data": {
      "application/vnd.jupyter.widget-view+json": {
       "model_id": "7d264b5ca9ec483cbfafd20886c6533b",
       "version_major": 2,
       "version_minor": 0
      },
      "text/plain": [
       "  0%|          | 0/160 [00:00<?, ?it/s]"
      ]
     },
     "metadata": {},
     "output_type": "display_data"
    },
    {
     "ename": "ValueError",
     "evalue": "Number of classes, 12, does not match size of target_names, 13. Try specifying the labels parameter",
     "output_type": "error",
     "traceback": [
      "\u001b[0;31m---------------------------------------------------------------------------\u001b[0m",
      "\u001b[0;31mValueError\u001b[0m                                Traceback (most recent call last)",
      "Cell \u001b[0;32mIn[5], line 48\u001b[0m\n\u001b[1;32m     45\u001b[0m comparison_df\u001b[38;5;241m.\u001b[39mhead()\n\u001b[1;32m     47\u001b[0m \u001b[38;5;66;03m# Generate a classification report\u001b[39;00m\n\u001b[0;32m---> 48\u001b[0m report \u001b[38;5;241m=\u001b[39m \u001b[43mclassification_report\u001b[49m\u001b[43m(\u001b[49m\u001b[43mtrue_labels_str\u001b[49m\u001b[43m,\u001b[49m\u001b[43m \u001b[49m\u001b[43mpredicted_labels_str\u001b[49m\u001b[43m,\u001b[49m\u001b[43m \u001b[49m\u001b[43mtarget_names\u001b[49m\u001b[38;5;241;43m=\u001b[39;49m\u001b[38;5;28;43mlist\u001b[39;49m\u001b[43m(\u001b[49m\u001b[43minverse_label_mapping\u001b[49m\u001b[38;5;241;43m.\u001b[39;49m\u001b[43mvalues\u001b[49m\u001b[43m(\u001b[49m\u001b[43m)\u001b[49m\u001b[43m)\u001b[49m\u001b[43m)\u001b[49m\n\u001b[1;32m     50\u001b[0m \u001b[38;5;66;03m# Display the classification report\u001b[39;00m\n\u001b[1;32m     51\u001b[0m \u001b[38;5;28mprint\u001b[39m(report)\n",
      "File \u001b[0;32m~/miniforge3/envs/cse251u/lib/python3.11/site-packages/sklearn/utils/_param_validation.py:213\u001b[0m, in \u001b[0;36mvalidate_params.<locals>.decorator.<locals>.wrapper\u001b[0;34m(*args, **kwargs)\u001b[0m\n\u001b[1;32m    207\u001b[0m \u001b[38;5;28;01mtry\u001b[39;00m:\n\u001b[1;32m    208\u001b[0m     \u001b[38;5;28;01mwith\u001b[39;00m config_context(\n\u001b[1;32m    209\u001b[0m         skip_parameter_validation\u001b[38;5;241m=\u001b[39m(\n\u001b[1;32m    210\u001b[0m             prefer_skip_nested_validation \u001b[38;5;129;01mor\u001b[39;00m global_skip_validation\n\u001b[1;32m    211\u001b[0m         )\n\u001b[1;32m    212\u001b[0m     ):\n\u001b[0;32m--> 213\u001b[0m         \u001b[38;5;28;01mreturn\u001b[39;00m \u001b[43mfunc\u001b[49m\u001b[43m(\u001b[49m\u001b[38;5;241;43m*\u001b[39;49m\u001b[43margs\u001b[49m\u001b[43m,\u001b[49m\u001b[43m \u001b[49m\u001b[38;5;241;43m*\u001b[39;49m\u001b[38;5;241;43m*\u001b[39;49m\u001b[43mkwargs\u001b[49m\u001b[43m)\u001b[49m\n\u001b[1;32m    214\u001b[0m \u001b[38;5;28;01mexcept\u001b[39;00m InvalidParameterError \u001b[38;5;28;01mas\u001b[39;00m e:\n\u001b[1;32m    215\u001b[0m     \u001b[38;5;66;03m# When the function is just a wrapper around an estimator, we allow\u001b[39;00m\n\u001b[1;32m    216\u001b[0m     \u001b[38;5;66;03m# the function to delegate validation to the estimator, but we replace\u001b[39;00m\n\u001b[1;32m    217\u001b[0m     \u001b[38;5;66;03m# the name of the estimator by the name of the function in the error\u001b[39;00m\n\u001b[1;32m    218\u001b[0m     \u001b[38;5;66;03m# message to avoid confusion.\u001b[39;00m\n\u001b[1;32m    219\u001b[0m     msg \u001b[38;5;241m=\u001b[39m re\u001b[38;5;241m.\u001b[39msub(\n\u001b[1;32m    220\u001b[0m         \u001b[38;5;124mr\u001b[39m\u001b[38;5;124m\"\u001b[39m\u001b[38;5;124mparameter of \u001b[39m\u001b[38;5;124m\\\u001b[39m\u001b[38;5;124mw+ must be\u001b[39m\u001b[38;5;124m\"\u001b[39m,\n\u001b[1;32m    221\u001b[0m         \u001b[38;5;124mf\u001b[39m\u001b[38;5;124m\"\u001b[39m\u001b[38;5;124mparameter of \u001b[39m\u001b[38;5;132;01m{\u001b[39;00mfunc\u001b[38;5;241m.\u001b[39m\u001b[38;5;18m__qualname__\u001b[39m\u001b[38;5;132;01m}\u001b[39;00m\u001b[38;5;124m must be\u001b[39m\u001b[38;5;124m\"\u001b[39m,\n\u001b[1;32m    222\u001b[0m         \u001b[38;5;28mstr\u001b[39m(e),\n\u001b[1;32m    223\u001b[0m     )\n",
      "File \u001b[0;32m~/miniforge3/envs/cse251u/lib/python3.11/site-packages/sklearn/metrics/_classification.py:2614\u001b[0m, in \u001b[0;36mclassification_report\u001b[0;34m(y_true, y_pred, labels, target_names, sample_weight, digits, output_dict, zero_division)\u001b[0m\n\u001b[1;32m   2608\u001b[0m         warnings\u001b[38;5;241m.\u001b[39mwarn(\n\u001b[1;32m   2609\u001b[0m             \u001b[38;5;124m\"\u001b[39m\u001b[38;5;124mlabels size, \u001b[39m\u001b[38;5;132;01m{0}\u001b[39;00m\u001b[38;5;124m, does not match size of target_names, \u001b[39m\u001b[38;5;132;01m{1}\u001b[39;00m\u001b[38;5;124m\"\u001b[39m\u001b[38;5;241m.\u001b[39mformat(\n\u001b[1;32m   2610\u001b[0m                 \u001b[38;5;28mlen\u001b[39m(labels), \u001b[38;5;28mlen\u001b[39m(target_names)\n\u001b[1;32m   2611\u001b[0m             )\n\u001b[1;32m   2612\u001b[0m         )\n\u001b[1;32m   2613\u001b[0m     \u001b[38;5;28;01melse\u001b[39;00m:\n\u001b[0;32m-> 2614\u001b[0m         \u001b[38;5;28;01mraise\u001b[39;00m \u001b[38;5;167;01mValueError\u001b[39;00m(\n\u001b[1;32m   2615\u001b[0m             \u001b[38;5;124m\"\u001b[39m\u001b[38;5;124mNumber of classes, \u001b[39m\u001b[38;5;132;01m{0}\u001b[39;00m\u001b[38;5;124m, does not match size of \u001b[39m\u001b[38;5;124m\"\u001b[39m\n\u001b[1;32m   2616\u001b[0m             \u001b[38;5;124m\"\u001b[39m\u001b[38;5;124mtarget_names, \u001b[39m\u001b[38;5;132;01m{1}\u001b[39;00m\u001b[38;5;124m. Try specifying the labels \u001b[39m\u001b[38;5;124m\"\u001b[39m\n\u001b[1;32m   2617\u001b[0m             \u001b[38;5;124m\"\u001b[39m\u001b[38;5;124mparameter\u001b[39m\u001b[38;5;124m\"\u001b[39m\u001b[38;5;241m.\u001b[39mformat(\u001b[38;5;28mlen\u001b[39m(labels), \u001b[38;5;28mlen\u001b[39m(target_names))\n\u001b[1;32m   2618\u001b[0m         )\n\u001b[1;32m   2619\u001b[0m \u001b[38;5;28;01mif\u001b[39;00m target_names \u001b[38;5;129;01mis\u001b[39;00m \u001b[38;5;28;01mNone\u001b[39;00m:\n\u001b[1;32m   2620\u001b[0m     target_names \u001b[38;5;241m=\u001b[39m [\u001b[38;5;124m\"\u001b[39m\u001b[38;5;132;01m%s\u001b[39;00m\u001b[38;5;124m\"\u001b[39m \u001b[38;5;241m%\u001b[39m l \u001b[38;5;28;01mfor\u001b[39;00m l \u001b[38;5;129;01min\u001b[39;00m labels]\n",
      "\u001b[0;31mValueError\u001b[0m: Number of classes, 12, does not match size of target_names, 13. Try specifying the labels parameter"
     ]
    }
   ],
   "source": [
    "# Data collator\n",
    "data_collator = DataCollatorWithPadding(tokenizer=tokenizer)\n",
    "\n",
    "# Training arguments\n",
    "training_args = TrainingArguments(\n",
    "    output_dir='./results',\n",
    "    per_device_eval_batch_size=16,\n",
    ")\n",
    "\n",
    "# Trainer\n",
    "trainer = Trainer(\n",
    "    model=model,\n",
    "    args=training_args,\n",
    "    eval_dataset=test_dataset,\n",
    "    tokenizer=tokenizer,\n",
    "    data_collator=data_collator,\n",
    ")\n",
    "\n",
    "# Evaluate the model\n",
    "results = trainer.evaluate()\n",
    "\n",
    "# Display the evaluation results\n",
    "print(results)\n",
    "\n",
    "# Generate predictions on the test set\n",
    "predictions = trainer.predict(test_dataset)\n",
    "\n",
    "# Extract predicted labels\n",
    "predicted_labels = predictions.predictions.argmax(axis=1)\n"
   ]
  },
  {
   "cell_type": "markdown",
   "metadata": {},
   "source": []
  },
  {
   "cell_type": "code",
   "execution_count": 14,
   "metadata": {},
   "outputs": [
    {
     "name": "stdout",
     "output_type": "stream",
     "text": [
      "BERT Classifier\n",
      "                              precision    recall  f1-score   support\n",
      "\n",
      "                        HOME       0.73      0.77      0.75      1206\n",
      "                     HOSPICE       0.00      0.00      0.00        27\n",
      "            HOME HEALTH CARE       0.43      0.51      0.47       676\n",
      "    SKILLED NURSING FACILITY       0.47      0.53      0.50       362\n",
      "                       REHAB       0.40      0.02      0.04        95\n",
      "                        DIED       0.38      0.30      0.33        71\n",
      "CHRONIC/LONG TERM ACUTE CARE       0.00      0.00      0.00        60\n",
      "              PSYCH FACILITY       0.40      0.11      0.17        18\n",
      "              AGAINST ADVICE       0.00      0.00      0.00        19\n",
      "              ACUTE HOSPITAL       0.00      0.00      0.00         7\n",
      "             ASSISTED LIVING       0.00      0.00      0.00         5\n",
      "         HEALTHCARE FACILITY       0.00      0.00      0.00         0\n",
      "              OTHER FACILITY       0.00      0.00      0.00        10\n",
      "\n",
      "                   micro avg       0.58      0.58      0.58      2556\n",
      "                   macro avg       0.22      0.17      0.17      2556\n",
      "                weighted avg       0.55      0.58      0.56      2556\n",
      "\n"
     ]
    },
    {
     "name": "stderr",
     "output_type": "stream",
     "text": [
      "/Users/vince/miniforge3/envs/cse251u/lib/python3.11/site-packages/sklearn/metrics/_classification.py:1497: UndefinedMetricWarning: Precision is ill-defined and being set to 0.0 in labels with no predicted samples. Use `zero_division` parameter to control this behavior.\n",
      "  _warn_prf(average, modifier, f\"{metric.capitalize()} is\", len(result))\n",
      "/Users/vince/miniforge3/envs/cse251u/lib/python3.11/site-packages/sklearn/metrics/_classification.py:1497: UndefinedMetricWarning: Recall is ill-defined and being set to 0.0 in labels with no true samples. Use `zero_division` parameter to control this behavior.\n",
      "  _warn_prf(average, modifier, f\"{metric.capitalize()} is\", len(result))\n",
      "/Users/vince/miniforge3/envs/cse251u/lib/python3.11/site-packages/sklearn/metrics/_classification.py:1497: UndefinedMetricWarning: F-score is ill-defined and being set to 0.0 in labels with no true nor predicted samples. Use `zero_division` parameter to control this behavior.\n",
      "  _warn_prf(average, modifier, f\"{metric.capitalize()} is\", len(result))\n",
      "/Users/vince/miniforge3/envs/cse251u/lib/python3.11/site-packages/sklearn/metrics/_classification.py:1497: UndefinedMetricWarning: Precision is ill-defined and being set to 0.0 in labels with no predicted samples. Use `zero_division` parameter to control this behavior.\n",
      "  _warn_prf(average, modifier, f\"{metric.capitalize()} is\", len(result))\n",
      "/Users/vince/miniforge3/envs/cse251u/lib/python3.11/site-packages/sklearn/metrics/_classification.py:1497: UndefinedMetricWarning: Recall is ill-defined and being set to 0.0 in labels with no true samples. Use `zero_division` parameter to control this behavior.\n",
      "  _warn_prf(average, modifier, f\"{metric.capitalize()} is\", len(result))\n",
      "/Users/vince/miniforge3/envs/cse251u/lib/python3.11/site-packages/sklearn/metrics/_classification.py:1497: UndefinedMetricWarning: F-score is ill-defined and being set to 0.0 in labels with no true nor predicted samples. Use `zero_division` parameter to control this behavior.\n",
      "  _warn_prf(average, modifier, f\"{metric.capitalize()} is\", len(result))\n",
      "/Users/vince/miniforge3/envs/cse251u/lib/python3.11/site-packages/sklearn/metrics/_classification.py:1497: UndefinedMetricWarning: Precision is ill-defined and being set to 0.0 in labels with no predicted samples. Use `zero_division` parameter to control this behavior.\n",
      "  _warn_prf(average, modifier, f\"{metric.capitalize()} is\", len(result))\n",
      "/Users/vince/miniforge3/envs/cse251u/lib/python3.11/site-packages/sklearn/metrics/_classification.py:1497: UndefinedMetricWarning: Recall is ill-defined and being set to 0.0 in labels with no true samples. Use `zero_division` parameter to control this behavior.\n",
      "  _warn_prf(average, modifier, f\"{metric.capitalize()} is\", len(result))\n",
      "/Users/vince/miniforge3/envs/cse251u/lib/python3.11/site-packages/sklearn/metrics/_classification.py:1497: UndefinedMetricWarning: F-score is ill-defined and being set to 0.0 in labels with no true nor predicted samples. Use `zero_division` parameter to control this behavior.\n",
      "  _warn_prf(average, modifier, f\"{metric.capitalize()} is\", len(result))\n"
     ]
    }
   ],
   "source": [
    "\n",
    "# Map the numerical labels back to the original labels\n",
    "inverse_label_mapping = {v: k for k, v in label_mapping.items()}\n",
    "predicted_labels_str = [inverse_label_mapping[label] for label in predicted_labels]\n",
    "true_labels_str = [inverse_label_mapping[label] for label in y_test]\n",
    "\n",
    "# Create a DataFrame to compare the true and predicted labels\n",
    "comparison_df = pd.DataFrame({\n",
    "    'True Label': true_labels_str,\n",
    "    'Predicted Label': predicted_labels_str\n",
    "})\n",
    "\n",
    "# Display the comparison\n",
    "comparison_df.head()\n",
    "\n",
    "# Generate a classification report with all possible labels\n",
    "all_labels = sorted(list(inverse_label_mapping.keys()))  # <-- Change: Include all possible label indices\n",
    "report = classification_report(y_test, predicted_labels, labels=all_labels, target_names=list(inverse_label_mapping.values()))  # <-- Change: Specify labels parameter\n",
    "\n",
    "# Display the classification report\n",
    "print('BERT Classifier')\n",
    "print(report)"
   ]
  },
  {
   "cell_type": "markdown",
   "metadata": {},
   "source": [
    "BERT classifier performs worse than baseline, probably due to limited context window. Most discharge notes are of length"
   ]
  },
  {
   "cell_type": "code",
   "execution_count": 11,
   "metadata": {},
   "outputs": [
    {
     "data": {
      "text/plain": [
       "5880     Subject ID: 10225793, Hospital Admission ID: 2...\n",
       "12042    Subject ID: 10455855, Hospital Admission ID: 2...\n",
       "7903     Subject ID: 10297774, Hospital Admission ID: 2...\n",
       "12541    Subject ID: 10475876, Hospital Admission ID: 2...\n",
       "565      Subject ID: 10020852, Hospital Admission ID: 2...\n",
       "                               ...                        \n",
       "11964    Subject ID: 10453779, Hospital Admission ID: 2...\n",
       "5191     Subject ID: 10198913, Hospital Admission ID: 2...\n",
       "5390     Subject ID: 10206590, Hospital Admission ID: 2...\n",
       "860      Subject ID: 10031358, Hospital Admission ID: 2...\n",
       "7270     Subject ID: 10276723, Hospital Admission ID: 2...\n",
       "Name: training_text, Length: 10221, dtype: object"
      ]
     },
     "execution_count": 11,
     "metadata": {},
     "output_type": "execute_result"
    }
   ],
   "source": []
  },
  {
   "cell_type": "code",
   "execution_count": null,
   "metadata": {},
   "outputs": [],
   "source": []
  },
  {
   "cell_type": "code",
   "execution_count": null,
   "metadata": {},
   "outputs": [],
   "source": []
  },
  {
   "cell_type": "code",
   "execution_count": null,
   "metadata": {},
   "outputs": [],
   "source": []
  },
  {
   "cell_type": "code",
   "execution_count": null,
   "metadata": {},
   "outputs": [],
   "source": []
  },
  {
   "cell_type": "code",
   "execution_count": null,
   "metadata": {},
   "outputs": [],
   "source": []
  },
  {
   "cell_type": "code",
   "execution_count": null,
   "metadata": {},
   "outputs": [],
   "source": []
  },
  {
   "cell_type": "code",
   "execution_count": null,
   "metadata": {},
   "outputs": [],
   "source": []
  },
  {
   "cell_type": "code",
   "execution_count": null,
   "metadata": {},
   "outputs": [],
   "source": [
    "df = pd.read_csv('data/discharge_journal_df.csv')"
   ]
  },
  {
   "cell_type": "code",
   "execution_count": null,
   "metadata": {},
   "outputs": [],
   "source": [
    "import re\n",
    "\n",
    "# Basic text cleaning function\n",
    "def clean_text(text):\n",
    "    text = text.lower()\n",
    "    text = re.sub(r'\\s+', ' ', text)\n",
    "    text = re.sub(r'[^\\w\\s]', '', text)\n",
    "    return text\n",
    "\n",
    "df['cleaned_notes'] = df['text'].apply(clean_text)"
   ]
  },
  {
   "cell_type": "code",
   "execution_count": null,
   "metadata": {},
   "outputs": [],
   "source": [
    "from datasets import Dataset\n",
    "\n",
    "# Convert your DataFrame to Hugging Face Dataset\n",
    "dataset = Dataset.from_pandas(df[['cleaned_notes']])\n",
    "\n",
    "# Example function to tokenize and align labels\n",
    "from transformers import AutoTokenizer\n",
    "\n",
    "tokenizer = AutoTokenizer.from_pretrained(\"bert-base-uncased\")\n",
    "\n",
    "def tokenize_and_align_labels(examples):\n",
    "    tokenized_inputs = tokenizer(examples[\"cleaned_notes\"], truncation=True, padding=\"max_length\", max_length=128)\n",
    "    return tokenized_inputs\n",
    "\n",
    "tokenized_dataset = dataset.map(tokenize_and_align_labels, batched=True)\n"
   ]
  },
  {
   "cell_type": "code",
   "execution_count": null,
   "metadata": {},
   "outputs": [],
   "source": [
    "from transformers import AutoModelForTokenClassification, TrainingArguments, Trainer\n",
    "\n",
    "model = AutoModelForTokenClassification.from_pretrained(\"bert-base-uncased\", num_labels=NUMBER_OF_LABELS)\n",
    "\n",
    "training_args = TrainingArguments(\n",
    "    output_dir=\"./ner_results\",\n",
    "    evaluation_strategy=\"epoch\",\n",
    "    learning_rate=2e-5,\n",
    "    per_device_train_batch_size=16,\n",
    "    per_device_eval_batch_size=16,\n",
    "    num_train_epochs=3,\n",
    "    weight_decay=0.01,\n",
    ")\n",
    "\n",
    "trainer = Trainer(\n",
    "    model=model,\n",
    "    args=training_args,\n",
    "    train_dataset=tokenized_dataset['train'],\n",
    "    eval_dataset=tokenized_dataset['test'],\n",
    ")\n",
    "\n",
    "trainer.train()\n"
   ]
  },
  {
   "cell_type": "code",
   "execution_count": null,
   "metadata": {},
   "outputs": [],
   "source": [
    "results = trainer.evaluate()\n",
    "print(results)\n"
   ]
  },
  {
   "cell_type": "code",
   "execution_count": null,
   "metadata": {},
   "outputs": [],
   "source": [
    "import torch\n",
    "\n",
    "def extract_entities_with_model(text):\n",
    "    inputs = tokenizer(text, return_tensors=\"pt\", truncation=True, padding=\"max_length\", max_length=128)\n",
    "    outputs = model(**inputs)\n",
    "    predictions = torch.argmax(outputs.logits, dim=2)\n",
    "    tokens = tokenizer.convert_ids_to_tokens(inputs[\"input_ids\"][0])\n",
    "    entities = [(tokens[i], predictions[0][i].item()) for i in range(len(tokens))]\n",
    "    return entities\n",
    "\n",
    "df['entities_finetuned'] = df['cleaned_notes'].apply(extract_entities_with_model)\n"
   ]
  }
 ],
 "metadata": {
  "kernelspec": {
   "display_name": "cse251u",
   "language": "python",
   "name": "python3"
  },
  "language_info": {
   "codemirror_mode": {
    "name": "ipython",
    "version": 3
   },
   "file_extension": ".py",
   "mimetype": "text/x-python",
   "name": "python",
   "nbconvert_exporter": "python",
   "pygments_lexer": "ipython3",
   "version": "3.11.7"
  }
 },
 "nbformat": 4,
 "nbformat_minor": 2
}
