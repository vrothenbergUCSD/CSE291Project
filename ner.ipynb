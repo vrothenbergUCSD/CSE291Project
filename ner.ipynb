{
 "cells": [
  {
   "cell_type": "code",
   "execution_count": 5,
   "metadata": {},
   "outputs": [],
   "source": [
    "import pandas as pd\n",
    "import re\n",
    "\n",
    "# Load your MIMIC-IV discharge notes dataset\n",
    "df = pd.read_csv('data/discharge_journal_df.csv')"
   ]
  },
  {
   "cell_type": "code",
   "execution_count": 6,
   "metadata": {},
   "outputs": [
    {
     "data": {
      "text/plain": [
       "'Subject ID: 10000032, HAdm ID: 22595853, Chart Time: 2180-05-07 00:00:00\\n\\n \\nName:  ___                     Unit No:   ___\\n \\nAdmission Date:  ___              Discharge Date:   ___\\n \\nDate of Birth:  ___             Sex:   F\\n \\nService: MEDICINE\\n \\nAllergies: \\nNo Known Allergies / Adverse Drug Reactions\\n \\nAttending: ___\\n \\nChief Complaint:\\nWorsening ABD distension and pain \\n \\nMajor Surgical or Invasive Procedure:\\nParacentesis\\n\\n \\nHistory of Present Illness:\\n___ HCV cirrhosis c/b ascites, hiv on ART, h/o IVDU, COPD, \\nbioplar, PTSD, presented from OSH ED with worsening abd \\ndistension over past week.  \\nPt reports self-discontinuing lasix and spirnolactone ___ weeks \\nago, because she feels like \"they don\\'t do anything\" and that \\nshe \"doesn\\'t want to put more chemicals in her.\" She does not \\nfollow Na-restricted diets. In the past week, she notes that she \\nhas been having worsening abd distension and discomfort. She \\ndenies ___ edema, or SOB, or orthopnea. She denies f/c/n/v, d/c, \\ndysuria. She had food poisoning a week ago from eating stale \\ncake (n/v 20 min after food ingestion), which resolved the same \\nday. She denies other recent illness or sick contacts. She notes \\nthat she has been noticing gum bleeding while brushing her teeth \\nin recent weeks. she denies easy bruising, melena, BRBPR, \\nhemetesis, hemoptysis, or hematuria.  \\nBecause of her abd pain, she went to OSH ED and was transferred \\nto ___ for further care. Per ED report, pt has brief period of \\nconfusion - she did not recall the ultrasound or bloodwork at \\nosh. She denies recent drug use or alcohol use. She denies \\nfeeling confused, but reports that she is forgetful at times.  \\nIn the ED, initial vitals were 98.4 70 106/63 16 97%RA  \\nLabs notable for ALT/AST/AP ___ ___: ___, \\nTbili1.6, WBC 5K, platelet 77, INR 1.6  \\n\\n \\nPast Medical History:\\n1. HCV Cirrhosis  \\n2. No history of abnormal Pap smears.  \\n3. She had calcification in her breast, which was removed  \\npreviously and per patient not, it was benign.  \\n4. For HIV disease, she is being followed by Dr. ___ Dr.  \\n___.  \\n5. COPD  \\n6. Past history of smoking.  \\n7. She also had a skin lesion, which was biopsied and showed  \\nskin cancer per patient report and is scheduled for a complete  \\nremoval of the skin lesion in ___ of this year.  \\n8. She also had another lesion in her forehead with purple  \\ndiscoloration. It was biopsied to exclude the possibility of  \\n___\\'s sarcoma, the results is pending.  \\n9. A 15 mm hypoechoic lesion on her ultrasound on ___  \\nand is being monitored by an MRI.  \\n10. History of dysplasia of anus in ___.  \\n11. Bipolar affective disorder, currently manic, mild, and PTSD. \\n \\n12. History of cocaine and heroin use.  \\n\\n \\nSocial History:\\n___\\nFamily History:\\nShe a total of five siblings, but she is not  \\ntalking to most of them. She only has one brother that she is in \\n \\ntouch with and lives in ___. She is not aware of any  \\nknown GI or liver disease in her family.  \\nHer last alcohol consumption was one drink two months ago. No  \\nregular alcohol consumption. Last drug use ___ years ago. She  \\nquit smoking a couple of years ago.  \\n\\n \\nPhysical Exam:\\nVS: 98.1 107/61 78 18 97RA  \\nGeneral: in NAD  \\nHEENT: CTAB, anicteric sclera, OP clear  \\nNeck: supple, no LAD  \\nCV: RRR,S1S2, no m/r/g  \\nLungs: CTAb, prolonged expiratory phase, no w/r/r  \\nAbdomen: distended, mild diffuse tenderness, +flank dullness, \\ncannot percuss liver/spleen edge ___ distension  \\nGU: no foley  \\nExt: wwp, no c/e/e, + clubbing  \\nNeuro: AAO3, converse normally, able to recall 3 times after 5 \\nminutes, CN II-XII intact  \\n\\nDischarge:\\n\\nPHYSICAL EXAMINATION:  \\nVS: 98 105/70 95\\nGeneral: in NAD  \\nHEENT: anicteric sclera, OP clear  \\nNeck: supple, no LAD  \\nCV: RRR,S1S2, no m/r/g  \\nLungs: CTAb, prolonged expiratory phase, no w/r/r  \\nAbdomen: distended but improved, TTP in RUQ, \\nGU: no foley  \\nExt: wwp, no c/e/e, + clubbing  \\nNeuro: AAO3,  CN II-XII intact  \\n\\n \\nPertinent Results:\\n___ 10:25PM   GLUCOSE-109* UREA N-25* CREAT-0.3* SODIUM-138 \\nPOTASSIUM-3.4 CHLORIDE-105 TOTAL CO2-27 ANION GAP-9\\n___ 10:25PM   estGFR-Using this\\n___ 10:25PM   ALT(SGPT)-100* AST(SGOT)-114* ALK PHOS-114* \\nTOT BILI-1.6*\\n___ 10:25PM   LIPASE-77*\\n___ 10:25PM   ALBUMIN-3.3*\\n___ 10:25PM   WBC-5.0# RBC-4.29 HGB-14.3 HCT-42.6 MCV-99* \\nMCH-33.3* MCHC-33.5 RDW-15.7*\\n___ 10:25PM   NEUTS-70.3* LYMPHS-16.5* MONOS-8.1 EOS-4.2* \\nBASOS-0.8\\n___ 10:25PM   PLT COUNT-71*\\n___ 10:25PM   ___ PTT-30.9 ___\\n___ 10:25PM   ___\\n.\\n\\nCXR: No acute cardiopulmonary process.  \\nU/S:  \\n1. Nodular appearance of the liver compatible with cirrhosis. \\nSigns of portal  \\nhypertension including small amount of ascites and splenomegaly. \\n \\n2. Cholelithiasis.  \\n3. Patent portal veins with normal hepatopetal flow.  \\nDiagnostic para attempted in the ED, unsuccessful.  \\nOn the floor, pt c/o abd distension and discomfort.\\n \\nBrief Hospital Course:\\n___ HCV cirrhosis c/b ascites, hiv on ART, h/o IVDU, COPD, \\nbioplar, PTSD, presented from OSH ED with worsening abd \\ndistension over past week and confusion.  \\n\\n# Ascites - p/w worsening abd distension and discomfort for last \\nweek. likely ___ portal HTN given underlying liver disease, \\nthough no ascitic fluid available on night of admission. No \\nsigns of heart failure noted on exam. This was ___ to med \\nnon-compliance and lack of diet restriction. SBP negative\\ndiuretics:  \\n> Furosemide 40 mg PO DAILY  \\n> Spironolactone 50 mg PO DAILY, chosen over the usual 100mg \\ndose d/t K+ of 4.5.   \\n CXR was wnl, UA negative, Urine culture blood culture negative. \\n \\nPt was losing excess fluid appropriately with stable lytes on \\nthe above regimen. Pt was scheduled with current PCP for \\n___ check upon discharge.   \\nPt was scheduled for new PCP with Dr. ___ at ___ and \\nfollow up in Liver clinic to schedule outpatient screening EGD \\nand ___.   \\n \\n\\n \\nMedications on Admission:\\nThe Preadmission Medication list is accurate and complete.\\n1. Furosemide 20 mg PO DAILY \\n2. Spironolactone 50 mg PO DAILY \\n3. Albuterol Inhaler 2 PUFF IH Q4H:PRN wheezing, SOB \\n4. Raltegravir 400 mg PO BID \\n5. Emtricitabine-Tenofovir (Truvada) 1 TAB PO DAILY \\n6. Nicotine Patch 14 mg TD DAILY \\n7. Ipratropium Bromide Neb 1 NEB IH Q6H SOB \\n\\n \\nDischarge Medications:\\n1. Albuterol Inhaler 2 PUFF IH Q4H:PRN wheezing, SOB \\n2. Emtricitabine-Tenofovir (Truvada) 1 TAB PO DAILY \\n3. Furosemide 40 mg PO DAILY \\nRX *furosemide 40 mg 1 tablet(s) by mouth Daily Disp #*30 Tablet \\nRefills:*3\\n4. Ipratropium Bromide Neb 1 NEB IH Q6H SOB \\n5. Nicotine Patch 14 mg TD DAILY \\n6. Raltegravir 400 mg PO BID \\n7. Spironolactone 50 mg PO DAILY \\n8. Acetaminophen 500 mg PO Q6H:PRN pain \\n\\n \\nDischarge Disposition:\\nHome\\n \\nDischarge Diagnosis:\\nAscites from Portal HTN\\n\\n \\nDischarge Condition:\\nMental Status: Clear and coherent.\\nLevel of Consciousness: Alert and interactive.\\nActivity Status: Ambulatory - Independent.\\n\\n \\nDischarge Instructions:\\nDear Ms. ___,\\nIt was a pleasure taking care of you! You came to us with \\nstomach pain and worsening distension. While you were here we \\ndid a paracentesis to remove 1.5L of fluid from your belly. We \\nalso placed you on you 40 mg of Lasix and 50 mg of Aldactone to \\nhelp you urinate the excess fluid still in your belly. As we \\ndiscussed, everyone has a different dose of lasix required to \\nmake them urinate and it\\'s likely that you weren\\'t taking a high \\nenough dose. Please take these medications daily to keep excess \\nfluid off and eat a low salt diet. You will follow up with Dr. \\n___ in liver clinic and from there have your colonoscopy \\nand EGD scheduled. Of course, we are always here if you need us. \\nWe wish you all the best!\\nYour ___ Team.  \\n \\nFollowup Instructions:\\n___\\n'"
      ]
     },
     "execution_count": 6,
     "metadata": {},
     "output_type": "execute_result"
    }
   ],
   "source": [
    "df.text.iloc[0]"
   ]
  },
  {
   "cell_type": "code",
   "execution_count": 7,
   "metadata": {},
   "outputs": [],
   "source": [
    "\n",
    "# Basic text cleaning function\n",
    "def clean_text(text):\n",
    "    text = text.lower()\n",
    "    text = re.sub(r'\\s+', ' ', text)\n",
    "    text = re.sub(r'[^\\w\\s]', '', text)\n",
    "    return text\n",
    "\n",
    "df['cleaned_notes'] = df['text'].apply(clean_text)"
   ]
  },
  {
   "cell_type": "markdown",
   "metadata": {},
   "source": [
    "# Pre-trained NER Model (SpaCy)"
   ]
  },
  {
   "cell_type": "code",
   "execution_count": 8,
   "metadata": {},
   "outputs": [],
   "source": [
    "import spacy\n",
    "\n",
    "# Load pre-trained NER model\n",
    "nlp = spacy.load(\"en_core_web_sm\")\n",
    "\n",
    "# Apply the model to your cleaned discharge notes\n",
    "def extract_entities(text):\n",
    "    doc = nlp(text)\n",
    "    return [(ent.text, ent.label_) for ent in doc.ents]\n",
    "\n",
    "df['entities'] = df['cleaned_notes'].apply(extract_entities)\n"
   ]
  },
  {
   "cell_type": "code",
   "execution_count": 15,
   "metadata": {},
   "outputs": [
    {
     "name": "stdout",
     "output_type": "stream",
     "text": [
      "Number of labels: 18\n",
      "Unique labels: {'LANGUAGE', 'PRODUCT', 'LAW', 'EVENT', 'ORDINAL', 'MONEY', 'PERSON', 'CARDINAL', 'NORP', 'LOC', 'WORK_OF_ART', 'TIME', 'PERCENT', 'FAC', 'DATE', 'ORG', 'QUANTITY', 'GPE'}\n"
     ]
    }
   ],
   "source": [
    "# Extract all labels from the annotated sentences\n",
    "all_labels = [label for sentence in df['entities'] for _, label in sentence]\n",
    "\n",
    "# Get unique labels\n",
    "unique_labels = set(all_labels)\n",
    "\n",
    "# Count the number of unique labels\n",
    "NUMBER_OF_LABELS = len(unique_labels)\n",
    "\n",
    "print(f\"Number of labels: {NUMBER_OF_LABELS}\")\n",
    "print(f\"Unique labels: {unique_labels}\")"
   ]
  },
  {
   "cell_type": "code",
   "execution_count": 18,
   "metadata": {},
   "outputs": [
    {
     "name": "stdout",
     "output_type": "stream",
     "text": [
      "('subject id 10000032 hadm id 22595853 chart time 21800507 000000 name ___ '\n",
      " 'unit no ___ admission date ___ discharge date ___ date of birth ___ sex f '\n",
      " 'service medicine allergies no known allergies  adverse drug reactions '\n",
      " 'attending ___ chief complaint worsening abd distension and pain major '\n",
      " 'surgical or invasive procedure paracentesis history of present illness ___ '\n",
      " 'hcv cirrhosis cb ascites hiv on art ho ivdu copd bioplar ptsd presented from '\n",
      " 'osh ed with worsening abd distension over past week pt reports '\n",
      " 'selfdiscontinuing lasix and spirnolactone ___ weeks ago because she feels '\n",
      " 'like they dont do anything and that she doesnt want to put more chemicals in '\n",
      " 'her she does not follow narestricted diets in the past week she notes that '\n",
      " 'she has been having worsening abd distension and discomfort she denies ___ '\n",
      " 'edema or sob or orthopnea she denies fcnv dc dysuria she had food poisoning '\n",
      " 'a week ago from eating stale cake nv 20 min after food ingestion which '\n",
      " 'resolved the same day she denies other recent illness or sick contacts she '\n",
      " 'notes that she has been noticing gum bleeding while brushing her teeth in '\n",
      " 'recent weeks she denies easy bruising melena brbpr hemetesis hemoptysis or '\n",
      " 'hematuria because of her abd pain she went to osh ed and was transferred to '\n",
      " '___ for further care per ed report pt has brief period of confusion  she did '\n",
      " 'not recall the ultrasound or bloodwork at osh she denies recent drug use or '\n",
      " 'alcohol use she denies feeling confused but reports that she is forgetful at '\n",
      " 'times in the ed initial vitals were 984 70 10663 16 97ra labs notable for '\n",
      " 'altastap ___ ___ ___ tbili16 wbc 5k platelet 77 inr 16 past medical history '\n",
      " '1 hcv cirrhosis 2 no history of abnormal pap smears 3 she had calcification '\n",
      " 'in her breast which was removed previously and per patient not it was benign '\n",
      " '4 for hiv disease she is being followed by dr ___ dr ___ 5 copd 6 past '\n",
      " 'history of smoking 7 she also had a skin lesion which was biopsied and '\n",
      " 'showed skin cancer per patient report and is scheduled for a complete '\n",
      " 'removal of the skin lesion in ___ of this year 8 she also had another lesion '\n",
      " 'in her forehead with purple discoloration it was biopsied to exclude the '\n",
      " 'possibility of ___s sarcoma the results is pending 9 a 15 mm hypoechoic '\n",
      " 'lesion on her ultrasound on ___ and is being monitored by an mri 10 history '\n",
      " 'of dysplasia of anus in ___ 11 bipolar affective disorder currently manic '\n",
      " 'mild and ptsd 12 history of cocaine and heroin use social history ___ family '\n",
      " 'history she a total of five siblings but she is not talking to most of them '\n",
      " 'she only has one brother that she is in touch with and lives in ___ she is '\n",
      " 'not aware of any known gi or liver disease in her family her last alcohol '\n",
      " 'consumption was one drink two months ago no regular alcohol consumption last '\n",
      " 'drug use ___ years ago she quit smoking a couple of years ago physical exam '\n",
      " 'vs 981 10761 78 18 97ra general in nad heent ctab anicteric sclera op clear '\n",
      " 'neck supple no lad cv rrrs1s2 no mrg lungs ctab prolonged expiratory phase '\n",
      " 'no wrr abdomen distended mild diffuse tenderness flank dullness cannot '\n",
      " 'percuss liverspleen edge ___ distension gu no foley ext wwp no cee  clubbing '\n",
      " 'neuro aao3 converse normally able to recall 3 times after 5 minutes cn iixii '\n",
      " 'intact discharge physical examination vs 98 10570 95 general in nad heent '\n",
      " 'anicteric sclera op clear neck supple no lad cv rrrs1s2 no mrg lungs ctab '\n",
      " 'prolonged expiratory phase no wrr abdomen distended but improved ttp in ruq '\n",
      " 'gu no foley ext wwp no cee  clubbing neuro aao3 cn iixii intact pertinent '\n",
      " 'results ___ 1025pm glucose109 urea n25 creat03 sodium138 potassium34 '\n",
      " 'chloride105 total co227 anion gap9 ___ 1025pm estgfrusing this ___ 1025pm '\n",
      " 'altsgpt100 astsgot114 alk phos114 tot bili16 ___ 1025pm lipase77 ___ 1025pm '\n",
      " 'albumin33 ___ 1025pm wbc50 rbc429 hgb143 hct426 mcv99 mch333 mchc335 rdw157 '\n",
      " '___ 1025pm neuts703 lymphs165 monos81 eos42 basos08 ___ 1025pm plt count71 '\n",
      " '___ 1025pm ___ ptt309 ___ ___ 1025pm ___  cxr no acute cardiopulmonary '\n",
      " 'process us 1 nodular appearance of the liver compatible with cirrhosis signs '\n",
      " 'of portal hypertension including small amount of ascites and splenomegaly 2 '\n",
      " 'cholelithiasis 3 patent portal veins with normal hepatopetal flow diagnostic '\n",
      " 'para attempted in the ed unsuccessful on the floor pt co abd distension and '\n",
      " 'discomfort brief hospital course ___ hcv cirrhosis cb ascites hiv on art ho '\n",
      " 'ivdu copd bioplar ptsd presented from osh ed with worsening abd distension '\n",
      " 'over past week and confusion  ascites  pw worsening abd distension and '\n",
      " 'discomfort for last week likely ___ portal htn given underlying liver '\n",
      " 'disease though no ascitic fluid available on night of admission no signs of '\n",
      " 'heart failure noted on exam this was ___ to med noncompliance and lack of '\n",
      " 'diet restriction sbp negative diuretics  furosemide 40 mg po daily  '\n",
      " 'spironolactone 50 mg po daily chosen over the usual 100mg dose dt k of 45 '\n",
      " 'cxr was wnl ua negative urine culture blood culture negative pt was losing '\n",
      " 'excess fluid appropriately with stable lytes on the above regimen pt was '\n",
      " 'scheduled with current pcp for ___ check upon discharge pt was scheduled for '\n",
      " 'new pcp with dr ___ at ___ and follow up in liver clinic to schedule '\n",
      " 'outpatient screening egd and ___ medications on admission the preadmission '\n",
      " 'medication list is accurate and complete 1 furosemide 20 mg po daily 2 '\n",
      " 'spironolactone 50 mg po daily 3 albuterol inhaler 2 puff ih q4hprn wheezing '\n",
      " 'sob 4 raltegravir 400 mg po bid 5 emtricitabinetenofovir truvada 1 tab po '\n",
      " 'daily 6 nicotine patch 14 mg td daily 7 ipratropium bromide neb 1 neb ih q6h '\n",
      " 'sob discharge medications 1 albuterol inhaler 2 puff ih q4hprn wheezing sob '\n",
      " '2 emtricitabinetenofovir truvada 1 tab po daily 3 furosemide 40 mg po daily '\n",
      " 'rx furosemide 40 mg 1 tablets by mouth daily disp 30 tablet refills3 4 '\n",
      " 'ipratropium bromide neb 1 neb ih q6h sob 5 nicotine patch 14 mg td daily 6 '\n",
      " 'raltegravir 400 mg po bid 7 spironolactone 50 mg po daily 8 acetaminophen '\n",
      " '500 mg po q6hprn pain discharge disposition home discharge diagnosis ascites '\n",
      " 'from portal htn discharge condition mental status clear and coherent level '\n",
      " 'of consciousness alert and interactive activity status ambulatory  '\n",
      " 'independent discharge instructions dear ms ___ it was a pleasure taking care '\n",
      " 'of you you came to us with stomach pain and worsening distension while you '\n",
      " 'were here we did a paracentesis to remove 15l of fluid from your belly we '\n",
      " 'also placed you on you 40 mg of lasix and 50 mg of aldactone to help you '\n",
      " 'urinate the excess fluid still in your belly as we discussed everyone has a '\n",
      " 'different dose of lasix required to make them urinate and its likely that '\n",
      " 'you werent taking a high enough dose please take these medications daily to '\n",
      " 'keep excess fluid off and eat a low salt diet you will follow up with dr ___ '\n",
      " 'in liver clinic and from there have your colonoscopy and egd scheduled of '\n",
      " 'course we are always here if you need us we wish you all the best your ___ '\n",
      " 'team followup instructions ___ ')\n"
     ]
    }
   ],
   "source": [
    "from pprint import pprint\n",
    "\n",
    "pprint(df.iloc[0]['cleaned_notes'])"
   ]
  },
  {
   "cell_type": "code",
   "execution_count": 19,
   "metadata": {},
   "outputs": [
    {
     "name": "stdout",
     "output_type": "stream",
     "text": [
      "[('22595853', 'DATE'),\n",
      " ('21800507 000000', 'DATE'),\n",
      " ('sex f service', 'PERSON'),\n",
      " ('cb ascites hiv', 'ORG'),\n",
      " ('ho ivdu', 'PERSON'),\n",
      " ('past week', 'DATE'),\n",
      " ('weeks ago', 'DATE'),\n",
      " ('the past week', 'DATE'),\n",
      " ('a week ago', 'DATE'),\n",
      " ('20', 'CARDINAL'),\n",
      " ('recent weeks', 'DATE'),\n",
      " ('melena', 'ORG'),\n",
      " ('hematuria', 'GPE'),\n",
      " ('984', 'CARDINAL'),\n",
      " ('70 10663 16', 'DATE'),\n",
      " ('tbili16', 'PERSON'),\n",
      " ('5k', 'CARDINAL'),\n",
      " ('77', 'CARDINAL'),\n",
      " ('16', 'CARDINAL'),\n",
      " ('1', 'CARDINAL'),\n",
      " ('2', 'CARDINAL'),\n",
      " ('3', 'CARDINAL'),\n",
      " ('4', 'CARDINAL'),\n",
      " ('dr ___', 'PERSON'),\n",
      " ('5', 'CARDINAL'),\n",
      " ('6', 'CARDINAL'),\n",
      " ('this year 8', 'DATE'),\n",
      " ('9', 'CARDINAL'),\n",
      " ('15 mm', 'QUANTITY'),\n",
      " ('10', 'CARDINAL'),\n",
      " ('11', 'CARDINAL'),\n",
      " ('12', 'CARDINAL'),\n",
      " ('five', 'CARDINAL'),\n",
      " ('one', 'CARDINAL'),\n",
      " ('two months ago', 'DATE'),\n",
      " ('years ago', 'DATE'),\n",
      " ('a couple of years ago', 'DATE'),\n",
      " ('981 10761 78 18', 'DATE'),\n",
      " ('ctab', 'PERSON'),\n",
      " ('neuro aao3', 'PERSON'),\n",
      " ('3', 'CARDINAL'),\n",
      " ('5 minutes', 'TIME'),\n",
      " ('98 10570 95', 'DATE'),\n",
      " ('neuro aao3', 'PERSON'),\n",
      " ('potassium34', 'PERSON'),\n",
      " ('co227', 'ORG'),\n",
      " ('gap9', 'GPE'),\n",
      " ('1025pm', 'PERSON'),\n",
      " ('1025pm altsgpt100', 'PERSON'),\n",
      " ('bili16', 'CARDINAL'),\n",
      " ('1025pm lipase77', 'PERSON'),\n",
      " ('1025pm albumin33', 'PERSON'),\n",
      " ('1025pm', 'PERSON'),\n",
      " ('rdw157', 'PERSON'),\n",
      " ('1025pm', 'PERSON'),\n",
      " ('basos08', 'PERSON'),\n",
      " ('count71', 'FAC'),\n",
      " ('1025pm', 'PERSON'),\n",
      " ('ptt309', 'PRODUCT'),\n",
      " ('1025pm', 'PERSON'),\n",
      " ('1', 'CARDINAL'),\n",
      " ('2', 'CARDINAL'),\n",
      " ('3', 'CARDINAL'),\n",
      " ('cb ascites hiv', 'ORG'),\n",
      " ('ho ivdu', 'PERSON'),\n",
      " ('past week', 'DATE'),\n",
      " ('last week', 'DATE'),\n",
      " ('portal', 'PERSON'),\n",
      " ('night', 'TIME'),\n",
      " ('40 mg po', 'QUANTITY'),\n",
      " ('daily', 'DATE'),\n",
      " ('50 mg', 'QUANTITY'),\n",
      " ('daily', 'DATE'),\n",
      " ('100', 'CARDINAL'),\n",
      " ('dt k of', 'PERSON'),\n",
      " ('45', 'CARDINAL'),\n",
      " ('1', 'CARDINAL'),\n",
      " ('2', 'CARDINAL'),\n",
      " ('50', 'CARDINAL'),\n",
      " ('2', 'CARDINAL'),\n",
      " ('4', 'CARDINAL'),\n",
      " ('400', 'CARDINAL'),\n",
      " ('5', 'CARDINAL'),\n",
      " ('1 tab po', 'QUANTITY'),\n",
      " ('6', 'CARDINAL'),\n",
      " ('14', 'CARDINAL'),\n",
      " ('7', 'CARDINAL'),\n",
      " ('1', 'CARDINAL'),\n",
      " ('1', 'CARDINAL'),\n",
      " ('2', 'CARDINAL'),\n",
      " ('2 emtricitabinetenofovir', 'QUANTITY'),\n",
      " ('1 tab po', 'QUANTITY'),\n",
      " ('3 furosemide 40 mg', 'QUANTITY'),\n",
      " ('daily', 'DATE'),\n",
      " ('40', 'CARDINAL'),\n",
      " ('1', 'CARDINAL'),\n",
      " ('daily', 'DATE'),\n",
      " ('30', 'CARDINAL'),\n",
      " ('refills3 4', 'ORG'),\n",
      " ('1', 'CARDINAL'),\n",
      " ('5', 'CARDINAL'),\n",
      " ('14', 'CARDINAL'),\n",
      " ('daily', 'DATE'),\n",
      " ('400', 'CARDINAL'),\n",
      " ('7', 'CARDINAL'),\n",
      " ('50 mg po', 'QUANTITY'),\n",
      " ('500 mg', 'TIME'),\n",
      " ('15l', 'DATE'),\n",
      " ('40', 'CARDINAL'),\n",
      " ('50', 'CARDINAL'),\n",
      " ('daily', 'DATE')]\n"
     ]
    }
   ],
   "source": [
    "pprint(df.iloc[0]['entities'])"
   ]
  },
  {
   "cell_type": "code",
   "execution_count": 45,
   "metadata": {},
   "outputs": [
    {
     "data": {
      "text/plain": [
       "'Subject ID: 10000032, HAdm ID: 22595853, Chart Time: 2180-05-07 00:00:00\\n\\n \\nName:  ___                     Unit No:   ___\\n \\nAdmission Date:  ___              Discharge Date:   ___\\n \\nDate of Birth:  ___             Sex:   F\\n \\nService: MEDICINE\\n \\nAllergies: \\nNo Known Allergies / Adverse Drug Reactions\\n \\nAttending: ___\\n \\nChief Complaint:\\nWorsening ABD distension and pain \\n \\nMajor Surgical or Invasive Procedure:\\nParacentesis\\n\\n \\nHistory of Present Illness:\\n___ HCV cirrhosis c/b ascites, hiv on ART, h/o IVDU, COPD, \\nbioplar, PTSD, presented from OSH ED with worsening abd \\ndistension over past week.  \\nPt reports self-discontinuing lasix and spirnolactone ___ weeks \\nago, because she feels like \"they don\\'t do anything\" and that \\nshe \"doesn\\'t want to put more chemicals in her.\" She does not \\nfollow Na-restricted diets. In the past week, she notes that she \\nhas been having worsening abd distension and discomfort. She \\ndenies ___ edema, or SOB, or orthopnea. She denies f/c/n/v, d/c, \\ndysuria. She had food poisoning a week ago from eating stale \\ncake (n/v 20 min after food ingestion), which resolved the same \\nday. She denies other recent illness or sick contacts. She notes \\nthat she has been noticing gum bleeding while brushing her teeth \\nin recent weeks. she denies easy bruising, melena, BRBPR, \\nhemetesis, hemoptysis, or hematuria.  \\nBecause of her abd pain, she went to OSH ED and was transferred \\nto ___ for further care. Per ED report, pt has brief period of \\nconfusion - she did not recall the ultrasound or bloodwork at \\nosh. She denies recent drug use or alcohol use. She denies \\nfeeling confused, but reports that she is forgetful at times.  \\nIn the ED, initial vitals were 98.4 70 106/63 16 97%RA  \\nLabs notable for ALT/AST/AP ___ ___: ___, \\nTbili1.6, WBC 5K, platelet 77, INR 1.6  \\n\\n \\nPast Medical History:\\n1. HCV Cirrhosis  \\n2. No history of abnormal Pap smears.  \\n3. She had calcification in her breast, which was removed  \\npreviously and per patient not, it was benign.  \\n4. For HIV disease, she is being followed by Dr. ___ Dr.  \\n___.  \\n5. COPD  \\n6. Past history of smoking.  \\n7. She also had a skin lesion, which was biopsied and showed  \\nskin cancer per patient report and is scheduled for a complete  \\nremoval of the skin lesion in ___ of this year.  \\n8. She also had another lesion in her forehead with purple  \\ndiscoloration. It was biopsied to exclude the possibility of  \\n___\\'s sarcoma, the results is pending.  \\n9. A 15 mm hypoechoic lesion on her ultrasound on ___  \\nand is being monitored by an MRI.  \\n10. History of dysplasia of anus in ___.  \\n11. Bipolar affective disorder, currently manic, mild, and PTSD. \\n \\n12. History of cocaine and heroin use.  \\n\\n \\nSocial History:\\n___\\nFamily History:\\nShe a total of five siblings, but she is not  \\ntalking to most of them. She only has one brother that she is in \\n \\ntouch with and lives in ___. She is not aware of any  \\nknown GI or liver disease in her family.  \\nHer last alcohol consumption was one drink two months ago. No  \\nregular alcohol consumption. Last drug use ___ years ago. She  \\nquit smoking a couple of years ago.  \\n\\n \\nPhysical Exam:\\nVS: 98.1 107/61 78 18 97RA  \\nGeneral: in NAD  \\nHEENT: CTAB, anicteric sclera, OP clear  \\nNeck: supple, no LAD  \\nCV: RRR,S1S2, no m/r/g  \\nLungs: CTAb, prolonged expiratory phase, no w/r/r  \\nAbdomen: distended, mild diffuse tenderness, +flank dullness, \\ncannot percuss liver/spleen edge ___ distension  \\nGU: no foley  \\nExt: wwp, no c/e/e, + clubbing  \\nNeuro: AAO3, converse normally, able to recall 3 times after 5 \\nminutes, CN II-XII intact  \\n\\nDischarge:\\n\\nPHYSICAL EXAMINATION:  \\nVS: 98 105/70 95\\nGeneral: in NAD  \\nHEENT: anicteric sclera, OP clear  \\nNeck: supple, no LAD  \\nCV: RRR,S1S2, no m/r/g  \\nLungs: CTAb, prolonged expiratory phase, no w/r/r  \\nAbdomen: distended but improved, TTP in RUQ, \\nGU: no foley  \\nExt: wwp, no c/e/e, + clubbing  \\nNeuro: AAO3,  CN II-XII intact  \\n\\n \\nPertinent Results:\\n___ 10:25PM   GLUCOSE-109* UREA N-25* CREAT-0.3* SODIUM-138 \\nPOTASSIUM-3.4 CHLORIDE-105 TOTAL CO2-27 ANION GAP-9\\n___ 10:25PM   estGFR-Using this\\n___ 10:25PM   ALT(SGPT)-100* AST(SGOT)-114* ALK PHOS-114* \\nTOT BILI-1.6*\\n___ 10:25PM   LIPASE-77*\\n___ 10:25PM   ALBUMIN-3.3*\\n___ 10:25PM   WBC-5.0# RBC-4.29 HGB-14.3 HCT-42.6 MCV-99* \\nMCH-33.3* MCHC-33.5 RDW-15.7*\\n___ 10:25PM   NEUTS-70.3* LYMPHS-16.5* MONOS-8.1 EOS-4.2* \\nBASOS-0.8\\n___ 10:25PM   PLT COUNT-71*\\n___ 10:25PM   ___ PTT-30.9 ___\\n___ 10:25PM   ___\\n.\\n\\nCXR: No acute cardiopulmonary process.  \\nU/S:  \\n1. Nodular appearance of the liver compatible with cirrhosis. \\nSigns of portal  \\nhypertension including small amount of ascites and splenomegaly. \\n \\n2. Cholelithiasis.  \\n3. Patent portal veins with normal hepatopetal flow.  \\nDiagnostic para attempted in the ED, unsuccessful.  \\nOn the floor, pt c/o abd distension and discomfort.\\n \\nBrief Hospital Course:\\n___ HCV cirrhosis c/b ascites, hiv on ART, h/o IVDU, COPD, \\nbioplar, PTSD, presented from OSH ED with worsening abd \\ndistension over past week and confusion.  \\n\\n# Ascites - p/w worsening abd distension and discomfort for last \\nweek. likely ___ portal HTN given underlying liver disease, \\nthough no ascitic fluid available on night of admission. No \\nsigns of heart failure noted on exam. This was ___ to med \\nnon-compliance and lack of diet restriction. SBP negative\\ndiuretics:  \\n> Furosemide 40 mg PO DAILY  \\n> Spironolactone 50 mg PO DAILY, chosen over the usual 100mg \\ndose d/t K+ of 4.5.   \\n CXR was wnl, UA negative, Urine culture blood culture negative. \\n \\nPt was losing excess fluid appropriately with stable lytes on \\nthe above regimen. Pt was scheduled with current PCP for \\n___ check upon discharge.   \\nPt was scheduled for new PCP with Dr. ___ at ___ and \\nfollow up in Liver clinic to schedule outpatient screening EGD \\nand ___.   \\n \\n\\n \\nMedications on Admission:\\nThe Preadmission Medication list is accurate and complete.\\n1. Furosemide 20 mg PO DAILY \\n2. Spironolactone 50 mg PO DAILY \\n3. Albuterol Inhaler 2 PUFF IH Q4H:PRN wheezing, SOB \\n4. Raltegravir 400 mg PO BID \\n5. Emtricitabine-Tenofovir (Truvada) 1 TAB PO DAILY \\n6. Nicotine Patch 14 mg TD DAILY \\n7. Ipratropium Bromide Neb 1 NEB IH Q6H SOB \\n\\n \\nDischarge Medications:\\n1. Albuterol Inhaler 2 PUFF IH Q4H:PRN wheezing, SOB \\n2. Emtricitabine-Tenofovir (Truvada) 1 TAB PO DAILY \\n3. Furosemide 40 mg PO DAILY \\nRX *furosemide 40 mg 1 tablet(s) by mouth Daily Disp #*30 Tablet \\nRefills:*3\\n4. Ipratropium Bromide Neb 1 NEB IH Q6H SOB \\n5. Nicotine Patch 14 mg TD DAILY \\n6. Raltegravir 400 mg PO BID \\n7. Spironolactone 50 mg PO DAILY \\n8. Acetaminophen 500 mg PO Q6H:PRN pain \\n\\n \\nDischarge Disposition:\\nHome\\n \\nDischarge Diagnosis:\\nAscites from Portal HTN\\n\\n \\nDischarge Condition:\\nMental Status: Clear and coherent.\\nLevel of Consciousness: Alert and interactive.\\nActivity Status: Ambulatory - Independent.\\n\\n \\nDischarge Instructions:\\nDear Ms. ___,\\nIt was a pleasure taking care of you! You came to us with \\nstomach pain and worsening distension. While you were here we \\ndid a paracentesis to remove 1.5L of fluid from your belly. We \\nalso placed you on you 40 mg of Lasix and 50 mg of Aldactone to \\nhelp you urinate the excess fluid still in your belly. As we \\ndiscussed, everyone has a different dose of lasix required to \\nmake them urinate and it\\'s likely that you weren\\'t taking a high \\nenough dose. Please take these medications daily to keep excess \\nfluid off and eat a low salt diet. You will follow up with Dr. \\n___ in liver clinic and from there have your colonoscopy \\nand EGD scheduled. Of course, we are always here if you need us. \\nWe wish you all the best!\\nYour ___ Team.  \\n \\nFollowup Instructions:\\n___\\n'"
      ]
     },
     "execution_count": 45,
     "metadata": {},
     "output_type": "execute_result"
    }
   ],
   "source": [
    "df.text.iloc[0]"
   ]
  },
  {
   "cell_type": "markdown",
   "metadata": {},
   "source": [
    "SpaCy is not very good.\n",
    "\n",
    "## BioMedical NER"
   ]
  },
  {
   "cell_type": "code",
   "execution_count": 32,
   "metadata": {},
   "outputs": [
    {
     "name": "stdout",
     "output_type": "stream",
     "text": [
      "Number of labels: 84\n",
      "Labels: {0: 'O', 1: 'B-Activity', 2: 'B-Administration', 3: 'B-Age', 4: 'B-Area', 5: 'B-Biological_attribute', 6: 'B-Biological_structure', 7: 'B-Clinical_event', 8: 'B-Color', 9: 'B-Coreference', 10: 'B-Date', 11: 'B-Detailed_description', 12: 'B-Diagnostic_procedure', 13: 'B-Disease_disorder', 14: 'B-Distance', 15: 'B-Dosage', 16: 'B-Duration', 17: 'B-Family_history', 18: 'B-Frequency', 19: 'B-Height', 20: 'B-History', 21: 'B-Lab_value', 22: 'B-Mass', 23: 'B-Medication', 24: 'B-Non[biological](Detailed_description', 25: 'B-Nonbiological_location', 26: 'B-Occupation', 27: 'B-Other_entity', 28: 'B-Other_event', 29: 'B-Outcome', 30: 'B-Personal_[back](Biological_structure', 31: 'B-Personal_background', 32: 'B-Qualitative_concept', 33: 'B-Quantitative_concept', 34: 'B-Severity', 35: 'B-Sex', 36: 'B-Shape', 37: 'B-Sign_symptom', 38: 'B-Subject', 39: 'B-Texture', 40: 'B-Therapeutic_procedure', 41: 'B-Time', 42: 'B-Volume', 43: 'B-Weight', 44: 'I-Activity', 45: 'I-Administration', 46: 'I-Age', 47: 'I-Area', 48: 'I-Biological_attribute', 49: 'I-Biological_structure', 50: 'I-Clinical_event', 51: 'I-Color', 52: 'I-Coreference', 53: 'I-Date', 54: 'I-Detailed_description', 55: 'I-Diagnostic_procedure', 56: 'I-Disease_disorder', 57: 'I-Distance', 58: 'I-Dosage', 59: 'I-Duration', 60: 'I-Family_history', 61: 'I-Frequency', 62: 'I-Height', 63: 'I-History', 64: 'I-Lab_value', 65: 'I-Mass', 66: 'I-Medication', 67: 'I-Nonbiological_location', 68: 'I-Occupation', 69: 'I-Other_entity', 70: 'I-Other_event', 71: 'I-Outcome', 72: 'I-Personal_background', 73: 'I-Qualitative_concept', 74: 'I-Quantitative_concept', 75: 'I-Severity', 76: 'I-Shape', 77: 'I-Sign_symptom', 78: 'I-Subject', 79: 'I-Texture', 80: 'I-Therapeutic_procedure', 81: 'I-Time', 82: 'I-Volume', 83: 'I-Weight'}\n"
     ]
    }
   ],
   "source": [
    "from transformers import AutoTokenizer, AutoModelForTokenClassification\n",
    "\n",
    "# Load the BioBERT NER tokenizer and model\n",
    "model_name = \"d4data/biomedical-ner-all\"\n",
    "tokenizer = AutoTokenizer.from_pretrained(model_name)\n",
    "model = AutoModelForTokenClassification.from_pretrained(model_name)\n",
    "\n",
    "# Check the number of labels\n",
    "num_labels = model.config.num_labels\n",
    "print(f\"Number of labels: {num_labels}\")\n",
    "\n",
    "# Load the model's config to get the labels\n",
    "label_dict = model.config.id2label\n",
    "print(f\"Labels: {label_dict}\")\n"
   ]
  },
  {
   "cell_type": "code",
   "execution_count": 41,
   "metadata": {},
   "outputs": [
    {
     "name": "stderr",
     "output_type": "stream",
     "text": [
      "huggingface/tokenizers: The current process just got forked, after parallelism has already been used. Disabling parallelism to avoid deadlocks...\n",
      "To disable this warning, you can either:\n",
      "\t- Avoid using `tokenizers` before the fork if possible\n",
      "\t- Explicitly set the environment variable TOKENIZERS_PARALLELISM=(true | false)\n"
     ]
    },
    {
     "data": {
      "text/plain": [
       "[{'entity_group': 'Sign_symptom',\n",
       "  'score': 0.9999311,\n",
       "  'word': 'pal',\n",
       "  'start': 38,\n",
       "  'end': 41},\n",
       " {'entity_group': 'Sign_symptom',\n",
       "  'score': 0.90633225,\n",
       "  'word': '##pitations',\n",
       "  'start': 41,\n",
       "  'end': 50},\n",
       " {'entity_group': 'Clinical_event',\n",
       "  'score': 0.99975544,\n",
       "  'word': 'follow',\n",
       "  'start': 54,\n",
       "  'end': 60},\n",
       " {'entity_group': 'Date',\n",
       "  'score': 0.999867,\n",
       "  'word': '6 months after',\n",
       "  'start': 64,\n",
       "  'end': 78}]"
      ]
     },
     "execution_count": 41,
     "metadata": {},
     "output_type": "execute_result"
    }
   ],
   "source": [
    "from transformers import pipeline\n",
    "from transformers import AutoTokenizer, AutoModelForTokenClassification\n",
    "\n",
    "tokenizer = AutoTokenizer.from_pretrained(\"d4data/biomedical-ner-all\")\n",
    "model = AutoModelForTokenClassification.from_pretrained(\"d4data/biomedical-ner-all\")\n",
    "\n",
    "pipe = pipeline(\"ner\", model=model, tokenizer=tokenizer, aggregation_strategy=\"simple\") # pass device=0 if using gpu\n",
    "pipe(\"\"\"The patient reported no recurrence of palpitations at follow-up 6 months after the ablation.\"\"\")\n"
   ]
  },
  {
   "cell_type": "code",
   "execution_count": 50,
   "metadata": {},
   "outputs": [
    {
     "name": "stderr",
     "output_type": "stream",
     "text": [
      "[E thread_pool.cpp:110] Exception in thread pool task: mutex lock failed: Invalid argument\n",
      "[E thread_pool.cpp:110] Exception in thread pool task: mutex lock failed: Invalid argument\n",
      "[E thread_pool.cpp:110] Exception in thread pool task: mutex lock failed: Invalid argument\n",
      "[E thread_pool.cpp:110] Exception in thread pool task: mutex lock failed: Invalid argument\n",
      "[E thread_pool.cpp:110] Exception in thread pool task: mutex lock failed: Invalid argument\n"
     ]
    },
    {
     "ename": "KeyboardInterrupt",
     "evalue": "",
     "output_type": "error",
     "traceback": [
      "\u001b[0;31m---------------------------------------------------------------------------\u001b[0m",
      "\u001b[0;31mKeyboardInterrupt\u001b[0m                         Traceback (most recent call last)",
      "Cell \u001b[0;32mIn[50], line 1\u001b[0m\n\u001b[0;32m----> 1\u001b[0m df[\u001b[38;5;124m'\u001b[39m\u001b[38;5;124mner_entities\u001b[39m\u001b[38;5;124m'\u001b[39m] \u001b[38;5;241m=\u001b[39m \u001b[43mdf\u001b[49m\u001b[43m[\u001b[49m\u001b[38;5;124;43m'\u001b[39;49m\u001b[38;5;124;43mtext\u001b[39;49m\u001b[38;5;124;43m'\u001b[39;49m\u001b[43m]\u001b[49m\u001b[38;5;241;43m.\u001b[39;49m\u001b[43mapply\u001b[49m\u001b[43m(\u001b[49m\u001b[43mpipe\u001b[49m\u001b[43m)\u001b[49m\n",
      "File \u001b[0;32m~/miniforge3/envs/cse251u/lib/python3.11/site-packages/pandas/core/series.py:4915\u001b[0m, in \u001b[0;36mSeries.apply\u001b[0;34m(self, func, convert_dtype, args, by_row, **kwargs)\u001b[0m\n\u001b[1;32m   4780\u001b[0m \u001b[38;5;28;01mdef\u001b[39;00m \u001b[38;5;21mapply\u001b[39m(\n\u001b[1;32m   4781\u001b[0m     \u001b[38;5;28mself\u001b[39m,\n\u001b[1;32m   4782\u001b[0m     func: AggFuncType,\n\u001b[0;32m   (...)\u001b[0m\n\u001b[1;32m   4787\u001b[0m     \u001b[38;5;241m*\u001b[39m\u001b[38;5;241m*\u001b[39mkwargs,\n\u001b[1;32m   4788\u001b[0m ) \u001b[38;5;241m-\u001b[39m\u001b[38;5;241m>\u001b[39m DataFrame \u001b[38;5;241m|\u001b[39m Series:\n\u001b[1;32m   4789\u001b[0m \u001b[38;5;250m    \u001b[39m\u001b[38;5;124;03m\"\"\"\u001b[39;00m\n\u001b[1;32m   4790\u001b[0m \u001b[38;5;124;03m    Invoke function on values of Series.\u001b[39;00m\n\u001b[1;32m   4791\u001b[0m \n\u001b[0;32m   (...)\u001b[0m\n\u001b[1;32m   4906\u001b[0m \u001b[38;5;124;03m    dtype: float64\u001b[39;00m\n\u001b[1;32m   4907\u001b[0m \u001b[38;5;124;03m    \"\"\"\u001b[39;00m\n\u001b[1;32m   4908\u001b[0m     \u001b[38;5;28;01mreturn\u001b[39;00m \u001b[43mSeriesApply\u001b[49m\u001b[43m(\u001b[49m\n\u001b[1;32m   4909\u001b[0m \u001b[43m        \u001b[49m\u001b[38;5;28;43mself\u001b[39;49m\u001b[43m,\u001b[49m\n\u001b[1;32m   4910\u001b[0m \u001b[43m        \u001b[49m\u001b[43mfunc\u001b[49m\u001b[43m,\u001b[49m\n\u001b[1;32m   4911\u001b[0m \u001b[43m        \u001b[49m\u001b[43mconvert_dtype\u001b[49m\u001b[38;5;241;43m=\u001b[39;49m\u001b[43mconvert_dtype\u001b[49m\u001b[43m,\u001b[49m\n\u001b[1;32m   4912\u001b[0m \u001b[43m        \u001b[49m\u001b[43mby_row\u001b[49m\u001b[38;5;241;43m=\u001b[39;49m\u001b[43mby_row\u001b[49m\u001b[43m,\u001b[49m\n\u001b[1;32m   4913\u001b[0m \u001b[43m        \u001b[49m\u001b[43margs\u001b[49m\u001b[38;5;241;43m=\u001b[39;49m\u001b[43margs\u001b[49m\u001b[43m,\u001b[49m\n\u001b[1;32m   4914\u001b[0m \u001b[43m        \u001b[49m\u001b[43mkwargs\u001b[49m\u001b[38;5;241;43m=\u001b[39;49m\u001b[43mkwargs\u001b[49m\u001b[43m,\u001b[49m\n\u001b[0;32m-> 4915\u001b[0m \u001b[43m    \u001b[49m\u001b[43m)\u001b[49m\u001b[38;5;241;43m.\u001b[39;49m\u001b[43mapply\u001b[49m\u001b[43m(\u001b[49m\u001b[43m)\u001b[49m\n",
      "File \u001b[0;32m~/miniforge3/envs/cse251u/lib/python3.11/site-packages/pandas/core/apply.py:1427\u001b[0m, in \u001b[0;36mSeriesApply.apply\u001b[0;34m(self)\u001b[0m\n\u001b[1;32m   1424\u001b[0m     \u001b[38;5;28;01mreturn\u001b[39;00m \u001b[38;5;28mself\u001b[39m\u001b[38;5;241m.\u001b[39mapply_compat()\n\u001b[1;32m   1426\u001b[0m \u001b[38;5;66;03m# self.func is Callable\u001b[39;00m\n\u001b[0;32m-> 1427\u001b[0m \u001b[38;5;28;01mreturn\u001b[39;00m \u001b[38;5;28;43mself\u001b[39;49m\u001b[38;5;241;43m.\u001b[39;49m\u001b[43mapply_standard\u001b[49m\u001b[43m(\u001b[49m\u001b[43m)\u001b[49m\n",
      "File \u001b[0;32m~/miniforge3/envs/cse251u/lib/python3.11/site-packages/pandas/core/apply.py:1507\u001b[0m, in \u001b[0;36mSeriesApply.apply_standard\u001b[0;34m(self)\u001b[0m\n\u001b[1;32m   1501\u001b[0m \u001b[38;5;66;03m# row-wise access\u001b[39;00m\n\u001b[1;32m   1502\u001b[0m \u001b[38;5;66;03m# apply doesn't have a `na_action` keyword and for backward compat reasons\u001b[39;00m\n\u001b[1;32m   1503\u001b[0m \u001b[38;5;66;03m# we need to give `na_action=\"ignore\"` for categorical data.\u001b[39;00m\n\u001b[1;32m   1504\u001b[0m \u001b[38;5;66;03m# TODO: remove the `na_action=\"ignore\"` when that default has been changed in\u001b[39;00m\n\u001b[1;32m   1505\u001b[0m \u001b[38;5;66;03m#  Categorical (GH51645).\u001b[39;00m\n\u001b[1;32m   1506\u001b[0m action \u001b[38;5;241m=\u001b[39m \u001b[38;5;124m\"\u001b[39m\u001b[38;5;124mignore\u001b[39m\u001b[38;5;124m\"\u001b[39m \u001b[38;5;28;01mif\u001b[39;00m \u001b[38;5;28misinstance\u001b[39m(obj\u001b[38;5;241m.\u001b[39mdtype, CategoricalDtype) \u001b[38;5;28;01melse\u001b[39;00m \u001b[38;5;28;01mNone\u001b[39;00m\n\u001b[0;32m-> 1507\u001b[0m mapped \u001b[38;5;241m=\u001b[39m \u001b[43mobj\u001b[49m\u001b[38;5;241;43m.\u001b[39;49m\u001b[43m_map_values\u001b[49m\u001b[43m(\u001b[49m\n\u001b[1;32m   1508\u001b[0m \u001b[43m    \u001b[49m\u001b[43mmapper\u001b[49m\u001b[38;5;241;43m=\u001b[39;49m\u001b[43mcurried\u001b[49m\u001b[43m,\u001b[49m\u001b[43m \u001b[49m\u001b[43mna_action\u001b[49m\u001b[38;5;241;43m=\u001b[39;49m\u001b[43maction\u001b[49m\u001b[43m,\u001b[49m\u001b[43m \u001b[49m\u001b[43mconvert\u001b[49m\u001b[38;5;241;43m=\u001b[39;49m\u001b[38;5;28;43mself\u001b[39;49m\u001b[38;5;241;43m.\u001b[39;49m\u001b[43mconvert_dtype\u001b[49m\n\u001b[1;32m   1509\u001b[0m \u001b[43m\u001b[49m\u001b[43m)\u001b[49m\n\u001b[1;32m   1511\u001b[0m \u001b[38;5;28;01mif\u001b[39;00m \u001b[38;5;28mlen\u001b[39m(mapped) \u001b[38;5;129;01mand\u001b[39;00m \u001b[38;5;28misinstance\u001b[39m(mapped[\u001b[38;5;241m0\u001b[39m], ABCSeries):\n\u001b[1;32m   1512\u001b[0m     \u001b[38;5;66;03m# GH#43986 Need to do list(mapped) in order to get treated as nested\u001b[39;00m\n\u001b[1;32m   1513\u001b[0m     \u001b[38;5;66;03m#  See also GH#25959 regarding EA support\u001b[39;00m\n\u001b[1;32m   1514\u001b[0m     \u001b[38;5;28;01mreturn\u001b[39;00m obj\u001b[38;5;241m.\u001b[39m_constructor_expanddim(\u001b[38;5;28mlist\u001b[39m(mapped), index\u001b[38;5;241m=\u001b[39mobj\u001b[38;5;241m.\u001b[39mindex)\n",
      "File \u001b[0;32m~/miniforge3/envs/cse251u/lib/python3.11/site-packages/pandas/core/base.py:921\u001b[0m, in \u001b[0;36mIndexOpsMixin._map_values\u001b[0;34m(self, mapper, na_action, convert)\u001b[0m\n\u001b[1;32m    918\u001b[0m \u001b[38;5;28;01mif\u001b[39;00m \u001b[38;5;28misinstance\u001b[39m(arr, ExtensionArray):\n\u001b[1;32m    919\u001b[0m     \u001b[38;5;28;01mreturn\u001b[39;00m arr\u001b[38;5;241m.\u001b[39mmap(mapper, na_action\u001b[38;5;241m=\u001b[39mna_action)\n\u001b[0;32m--> 921\u001b[0m \u001b[38;5;28;01mreturn\u001b[39;00m \u001b[43malgorithms\u001b[49m\u001b[38;5;241;43m.\u001b[39;49m\u001b[43mmap_array\u001b[49m\u001b[43m(\u001b[49m\u001b[43marr\u001b[49m\u001b[43m,\u001b[49m\u001b[43m \u001b[49m\u001b[43mmapper\u001b[49m\u001b[43m,\u001b[49m\u001b[43m \u001b[49m\u001b[43mna_action\u001b[49m\u001b[38;5;241;43m=\u001b[39;49m\u001b[43mna_action\u001b[49m\u001b[43m,\u001b[49m\u001b[43m \u001b[49m\u001b[43mconvert\u001b[49m\u001b[38;5;241;43m=\u001b[39;49m\u001b[43mconvert\u001b[49m\u001b[43m)\u001b[49m\n",
      "File \u001b[0;32m~/miniforge3/envs/cse251u/lib/python3.11/site-packages/pandas/core/algorithms.py:1743\u001b[0m, in \u001b[0;36mmap_array\u001b[0;34m(arr, mapper, na_action, convert)\u001b[0m\n\u001b[1;32m   1741\u001b[0m values \u001b[38;5;241m=\u001b[39m arr\u001b[38;5;241m.\u001b[39mastype(\u001b[38;5;28mobject\u001b[39m, copy\u001b[38;5;241m=\u001b[39m\u001b[38;5;28;01mFalse\u001b[39;00m)\n\u001b[1;32m   1742\u001b[0m \u001b[38;5;28;01mif\u001b[39;00m na_action \u001b[38;5;129;01mis\u001b[39;00m \u001b[38;5;28;01mNone\u001b[39;00m:\n\u001b[0;32m-> 1743\u001b[0m     \u001b[38;5;28;01mreturn\u001b[39;00m \u001b[43mlib\u001b[49m\u001b[38;5;241;43m.\u001b[39;49m\u001b[43mmap_infer\u001b[49m\u001b[43m(\u001b[49m\u001b[43mvalues\u001b[49m\u001b[43m,\u001b[49m\u001b[43m \u001b[49m\u001b[43mmapper\u001b[49m\u001b[43m,\u001b[49m\u001b[43m \u001b[49m\u001b[43mconvert\u001b[49m\u001b[38;5;241;43m=\u001b[39;49m\u001b[43mconvert\u001b[49m\u001b[43m)\u001b[49m\n\u001b[1;32m   1744\u001b[0m \u001b[38;5;28;01melse\u001b[39;00m:\n\u001b[1;32m   1745\u001b[0m     \u001b[38;5;28;01mreturn\u001b[39;00m lib\u001b[38;5;241m.\u001b[39mmap_infer_mask(\n\u001b[1;32m   1746\u001b[0m         values, mapper, mask\u001b[38;5;241m=\u001b[39misna(values)\u001b[38;5;241m.\u001b[39mview(np\u001b[38;5;241m.\u001b[39muint8), convert\u001b[38;5;241m=\u001b[39mconvert\n\u001b[1;32m   1747\u001b[0m     )\n",
      "File \u001b[0;32mlib.pyx:2972\u001b[0m, in \u001b[0;36mpandas._libs.lib.map_infer\u001b[0;34m()\u001b[0m\n",
      "File \u001b[0;32m~/miniforge3/envs/cse251u/lib/python3.11/site-packages/transformers/pipelines/token_classification.py:248\u001b[0m, in \u001b[0;36mTokenClassificationPipeline.__call__\u001b[0;34m(self, inputs, **kwargs)\u001b[0m\n\u001b[1;32m    245\u001b[0m \u001b[38;5;28;01mif\u001b[39;00m offset_mapping:\n\u001b[1;32m    246\u001b[0m     kwargs[\u001b[38;5;124m\"\u001b[39m\u001b[38;5;124moffset_mapping\u001b[39m\u001b[38;5;124m\"\u001b[39m] \u001b[38;5;241m=\u001b[39m offset_mapping\n\u001b[0;32m--> 248\u001b[0m \u001b[38;5;28;01mreturn\u001b[39;00m \u001b[38;5;28;43msuper\u001b[39;49m\u001b[43m(\u001b[49m\u001b[43m)\u001b[49m\u001b[38;5;241;43m.\u001b[39;49m\u001b[38;5;21;43m__call__\u001b[39;49m\u001b[43m(\u001b[49m\u001b[43minputs\u001b[49m\u001b[43m,\u001b[49m\u001b[43m \u001b[49m\u001b[38;5;241;43m*\u001b[39;49m\u001b[38;5;241;43m*\u001b[39;49m\u001b[43mkwargs\u001b[49m\u001b[43m)\u001b[49m\n",
      "File \u001b[0;32m~/miniforge3/envs/cse251u/lib/python3.11/site-packages/transformers/pipelines/base.py:1198\u001b[0m, in \u001b[0;36mPipeline.__call__\u001b[0;34m(self, inputs, num_workers, batch_size, *args, **kwargs)\u001b[0m\n\u001b[1;32m   1196\u001b[0m     \u001b[38;5;28;01mreturn\u001b[39;00m \u001b[38;5;28mself\u001b[39m\u001b[38;5;241m.\u001b[39miterate(inputs, preprocess_params, forward_params, postprocess_params)\n\u001b[1;32m   1197\u001b[0m \u001b[38;5;28;01melif\u001b[39;00m \u001b[38;5;28mself\u001b[39m\u001b[38;5;241m.\u001b[39mframework \u001b[38;5;241m==\u001b[39m \u001b[38;5;124m\"\u001b[39m\u001b[38;5;124mpt\u001b[39m\u001b[38;5;124m\"\u001b[39m \u001b[38;5;129;01mand\u001b[39;00m \u001b[38;5;28misinstance\u001b[39m(\u001b[38;5;28mself\u001b[39m, ChunkPipeline):\n\u001b[0;32m-> 1198\u001b[0m     \u001b[38;5;28;01mreturn\u001b[39;00m \u001b[38;5;28mnext\u001b[39m(\n\u001b[1;32m   1199\u001b[0m         \u001b[38;5;28miter\u001b[39m(\n\u001b[1;32m   1200\u001b[0m             \u001b[38;5;28mself\u001b[39m\u001b[38;5;241m.\u001b[39mget_iterator(\n\u001b[1;32m   1201\u001b[0m                 [inputs], num_workers, batch_size, preprocess_params, forward_params, postprocess_params\n\u001b[1;32m   1202\u001b[0m             )\n\u001b[1;32m   1203\u001b[0m         )\n\u001b[1;32m   1204\u001b[0m     )\n\u001b[1;32m   1205\u001b[0m \u001b[38;5;28;01melse\u001b[39;00m:\n\u001b[1;32m   1206\u001b[0m     \u001b[38;5;28;01mreturn\u001b[39;00m \u001b[38;5;28mself\u001b[39m\u001b[38;5;241m.\u001b[39mrun_single(inputs, preprocess_params, forward_params, postprocess_params)\n",
      "File \u001b[0;32m~/miniforge3/envs/cse251u/lib/python3.11/site-packages/transformers/pipelines/pt_utils.py:124\u001b[0m, in \u001b[0;36mPipelineIterator.__next__\u001b[0;34m(self)\u001b[0m\n\u001b[1;32m    121\u001b[0m     \u001b[38;5;28;01mreturn\u001b[39;00m \u001b[38;5;28mself\u001b[39m\u001b[38;5;241m.\u001b[39mloader_batch_item()\n\u001b[1;32m    123\u001b[0m \u001b[38;5;66;03m# We're out of items within a batch\u001b[39;00m\n\u001b[0;32m--> 124\u001b[0m item \u001b[38;5;241m=\u001b[39m \u001b[38;5;28mnext\u001b[39m(\u001b[38;5;28mself\u001b[39m\u001b[38;5;241m.\u001b[39miterator)\n\u001b[1;32m    125\u001b[0m processed \u001b[38;5;241m=\u001b[39m \u001b[38;5;28mself\u001b[39m\u001b[38;5;241m.\u001b[39minfer(item, \u001b[38;5;241m*\u001b[39m\u001b[38;5;241m*\u001b[39m\u001b[38;5;28mself\u001b[39m\u001b[38;5;241m.\u001b[39mparams)\n\u001b[1;32m    126\u001b[0m \u001b[38;5;66;03m# We now have a batch of \"inferred things\".\u001b[39;00m\n",
      "File \u001b[0;32m~/miniforge3/envs/cse251u/lib/python3.11/site-packages/transformers/pipelines/pt_utils.py:266\u001b[0m, in \u001b[0;36mPipelinePackIterator.__next__\u001b[0;34m(self)\u001b[0m\n\u001b[1;32m    263\u001b[0m             \u001b[38;5;28;01mreturn\u001b[39;00m accumulator\n\u001b[1;32m    265\u001b[0m \u001b[38;5;28;01mwhile\u001b[39;00m \u001b[38;5;129;01mnot\u001b[39;00m is_last:\n\u001b[0;32m--> 266\u001b[0m     processed \u001b[38;5;241m=\u001b[39m \u001b[38;5;28;43mself\u001b[39;49m\u001b[38;5;241;43m.\u001b[39;49m\u001b[43minfer\u001b[49m\u001b[43m(\u001b[49m\u001b[38;5;28;43mnext\u001b[39;49m\u001b[43m(\u001b[49m\u001b[38;5;28;43mself\u001b[39;49m\u001b[38;5;241;43m.\u001b[39;49m\u001b[43miterator\u001b[49m\u001b[43m)\u001b[49m\u001b[43m,\u001b[49m\u001b[43m \u001b[49m\u001b[38;5;241;43m*\u001b[39;49m\u001b[38;5;241;43m*\u001b[39;49m\u001b[38;5;28;43mself\u001b[39;49m\u001b[38;5;241;43m.\u001b[39;49m\u001b[43mparams\u001b[49m\u001b[43m)\u001b[49m\n\u001b[1;32m    267\u001b[0m     \u001b[38;5;28;01mif\u001b[39;00m \u001b[38;5;28mself\u001b[39m\u001b[38;5;241m.\u001b[39mloader_batch_size \u001b[38;5;129;01mis\u001b[39;00m \u001b[38;5;129;01mnot\u001b[39;00m \u001b[38;5;28;01mNone\u001b[39;00m:\n\u001b[1;32m    268\u001b[0m         \u001b[38;5;28;01mif\u001b[39;00m \u001b[38;5;28misinstance\u001b[39m(processed, torch\u001b[38;5;241m.\u001b[39mTensor):\n",
      "File \u001b[0;32m~/miniforge3/envs/cse251u/lib/python3.11/site-packages/transformers/pipelines/base.py:1112\u001b[0m, in \u001b[0;36mPipeline.forward\u001b[0;34m(self, model_inputs, **forward_params)\u001b[0m\n\u001b[1;32m   1110\u001b[0m     \u001b[38;5;28;01mwith\u001b[39;00m inference_context():\n\u001b[1;32m   1111\u001b[0m         model_inputs \u001b[38;5;241m=\u001b[39m \u001b[38;5;28mself\u001b[39m\u001b[38;5;241m.\u001b[39m_ensure_tensor_on_device(model_inputs, device\u001b[38;5;241m=\u001b[39m\u001b[38;5;28mself\u001b[39m\u001b[38;5;241m.\u001b[39mdevice)\n\u001b[0;32m-> 1112\u001b[0m         model_outputs \u001b[38;5;241m=\u001b[39m \u001b[38;5;28;43mself\u001b[39;49m\u001b[38;5;241;43m.\u001b[39;49m\u001b[43m_forward\u001b[49m\u001b[43m(\u001b[49m\u001b[43mmodel_inputs\u001b[49m\u001b[43m,\u001b[49m\u001b[43m \u001b[49m\u001b[38;5;241;43m*\u001b[39;49m\u001b[38;5;241;43m*\u001b[39;49m\u001b[43mforward_params\u001b[49m\u001b[43m)\u001b[49m\n\u001b[1;32m   1113\u001b[0m         model_outputs \u001b[38;5;241m=\u001b[39m \u001b[38;5;28mself\u001b[39m\u001b[38;5;241m.\u001b[39m_ensure_tensor_on_device(model_outputs, device\u001b[38;5;241m=\u001b[39mtorch\u001b[38;5;241m.\u001b[39mdevice(\u001b[38;5;124m\"\u001b[39m\u001b[38;5;124mcpu\u001b[39m\u001b[38;5;124m\"\u001b[39m))\n\u001b[1;32m   1114\u001b[0m \u001b[38;5;28;01melse\u001b[39;00m:\n",
      "File \u001b[0;32m~/miniforge3/envs/cse251u/lib/python3.11/site-packages/transformers/pipelines/token_classification.py:285\u001b[0m, in \u001b[0;36mTokenClassificationPipeline._forward\u001b[0;34m(self, model_inputs)\u001b[0m\n\u001b[1;32m    283\u001b[0m     logits \u001b[38;5;241m=\u001b[39m \u001b[38;5;28mself\u001b[39m\u001b[38;5;241m.\u001b[39mmodel(\u001b[38;5;241m*\u001b[39m\u001b[38;5;241m*\u001b[39mmodel_inputs)[\u001b[38;5;241m0\u001b[39m]\n\u001b[1;32m    284\u001b[0m \u001b[38;5;28;01melse\u001b[39;00m:\n\u001b[0;32m--> 285\u001b[0m     output \u001b[38;5;241m=\u001b[39m \u001b[38;5;28;43mself\u001b[39;49m\u001b[38;5;241;43m.\u001b[39;49m\u001b[43mmodel\u001b[49m\u001b[43m(\u001b[49m\u001b[38;5;241;43m*\u001b[39;49m\u001b[38;5;241;43m*\u001b[39;49m\u001b[43mmodel_inputs\u001b[49m\u001b[43m)\u001b[49m\n\u001b[1;32m    286\u001b[0m     logits \u001b[38;5;241m=\u001b[39m output[\u001b[38;5;124m\"\u001b[39m\u001b[38;5;124mlogits\u001b[39m\u001b[38;5;124m\"\u001b[39m] \u001b[38;5;28;01mif\u001b[39;00m \u001b[38;5;28misinstance\u001b[39m(output, \u001b[38;5;28mdict\u001b[39m) \u001b[38;5;28;01melse\u001b[39;00m output[\u001b[38;5;241m0\u001b[39m]\n\u001b[1;32m    288\u001b[0m \u001b[38;5;28;01mreturn\u001b[39;00m {\n\u001b[1;32m    289\u001b[0m     \u001b[38;5;124m\"\u001b[39m\u001b[38;5;124mlogits\u001b[39m\u001b[38;5;124m\"\u001b[39m: logits,\n\u001b[1;32m    290\u001b[0m     \u001b[38;5;124m\"\u001b[39m\u001b[38;5;124mspecial_tokens_mask\u001b[39m\u001b[38;5;124m\"\u001b[39m: special_tokens_mask,\n\u001b[0;32m   (...)\u001b[0m\n\u001b[1;32m    294\u001b[0m     \u001b[38;5;241m*\u001b[39m\u001b[38;5;241m*\u001b[39mmodel_inputs,\n\u001b[1;32m    295\u001b[0m }\n",
      "File \u001b[0;32m~/miniforge3/envs/cse251u/lib/python3.11/site-packages/torch/nn/modules/module.py:1518\u001b[0m, in \u001b[0;36mModule._wrapped_call_impl\u001b[0;34m(self, *args, **kwargs)\u001b[0m\n\u001b[1;32m   1516\u001b[0m     \u001b[38;5;28;01mreturn\u001b[39;00m \u001b[38;5;28mself\u001b[39m\u001b[38;5;241m.\u001b[39m_compiled_call_impl(\u001b[38;5;241m*\u001b[39margs, \u001b[38;5;241m*\u001b[39m\u001b[38;5;241m*\u001b[39mkwargs)  \u001b[38;5;66;03m# type: ignore[misc]\u001b[39;00m\n\u001b[1;32m   1517\u001b[0m \u001b[38;5;28;01melse\u001b[39;00m:\n\u001b[0;32m-> 1518\u001b[0m     \u001b[38;5;28;01mreturn\u001b[39;00m \u001b[38;5;28;43mself\u001b[39;49m\u001b[38;5;241;43m.\u001b[39;49m\u001b[43m_call_impl\u001b[49m\u001b[43m(\u001b[49m\u001b[38;5;241;43m*\u001b[39;49m\u001b[43margs\u001b[49m\u001b[43m,\u001b[49m\u001b[43m \u001b[49m\u001b[38;5;241;43m*\u001b[39;49m\u001b[38;5;241;43m*\u001b[39;49m\u001b[43mkwargs\u001b[49m\u001b[43m)\u001b[49m\n",
      "File \u001b[0;32m~/miniforge3/envs/cse251u/lib/python3.11/site-packages/torch/nn/modules/module.py:1527\u001b[0m, in \u001b[0;36mModule._call_impl\u001b[0;34m(self, *args, **kwargs)\u001b[0m\n\u001b[1;32m   1522\u001b[0m \u001b[38;5;66;03m# If we don't have any hooks, we want to skip the rest of the logic in\u001b[39;00m\n\u001b[1;32m   1523\u001b[0m \u001b[38;5;66;03m# this function, and just call forward.\u001b[39;00m\n\u001b[1;32m   1524\u001b[0m \u001b[38;5;28;01mif\u001b[39;00m \u001b[38;5;129;01mnot\u001b[39;00m (\u001b[38;5;28mself\u001b[39m\u001b[38;5;241m.\u001b[39m_backward_hooks \u001b[38;5;129;01mor\u001b[39;00m \u001b[38;5;28mself\u001b[39m\u001b[38;5;241m.\u001b[39m_backward_pre_hooks \u001b[38;5;129;01mor\u001b[39;00m \u001b[38;5;28mself\u001b[39m\u001b[38;5;241m.\u001b[39m_forward_hooks \u001b[38;5;129;01mor\u001b[39;00m \u001b[38;5;28mself\u001b[39m\u001b[38;5;241m.\u001b[39m_forward_pre_hooks\n\u001b[1;32m   1525\u001b[0m         \u001b[38;5;129;01mor\u001b[39;00m _global_backward_pre_hooks \u001b[38;5;129;01mor\u001b[39;00m _global_backward_hooks\n\u001b[1;32m   1526\u001b[0m         \u001b[38;5;129;01mor\u001b[39;00m _global_forward_hooks \u001b[38;5;129;01mor\u001b[39;00m _global_forward_pre_hooks):\n\u001b[0;32m-> 1527\u001b[0m     \u001b[38;5;28;01mreturn\u001b[39;00m \u001b[43mforward_call\u001b[49m\u001b[43m(\u001b[49m\u001b[38;5;241;43m*\u001b[39;49m\u001b[43margs\u001b[49m\u001b[43m,\u001b[49m\u001b[43m \u001b[49m\u001b[38;5;241;43m*\u001b[39;49m\u001b[38;5;241;43m*\u001b[39;49m\u001b[43mkwargs\u001b[49m\u001b[43m)\u001b[49m\n\u001b[1;32m   1529\u001b[0m \u001b[38;5;28;01mtry\u001b[39;00m:\n\u001b[1;32m   1530\u001b[0m     result \u001b[38;5;241m=\u001b[39m \u001b[38;5;28;01mNone\u001b[39;00m\n",
      "File \u001b[0;32m~/miniforge3/envs/cse251u/lib/python3.11/site-packages/transformers/models/distilbert/modeling_distilbert.py:1233\u001b[0m, in \u001b[0;36mDistilBertForTokenClassification.forward\u001b[0;34m(self, input_ids, attention_mask, head_mask, inputs_embeds, labels, output_attentions, output_hidden_states, return_dict)\u001b[0m\n\u001b[1;32m   1227\u001b[0m \u001b[38;5;250m\u001b[39m\u001b[38;5;124mr\u001b[39m\u001b[38;5;124;03m\"\"\"\u001b[39;00m\n\u001b[1;32m   1228\u001b[0m \u001b[38;5;124;03mlabels (`torch.LongTensor` of shape `(batch_size, sequence_length)`, *optional*):\u001b[39;00m\n\u001b[1;32m   1229\u001b[0m \u001b[38;5;124;03m    Labels for computing the token classification loss. Indices should be in `[0, ..., config.num_labels - 1]`.\u001b[39;00m\n\u001b[1;32m   1230\u001b[0m \u001b[38;5;124;03m\"\"\"\u001b[39;00m\n\u001b[1;32m   1231\u001b[0m return_dict \u001b[38;5;241m=\u001b[39m return_dict \u001b[38;5;28;01mif\u001b[39;00m return_dict \u001b[38;5;129;01mis\u001b[39;00m \u001b[38;5;129;01mnot\u001b[39;00m \u001b[38;5;28;01mNone\u001b[39;00m \u001b[38;5;28;01melse\u001b[39;00m \u001b[38;5;28mself\u001b[39m\u001b[38;5;241m.\u001b[39mconfig\u001b[38;5;241m.\u001b[39muse_return_dict\n\u001b[0;32m-> 1233\u001b[0m outputs \u001b[38;5;241m=\u001b[39m \u001b[38;5;28;43mself\u001b[39;49m\u001b[38;5;241;43m.\u001b[39;49m\u001b[43mdistilbert\u001b[49m\u001b[43m(\u001b[49m\n\u001b[1;32m   1234\u001b[0m \u001b[43m    \u001b[49m\u001b[43minput_ids\u001b[49m\u001b[43m,\u001b[49m\n\u001b[1;32m   1235\u001b[0m \u001b[43m    \u001b[49m\u001b[43mattention_mask\u001b[49m\u001b[38;5;241;43m=\u001b[39;49m\u001b[43mattention_mask\u001b[49m\u001b[43m,\u001b[49m\n\u001b[1;32m   1236\u001b[0m \u001b[43m    \u001b[49m\u001b[43mhead_mask\u001b[49m\u001b[38;5;241;43m=\u001b[39;49m\u001b[43mhead_mask\u001b[49m\u001b[43m,\u001b[49m\n\u001b[1;32m   1237\u001b[0m \u001b[43m    \u001b[49m\u001b[43minputs_embeds\u001b[49m\u001b[38;5;241;43m=\u001b[39;49m\u001b[43minputs_embeds\u001b[49m\u001b[43m,\u001b[49m\n\u001b[1;32m   1238\u001b[0m \u001b[43m    \u001b[49m\u001b[43moutput_attentions\u001b[49m\u001b[38;5;241;43m=\u001b[39;49m\u001b[43moutput_attentions\u001b[49m\u001b[43m,\u001b[49m\n\u001b[1;32m   1239\u001b[0m \u001b[43m    \u001b[49m\u001b[43moutput_hidden_states\u001b[49m\u001b[38;5;241;43m=\u001b[39;49m\u001b[43moutput_hidden_states\u001b[49m\u001b[43m,\u001b[49m\n\u001b[1;32m   1240\u001b[0m \u001b[43m    \u001b[49m\u001b[43mreturn_dict\u001b[49m\u001b[38;5;241;43m=\u001b[39;49m\u001b[43mreturn_dict\u001b[49m\u001b[43m,\u001b[49m\n\u001b[1;32m   1241\u001b[0m \u001b[43m\u001b[49m\u001b[43m)\u001b[49m\n\u001b[1;32m   1243\u001b[0m sequence_output \u001b[38;5;241m=\u001b[39m outputs[\u001b[38;5;241m0\u001b[39m]\n\u001b[1;32m   1245\u001b[0m sequence_output \u001b[38;5;241m=\u001b[39m \u001b[38;5;28mself\u001b[39m\u001b[38;5;241m.\u001b[39mdropout(sequence_output)\n",
      "File \u001b[0;32m~/miniforge3/envs/cse251u/lib/python3.11/site-packages/torch/nn/modules/module.py:1518\u001b[0m, in \u001b[0;36mModule._wrapped_call_impl\u001b[0;34m(self, *args, **kwargs)\u001b[0m\n\u001b[1;32m   1516\u001b[0m     \u001b[38;5;28;01mreturn\u001b[39;00m \u001b[38;5;28mself\u001b[39m\u001b[38;5;241m.\u001b[39m_compiled_call_impl(\u001b[38;5;241m*\u001b[39margs, \u001b[38;5;241m*\u001b[39m\u001b[38;5;241m*\u001b[39mkwargs)  \u001b[38;5;66;03m# type: ignore[misc]\u001b[39;00m\n\u001b[1;32m   1517\u001b[0m \u001b[38;5;28;01melse\u001b[39;00m:\n\u001b[0;32m-> 1518\u001b[0m     \u001b[38;5;28;01mreturn\u001b[39;00m \u001b[38;5;28;43mself\u001b[39;49m\u001b[38;5;241;43m.\u001b[39;49m\u001b[43m_call_impl\u001b[49m\u001b[43m(\u001b[49m\u001b[38;5;241;43m*\u001b[39;49m\u001b[43margs\u001b[49m\u001b[43m,\u001b[49m\u001b[43m \u001b[49m\u001b[38;5;241;43m*\u001b[39;49m\u001b[38;5;241;43m*\u001b[39;49m\u001b[43mkwargs\u001b[49m\u001b[43m)\u001b[49m\n",
      "File \u001b[0;32m~/miniforge3/envs/cse251u/lib/python3.11/site-packages/torch/nn/modules/module.py:1527\u001b[0m, in \u001b[0;36mModule._call_impl\u001b[0;34m(self, *args, **kwargs)\u001b[0m\n\u001b[1;32m   1522\u001b[0m \u001b[38;5;66;03m# If we don't have any hooks, we want to skip the rest of the logic in\u001b[39;00m\n\u001b[1;32m   1523\u001b[0m \u001b[38;5;66;03m# this function, and just call forward.\u001b[39;00m\n\u001b[1;32m   1524\u001b[0m \u001b[38;5;28;01mif\u001b[39;00m \u001b[38;5;129;01mnot\u001b[39;00m (\u001b[38;5;28mself\u001b[39m\u001b[38;5;241m.\u001b[39m_backward_hooks \u001b[38;5;129;01mor\u001b[39;00m \u001b[38;5;28mself\u001b[39m\u001b[38;5;241m.\u001b[39m_backward_pre_hooks \u001b[38;5;129;01mor\u001b[39;00m \u001b[38;5;28mself\u001b[39m\u001b[38;5;241m.\u001b[39m_forward_hooks \u001b[38;5;129;01mor\u001b[39;00m \u001b[38;5;28mself\u001b[39m\u001b[38;5;241m.\u001b[39m_forward_pre_hooks\n\u001b[1;32m   1525\u001b[0m         \u001b[38;5;129;01mor\u001b[39;00m _global_backward_pre_hooks \u001b[38;5;129;01mor\u001b[39;00m _global_backward_hooks\n\u001b[1;32m   1526\u001b[0m         \u001b[38;5;129;01mor\u001b[39;00m _global_forward_hooks \u001b[38;5;129;01mor\u001b[39;00m _global_forward_pre_hooks):\n\u001b[0;32m-> 1527\u001b[0m     \u001b[38;5;28;01mreturn\u001b[39;00m \u001b[43mforward_call\u001b[49m\u001b[43m(\u001b[49m\u001b[38;5;241;43m*\u001b[39;49m\u001b[43margs\u001b[49m\u001b[43m,\u001b[49m\u001b[43m \u001b[49m\u001b[38;5;241;43m*\u001b[39;49m\u001b[38;5;241;43m*\u001b[39;49m\u001b[43mkwargs\u001b[49m\u001b[43m)\u001b[49m\n\u001b[1;32m   1529\u001b[0m \u001b[38;5;28;01mtry\u001b[39;00m:\n\u001b[1;32m   1530\u001b[0m     result \u001b[38;5;241m=\u001b[39m \u001b[38;5;28;01mNone\u001b[39;00m\n",
      "File \u001b[0;32m~/miniforge3/envs/cse251u/lib/python3.11/site-packages/transformers/models/distilbert/modeling_distilbert.py:822\u001b[0m, in \u001b[0;36mDistilBertModel.forward\u001b[0;34m(self, input_ids, attention_mask, head_mask, inputs_embeds, output_attentions, output_hidden_states, return_dict)\u001b[0m\n\u001b[1;32m    819\u001b[0m     \u001b[38;5;28;01mif\u001b[39;00m attention_mask \u001b[38;5;129;01mis\u001b[39;00m \u001b[38;5;28;01mNone\u001b[39;00m:\n\u001b[1;32m    820\u001b[0m         attention_mask \u001b[38;5;241m=\u001b[39m torch\u001b[38;5;241m.\u001b[39mones(input_shape, device\u001b[38;5;241m=\u001b[39mdevice)  \u001b[38;5;66;03m# (bs, seq_length)\u001b[39;00m\n\u001b[0;32m--> 822\u001b[0m \u001b[38;5;28;01mreturn\u001b[39;00m \u001b[38;5;28;43mself\u001b[39;49m\u001b[38;5;241;43m.\u001b[39;49m\u001b[43mtransformer\u001b[49m\u001b[43m(\u001b[49m\n\u001b[1;32m    823\u001b[0m \u001b[43m    \u001b[49m\u001b[43mx\u001b[49m\u001b[38;5;241;43m=\u001b[39;49m\u001b[43membeddings\u001b[49m\u001b[43m,\u001b[49m\n\u001b[1;32m    824\u001b[0m \u001b[43m    \u001b[49m\u001b[43mattn_mask\u001b[49m\u001b[38;5;241;43m=\u001b[39;49m\u001b[43mattention_mask\u001b[49m\u001b[43m,\u001b[49m\n\u001b[1;32m    825\u001b[0m \u001b[43m    \u001b[49m\u001b[43mhead_mask\u001b[49m\u001b[38;5;241;43m=\u001b[39;49m\u001b[43mhead_mask\u001b[49m\u001b[43m,\u001b[49m\n\u001b[1;32m    826\u001b[0m \u001b[43m    \u001b[49m\u001b[43moutput_attentions\u001b[49m\u001b[38;5;241;43m=\u001b[39;49m\u001b[43moutput_attentions\u001b[49m\u001b[43m,\u001b[49m\n\u001b[1;32m    827\u001b[0m \u001b[43m    \u001b[49m\u001b[43moutput_hidden_states\u001b[49m\u001b[38;5;241;43m=\u001b[39;49m\u001b[43moutput_hidden_states\u001b[49m\u001b[43m,\u001b[49m\n\u001b[1;32m    828\u001b[0m \u001b[43m    \u001b[49m\u001b[43mreturn_dict\u001b[49m\u001b[38;5;241;43m=\u001b[39;49m\u001b[43mreturn_dict\u001b[49m\u001b[43m,\u001b[49m\n\u001b[1;32m    829\u001b[0m \u001b[43m\u001b[49m\u001b[43m)\u001b[49m\n",
      "File \u001b[0;32m~/miniforge3/envs/cse251u/lib/python3.11/site-packages/torch/nn/modules/module.py:1518\u001b[0m, in \u001b[0;36mModule._wrapped_call_impl\u001b[0;34m(self, *args, **kwargs)\u001b[0m\n\u001b[1;32m   1516\u001b[0m     \u001b[38;5;28;01mreturn\u001b[39;00m \u001b[38;5;28mself\u001b[39m\u001b[38;5;241m.\u001b[39m_compiled_call_impl(\u001b[38;5;241m*\u001b[39margs, \u001b[38;5;241m*\u001b[39m\u001b[38;5;241m*\u001b[39mkwargs)  \u001b[38;5;66;03m# type: ignore[misc]\u001b[39;00m\n\u001b[1;32m   1517\u001b[0m \u001b[38;5;28;01melse\u001b[39;00m:\n\u001b[0;32m-> 1518\u001b[0m     \u001b[38;5;28;01mreturn\u001b[39;00m \u001b[38;5;28;43mself\u001b[39;49m\u001b[38;5;241;43m.\u001b[39;49m\u001b[43m_call_impl\u001b[49m\u001b[43m(\u001b[49m\u001b[38;5;241;43m*\u001b[39;49m\u001b[43margs\u001b[49m\u001b[43m,\u001b[49m\u001b[43m \u001b[49m\u001b[38;5;241;43m*\u001b[39;49m\u001b[38;5;241;43m*\u001b[39;49m\u001b[43mkwargs\u001b[49m\u001b[43m)\u001b[49m\n",
      "File \u001b[0;32m~/miniforge3/envs/cse251u/lib/python3.11/site-packages/torch/nn/modules/module.py:1527\u001b[0m, in \u001b[0;36mModule._call_impl\u001b[0;34m(self, *args, **kwargs)\u001b[0m\n\u001b[1;32m   1522\u001b[0m \u001b[38;5;66;03m# If we don't have any hooks, we want to skip the rest of the logic in\u001b[39;00m\n\u001b[1;32m   1523\u001b[0m \u001b[38;5;66;03m# this function, and just call forward.\u001b[39;00m\n\u001b[1;32m   1524\u001b[0m \u001b[38;5;28;01mif\u001b[39;00m \u001b[38;5;129;01mnot\u001b[39;00m (\u001b[38;5;28mself\u001b[39m\u001b[38;5;241m.\u001b[39m_backward_hooks \u001b[38;5;129;01mor\u001b[39;00m \u001b[38;5;28mself\u001b[39m\u001b[38;5;241m.\u001b[39m_backward_pre_hooks \u001b[38;5;129;01mor\u001b[39;00m \u001b[38;5;28mself\u001b[39m\u001b[38;5;241m.\u001b[39m_forward_hooks \u001b[38;5;129;01mor\u001b[39;00m \u001b[38;5;28mself\u001b[39m\u001b[38;5;241m.\u001b[39m_forward_pre_hooks\n\u001b[1;32m   1525\u001b[0m         \u001b[38;5;129;01mor\u001b[39;00m _global_backward_pre_hooks \u001b[38;5;129;01mor\u001b[39;00m _global_backward_hooks\n\u001b[1;32m   1526\u001b[0m         \u001b[38;5;129;01mor\u001b[39;00m _global_forward_hooks \u001b[38;5;129;01mor\u001b[39;00m _global_forward_pre_hooks):\n\u001b[0;32m-> 1527\u001b[0m     \u001b[38;5;28;01mreturn\u001b[39;00m \u001b[43mforward_call\u001b[49m\u001b[43m(\u001b[49m\u001b[38;5;241;43m*\u001b[39;49m\u001b[43margs\u001b[49m\u001b[43m,\u001b[49m\u001b[43m \u001b[49m\u001b[38;5;241;43m*\u001b[39;49m\u001b[38;5;241;43m*\u001b[39;49m\u001b[43mkwargs\u001b[49m\u001b[43m)\u001b[49m\n\u001b[1;32m   1529\u001b[0m \u001b[38;5;28;01mtry\u001b[39;00m:\n\u001b[1;32m   1530\u001b[0m     result \u001b[38;5;241m=\u001b[39m \u001b[38;5;28;01mNone\u001b[39;00m\n",
      "File \u001b[0;32m~/miniforge3/envs/cse251u/lib/python3.11/site-packages/transformers/models/distilbert/modeling_distilbert.py:587\u001b[0m, in \u001b[0;36mTransformer.forward\u001b[0;34m(self, x, attn_mask, head_mask, output_attentions, output_hidden_states, return_dict)\u001b[0m\n\u001b[1;32m    579\u001b[0m     layer_outputs \u001b[38;5;241m=\u001b[39m \u001b[38;5;28mself\u001b[39m\u001b[38;5;241m.\u001b[39m_gradient_checkpointing_func(\n\u001b[1;32m    580\u001b[0m         layer_module\u001b[38;5;241m.\u001b[39m\u001b[38;5;21m__call__\u001b[39m,\n\u001b[1;32m    581\u001b[0m         hidden_state,\n\u001b[0;32m   (...)\u001b[0m\n\u001b[1;32m    584\u001b[0m         output_attentions,\n\u001b[1;32m    585\u001b[0m     )\n\u001b[1;32m    586\u001b[0m \u001b[38;5;28;01melse\u001b[39;00m:\n\u001b[0;32m--> 587\u001b[0m     layer_outputs \u001b[38;5;241m=\u001b[39m \u001b[43mlayer_module\u001b[49m\u001b[43m(\u001b[49m\n\u001b[1;32m    588\u001b[0m \u001b[43m        \u001b[49m\u001b[43mhidden_state\u001b[49m\u001b[43m,\u001b[49m\n\u001b[1;32m    589\u001b[0m \u001b[43m        \u001b[49m\u001b[43mattn_mask\u001b[49m\u001b[43m,\u001b[49m\n\u001b[1;32m    590\u001b[0m \u001b[43m        \u001b[49m\u001b[43mhead_mask\u001b[49m\u001b[43m[\u001b[49m\u001b[43mi\u001b[49m\u001b[43m]\u001b[49m\u001b[43m,\u001b[49m\n\u001b[1;32m    591\u001b[0m \u001b[43m        \u001b[49m\u001b[43moutput_attentions\u001b[49m\u001b[43m,\u001b[49m\n\u001b[1;32m    592\u001b[0m \u001b[43m    \u001b[49m\u001b[43m)\u001b[49m\n\u001b[1;32m    594\u001b[0m hidden_state \u001b[38;5;241m=\u001b[39m layer_outputs[\u001b[38;5;241m-\u001b[39m\u001b[38;5;241m1\u001b[39m]\n\u001b[1;32m    596\u001b[0m \u001b[38;5;28;01mif\u001b[39;00m output_attentions:\n",
      "File \u001b[0;32m~/miniforge3/envs/cse251u/lib/python3.11/site-packages/torch/nn/modules/module.py:1518\u001b[0m, in \u001b[0;36mModule._wrapped_call_impl\u001b[0;34m(self, *args, **kwargs)\u001b[0m\n\u001b[1;32m   1516\u001b[0m     \u001b[38;5;28;01mreturn\u001b[39;00m \u001b[38;5;28mself\u001b[39m\u001b[38;5;241m.\u001b[39m_compiled_call_impl(\u001b[38;5;241m*\u001b[39margs, \u001b[38;5;241m*\u001b[39m\u001b[38;5;241m*\u001b[39mkwargs)  \u001b[38;5;66;03m# type: ignore[misc]\u001b[39;00m\n\u001b[1;32m   1517\u001b[0m \u001b[38;5;28;01melse\u001b[39;00m:\n\u001b[0;32m-> 1518\u001b[0m     \u001b[38;5;28;01mreturn\u001b[39;00m \u001b[38;5;28;43mself\u001b[39;49m\u001b[38;5;241;43m.\u001b[39;49m\u001b[43m_call_impl\u001b[49m\u001b[43m(\u001b[49m\u001b[38;5;241;43m*\u001b[39;49m\u001b[43margs\u001b[49m\u001b[43m,\u001b[49m\u001b[43m \u001b[49m\u001b[38;5;241;43m*\u001b[39;49m\u001b[38;5;241;43m*\u001b[39;49m\u001b[43mkwargs\u001b[49m\u001b[43m)\u001b[49m\n",
      "File \u001b[0;32m~/miniforge3/envs/cse251u/lib/python3.11/site-packages/torch/nn/modules/module.py:1527\u001b[0m, in \u001b[0;36mModule._call_impl\u001b[0;34m(self, *args, **kwargs)\u001b[0m\n\u001b[1;32m   1522\u001b[0m \u001b[38;5;66;03m# If we don't have any hooks, we want to skip the rest of the logic in\u001b[39;00m\n\u001b[1;32m   1523\u001b[0m \u001b[38;5;66;03m# this function, and just call forward.\u001b[39;00m\n\u001b[1;32m   1524\u001b[0m \u001b[38;5;28;01mif\u001b[39;00m \u001b[38;5;129;01mnot\u001b[39;00m (\u001b[38;5;28mself\u001b[39m\u001b[38;5;241m.\u001b[39m_backward_hooks \u001b[38;5;129;01mor\u001b[39;00m \u001b[38;5;28mself\u001b[39m\u001b[38;5;241m.\u001b[39m_backward_pre_hooks \u001b[38;5;129;01mor\u001b[39;00m \u001b[38;5;28mself\u001b[39m\u001b[38;5;241m.\u001b[39m_forward_hooks \u001b[38;5;129;01mor\u001b[39;00m \u001b[38;5;28mself\u001b[39m\u001b[38;5;241m.\u001b[39m_forward_pre_hooks\n\u001b[1;32m   1525\u001b[0m         \u001b[38;5;129;01mor\u001b[39;00m _global_backward_pre_hooks \u001b[38;5;129;01mor\u001b[39;00m _global_backward_hooks\n\u001b[1;32m   1526\u001b[0m         \u001b[38;5;129;01mor\u001b[39;00m _global_forward_hooks \u001b[38;5;129;01mor\u001b[39;00m _global_forward_pre_hooks):\n\u001b[0;32m-> 1527\u001b[0m     \u001b[38;5;28;01mreturn\u001b[39;00m \u001b[43mforward_call\u001b[49m\u001b[43m(\u001b[49m\u001b[38;5;241;43m*\u001b[39;49m\u001b[43margs\u001b[49m\u001b[43m,\u001b[49m\u001b[43m \u001b[49m\u001b[38;5;241;43m*\u001b[39;49m\u001b[38;5;241;43m*\u001b[39;49m\u001b[43mkwargs\u001b[49m\u001b[43m)\u001b[49m\n\u001b[1;32m   1529\u001b[0m \u001b[38;5;28;01mtry\u001b[39;00m:\n\u001b[1;32m   1530\u001b[0m     result \u001b[38;5;241m=\u001b[39m \u001b[38;5;28;01mNone\u001b[39;00m\n",
      "File \u001b[0;32m~/miniforge3/envs/cse251u/lib/python3.11/site-packages/transformers/models/distilbert/modeling_distilbert.py:531\u001b[0m, in \u001b[0;36mTransformerBlock.forward\u001b[0;34m(self, x, attn_mask, head_mask, output_attentions)\u001b[0m\n\u001b[1;32m    528\u001b[0m sa_output \u001b[38;5;241m=\u001b[39m \u001b[38;5;28mself\u001b[39m\u001b[38;5;241m.\u001b[39msa_layer_norm(sa_output \u001b[38;5;241m+\u001b[39m x)  \u001b[38;5;66;03m# (bs, seq_length, dim)\u001b[39;00m\n\u001b[1;32m    530\u001b[0m \u001b[38;5;66;03m# Feed Forward Network\u001b[39;00m\n\u001b[0;32m--> 531\u001b[0m ffn_output \u001b[38;5;241m=\u001b[39m \u001b[38;5;28;43mself\u001b[39;49m\u001b[38;5;241;43m.\u001b[39;49m\u001b[43mffn\u001b[49m\u001b[43m(\u001b[49m\u001b[43msa_output\u001b[49m\u001b[43m)\u001b[49m  \u001b[38;5;66;03m# (bs, seq_length, dim)\u001b[39;00m\n\u001b[1;32m    532\u001b[0m ffn_output: torch\u001b[38;5;241m.\u001b[39mTensor \u001b[38;5;241m=\u001b[39m \u001b[38;5;28mself\u001b[39m\u001b[38;5;241m.\u001b[39moutput_layer_norm(ffn_output \u001b[38;5;241m+\u001b[39m sa_output)  \u001b[38;5;66;03m# (bs, seq_length, dim)\u001b[39;00m\n\u001b[1;32m    534\u001b[0m output \u001b[38;5;241m=\u001b[39m (ffn_output,)\n",
      "File \u001b[0;32m~/miniforge3/envs/cse251u/lib/python3.11/site-packages/torch/nn/modules/module.py:1518\u001b[0m, in \u001b[0;36mModule._wrapped_call_impl\u001b[0;34m(self, *args, **kwargs)\u001b[0m\n\u001b[1;32m   1516\u001b[0m     \u001b[38;5;28;01mreturn\u001b[39;00m \u001b[38;5;28mself\u001b[39m\u001b[38;5;241m.\u001b[39m_compiled_call_impl(\u001b[38;5;241m*\u001b[39margs, \u001b[38;5;241m*\u001b[39m\u001b[38;5;241m*\u001b[39mkwargs)  \u001b[38;5;66;03m# type: ignore[misc]\u001b[39;00m\n\u001b[1;32m   1517\u001b[0m \u001b[38;5;28;01melse\u001b[39;00m:\n\u001b[0;32m-> 1518\u001b[0m     \u001b[38;5;28;01mreturn\u001b[39;00m \u001b[38;5;28;43mself\u001b[39;49m\u001b[38;5;241;43m.\u001b[39;49m\u001b[43m_call_impl\u001b[49m\u001b[43m(\u001b[49m\u001b[38;5;241;43m*\u001b[39;49m\u001b[43margs\u001b[49m\u001b[43m,\u001b[49m\u001b[43m \u001b[49m\u001b[38;5;241;43m*\u001b[39;49m\u001b[38;5;241;43m*\u001b[39;49m\u001b[43mkwargs\u001b[49m\u001b[43m)\u001b[49m\n",
      "File \u001b[0;32m~/miniforge3/envs/cse251u/lib/python3.11/site-packages/torch/nn/modules/module.py:1527\u001b[0m, in \u001b[0;36mModule._call_impl\u001b[0;34m(self, *args, **kwargs)\u001b[0m\n\u001b[1;32m   1522\u001b[0m \u001b[38;5;66;03m# If we don't have any hooks, we want to skip the rest of the logic in\u001b[39;00m\n\u001b[1;32m   1523\u001b[0m \u001b[38;5;66;03m# this function, and just call forward.\u001b[39;00m\n\u001b[1;32m   1524\u001b[0m \u001b[38;5;28;01mif\u001b[39;00m \u001b[38;5;129;01mnot\u001b[39;00m (\u001b[38;5;28mself\u001b[39m\u001b[38;5;241m.\u001b[39m_backward_hooks \u001b[38;5;129;01mor\u001b[39;00m \u001b[38;5;28mself\u001b[39m\u001b[38;5;241m.\u001b[39m_backward_pre_hooks \u001b[38;5;129;01mor\u001b[39;00m \u001b[38;5;28mself\u001b[39m\u001b[38;5;241m.\u001b[39m_forward_hooks \u001b[38;5;129;01mor\u001b[39;00m \u001b[38;5;28mself\u001b[39m\u001b[38;5;241m.\u001b[39m_forward_pre_hooks\n\u001b[1;32m   1525\u001b[0m         \u001b[38;5;129;01mor\u001b[39;00m _global_backward_pre_hooks \u001b[38;5;129;01mor\u001b[39;00m _global_backward_hooks\n\u001b[1;32m   1526\u001b[0m         \u001b[38;5;129;01mor\u001b[39;00m _global_forward_hooks \u001b[38;5;129;01mor\u001b[39;00m _global_forward_pre_hooks):\n\u001b[0;32m-> 1527\u001b[0m     \u001b[38;5;28;01mreturn\u001b[39;00m \u001b[43mforward_call\u001b[49m\u001b[43m(\u001b[49m\u001b[38;5;241;43m*\u001b[39;49m\u001b[43margs\u001b[49m\u001b[43m,\u001b[49m\u001b[43m \u001b[49m\u001b[38;5;241;43m*\u001b[39;49m\u001b[38;5;241;43m*\u001b[39;49m\u001b[43mkwargs\u001b[49m\u001b[43m)\u001b[49m\n\u001b[1;32m   1529\u001b[0m \u001b[38;5;28;01mtry\u001b[39;00m:\n\u001b[1;32m   1530\u001b[0m     result \u001b[38;5;241m=\u001b[39m \u001b[38;5;28;01mNone\u001b[39;00m\n",
      "File \u001b[0;32m~/miniforge3/envs/cse251u/lib/python3.11/site-packages/transformers/models/distilbert/modeling_distilbert.py:466\u001b[0m, in \u001b[0;36mFFN.forward\u001b[0;34m(self, input)\u001b[0m\n\u001b[1;32m    465\u001b[0m \u001b[38;5;28;01mdef\u001b[39;00m \u001b[38;5;21mforward\u001b[39m(\u001b[38;5;28mself\u001b[39m, \u001b[38;5;28minput\u001b[39m: torch\u001b[38;5;241m.\u001b[39mTensor) \u001b[38;5;241m-\u001b[39m\u001b[38;5;241m>\u001b[39m torch\u001b[38;5;241m.\u001b[39mTensor:\n\u001b[0;32m--> 466\u001b[0m     \u001b[38;5;28;01mreturn\u001b[39;00m \u001b[43mapply_chunking_to_forward\u001b[49m\u001b[43m(\u001b[49m\u001b[38;5;28;43mself\u001b[39;49m\u001b[38;5;241;43m.\u001b[39;49m\u001b[43mff_chunk\u001b[49m\u001b[43m,\u001b[49m\u001b[43m \u001b[49m\u001b[38;5;28;43mself\u001b[39;49m\u001b[38;5;241;43m.\u001b[39;49m\u001b[43mchunk_size_feed_forward\u001b[49m\u001b[43m,\u001b[49m\u001b[43m \u001b[49m\u001b[38;5;28;43mself\u001b[39;49m\u001b[38;5;241;43m.\u001b[39;49m\u001b[43mseq_len_dim\u001b[49m\u001b[43m,\u001b[49m\u001b[43m \u001b[49m\u001b[38;5;28;43minput\u001b[39;49m\u001b[43m)\u001b[49m\n",
      "File \u001b[0;32m~/miniforge3/envs/cse251u/lib/python3.11/site-packages/transformers/pytorch_utils.py:237\u001b[0m, in \u001b[0;36mapply_chunking_to_forward\u001b[0;34m(forward_fn, chunk_size, chunk_dim, *input_tensors)\u001b[0m\n\u001b[1;32m    234\u001b[0m     \u001b[38;5;66;03m# concatenate output at same dimension\u001b[39;00m\n\u001b[1;32m    235\u001b[0m     \u001b[38;5;28;01mreturn\u001b[39;00m torch\u001b[38;5;241m.\u001b[39mcat(output_chunks, dim\u001b[38;5;241m=\u001b[39mchunk_dim)\n\u001b[0;32m--> 237\u001b[0m \u001b[38;5;28;01mreturn\u001b[39;00m \u001b[43mforward_fn\u001b[49m\u001b[43m(\u001b[49m\u001b[38;5;241;43m*\u001b[39;49m\u001b[43minput_tensors\u001b[49m\u001b[43m)\u001b[49m\n",
      "File \u001b[0;32m~/miniforge3/envs/cse251u/lib/python3.11/site-packages/transformers/models/distilbert/modeling_distilbert.py:470\u001b[0m, in \u001b[0;36mFFN.ff_chunk\u001b[0;34m(self, input)\u001b[0m\n\u001b[1;32m    468\u001b[0m \u001b[38;5;28;01mdef\u001b[39;00m \u001b[38;5;21mff_chunk\u001b[39m(\u001b[38;5;28mself\u001b[39m, \u001b[38;5;28minput\u001b[39m: torch\u001b[38;5;241m.\u001b[39mTensor) \u001b[38;5;241m-\u001b[39m\u001b[38;5;241m>\u001b[39m torch\u001b[38;5;241m.\u001b[39mTensor:\n\u001b[1;32m    469\u001b[0m     x \u001b[38;5;241m=\u001b[39m \u001b[38;5;28mself\u001b[39m\u001b[38;5;241m.\u001b[39mlin1(\u001b[38;5;28minput\u001b[39m)\n\u001b[0;32m--> 470\u001b[0m     x \u001b[38;5;241m=\u001b[39m \u001b[38;5;28;43mself\u001b[39;49m\u001b[38;5;241;43m.\u001b[39;49m\u001b[43mactivation\u001b[49m\u001b[43m(\u001b[49m\u001b[43mx\u001b[49m\u001b[43m)\u001b[49m\n\u001b[1;32m    471\u001b[0m     x \u001b[38;5;241m=\u001b[39m \u001b[38;5;28mself\u001b[39m\u001b[38;5;241m.\u001b[39mlin2(x)\n\u001b[1;32m    472\u001b[0m     x \u001b[38;5;241m=\u001b[39m \u001b[38;5;28mself\u001b[39m\u001b[38;5;241m.\u001b[39mdropout(x)\n",
      "File \u001b[0;32m~/miniforge3/envs/cse251u/lib/python3.11/site-packages/torch/nn/modules/module.py:1518\u001b[0m, in \u001b[0;36mModule._wrapped_call_impl\u001b[0;34m(self, *args, **kwargs)\u001b[0m\n\u001b[1;32m   1516\u001b[0m     \u001b[38;5;28;01mreturn\u001b[39;00m \u001b[38;5;28mself\u001b[39m\u001b[38;5;241m.\u001b[39m_compiled_call_impl(\u001b[38;5;241m*\u001b[39margs, \u001b[38;5;241m*\u001b[39m\u001b[38;5;241m*\u001b[39mkwargs)  \u001b[38;5;66;03m# type: ignore[misc]\u001b[39;00m\n\u001b[1;32m   1517\u001b[0m \u001b[38;5;28;01melse\u001b[39;00m:\n\u001b[0;32m-> 1518\u001b[0m     \u001b[38;5;28;01mreturn\u001b[39;00m \u001b[38;5;28;43mself\u001b[39;49m\u001b[38;5;241;43m.\u001b[39;49m\u001b[43m_call_impl\u001b[49m\u001b[43m(\u001b[49m\u001b[38;5;241;43m*\u001b[39;49m\u001b[43margs\u001b[49m\u001b[43m,\u001b[49m\u001b[43m \u001b[49m\u001b[38;5;241;43m*\u001b[39;49m\u001b[38;5;241;43m*\u001b[39;49m\u001b[43mkwargs\u001b[49m\u001b[43m)\u001b[49m\n",
      "File \u001b[0;32m~/miniforge3/envs/cse251u/lib/python3.11/site-packages/torch/nn/modules/module.py:1527\u001b[0m, in \u001b[0;36mModule._call_impl\u001b[0;34m(self, *args, **kwargs)\u001b[0m\n\u001b[1;32m   1522\u001b[0m \u001b[38;5;66;03m# If we don't have any hooks, we want to skip the rest of the logic in\u001b[39;00m\n\u001b[1;32m   1523\u001b[0m \u001b[38;5;66;03m# this function, and just call forward.\u001b[39;00m\n\u001b[1;32m   1524\u001b[0m \u001b[38;5;28;01mif\u001b[39;00m \u001b[38;5;129;01mnot\u001b[39;00m (\u001b[38;5;28mself\u001b[39m\u001b[38;5;241m.\u001b[39m_backward_hooks \u001b[38;5;129;01mor\u001b[39;00m \u001b[38;5;28mself\u001b[39m\u001b[38;5;241m.\u001b[39m_backward_pre_hooks \u001b[38;5;129;01mor\u001b[39;00m \u001b[38;5;28mself\u001b[39m\u001b[38;5;241m.\u001b[39m_forward_hooks \u001b[38;5;129;01mor\u001b[39;00m \u001b[38;5;28mself\u001b[39m\u001b[38;5;241m.\u001b[39m_forward_pre_hooks\n\u001b[1;32m   1525\u001b[0m         \u001b[38;5;129;01mor\u001b[39;00m _global_backward_pre_hooks \u001b[38;5;129;01mor\u001b[39;00m _global_backward_hooks\n\u001b[1;32m   1526\u001b[0m         \u001b[38;5;129;01mor\u001b[39;00m _global_forward_hooks \u001b[38;5;129;01mor\u001b[39;00m _global_forward_pre_hooks):\n\u001b[0;32m-> 1527\u001b[0m     \u001b[38;5;28;01mreturn\u001b[39;00m \u001b[43mforward_call\u001b[49m\u001b[43m(\u001b[49m\u001b[38;5;241;43m*\u001b[39;49m\u001b[43margs\u001b[49m\u001b[43m,\u001b[49m\u001b[43m \u001b[49m\u001b[38;5;241;43m*\u001b[39;49m\u001b[38;5;241;43m*\u001b[39;49m\u001b[43mkwargs\u001b[49m\u001b[43m)\u001b[49m\n\u001b[1;32m   1529\u001b[0m \u001b[38;5;28;01mtry\u001b[39;00m:\n\u001b[1;32m   1530\u001b[0m     result \u001b[38;5;241m=\u001b[39m \u001b[38;5;28;01mNone\u001b[39;00m\n",
      "File \u001b[0;32m~/miniforge3/envs/cse251u/lib/python3.11/site-packages/transformers/activations.py:78\u001b[0m, in \u001b[0;36mGELUActivation.forward\u001b[0;34m(self, input)\u001b[0m\n\u001b[1;32m     77\u001b[0m \u001b[38;5;28;01mdef\u001b[39;00m \u001b[38;5;21mforward\u001b[39m(\u001b[38;5;28mself\u001b[39m, \u001b[38;5;28minput\u001b[39m: Tensor) \u001b[38;5;241m-\u001b[39m\u001b[38;5;241m>\u001b[39m Tensor:\n\u001b[0;32m---> 78\u001b[0m     \u001b[38;5;28;01mreturn\u001b[39;00m \u001b[38;5;28;43mself\u001b[39;49m\u001b[38;5;241;43m.\u001b[39;49m\u001b[43mact\u001b[49m\u001b[43m(\u001b[49m\u001b[38;5;28;43minput\u001b[39;49m\u001b[43m)\u001b[49m\n",
      "\u001b[0;31mKeyboardInterrupt\u001b[0m: "
     ]
    }
   ],
   "source": [
    "df['ner_entities'] = df['text'].apply(pipe)"
   ]
  },
  {
   "cell_type": "code",
   "execution_count": null,
   "metadata": {},
   "outputs": [],
   "source": [
    "df.to_csv('ner_df.csv', index=False)"
   ]
  },
  {
   "cell_type": "code",
   "execution_count": null,
   "metadata": {},
   "outputs": [],
   "source": []
  },
  {
   "cell_type": "code",
   "execution_count": null,
   "metadata": {},
   "outputs": [],
   "source": []
  },
  {
   "cell_type": "markdown",
   "metadata": {},
   "source": [
    "# BERT"
   ]
  },
  {
   "cell_type": "code",
   "execution_count": 10,
   "metadata": {},
   "outputs": [
    {
     "data": {
      "application/vnd.jupyter.widget-view+json": {
       "model_id": "ba7220f10ff3400a936c3cde7741d965",
       "version_major": 2,
       "version_minor": 0
      },
      "text/plain": [
       "Map:   0%|          | 0/15228 [00:00<?, ? examples/s]"
      ]
     },
     "metadata": {},
     "output_type": "display_data"
    }
   ],
   "source": [
    "from datasets import Dataset\n",
    "\n",
    "# Convert your DataFrame to Hugging Face Dataset\n",
    "dataset = Dataset.from_pandas(df[['cleaned_notes']])\n",
    "\n",
    "# Example function to tokenize and align labels\n",
    "from transformers import AutoTokenizer\n",
    "\n",
    "tokenizer = AutoTokenizer.from_pretrained(\"bert-base-uncased\")\n",
    "\n",
    "def tokenize_and_align_labels(examples):\n",
    "    tokenized_inputs = tokenizer(examples[\"cleaned_notes\"], truncation=True, padding=\"max_length\", max_length=128)\n",
    "    return tokenized_inputs\n",
    "\n",
    "tokenized_dataset = dataset.map(tokenize_and_align_labels, batched=True)\n"
   ]
  },
  {
   "cell_type": "code",
   "execution_count": null,
   "metadata": {},
   "outputs": [],
   "source": [
    "from transformers import AutoModelForTokenClassification, TrainingArguments, Trainer\n",
    "\n",
    "model = AutoModelForTokenClassification.from_pretrained(\"bert-base-uncased\", num_labels=NUMBER_OF_LABELS)\n",
    "\n",
    "training_args = TrainingArguments(\n",
    "    output_dir=\"./results\",\n",
    "    evaluation_strategy=\"epoch\",\n",
    "    learning_rate=2e-5,\n",
    "    per_device_train_batch_size=16,\n",
    "    per_device_eval_batch_size=16,\n",
    "    num_train_epochs=3,\n",
    "    weight_decay=0.01,\n",
    ")\n",
    "\n",
    "trainer = Trainer(\n",
    "    model=model,\n",
    "    args=training_args,\n",
    "    train_dataset=tokenized_dataset['train'],\n",
    "    eval_dataset=tokenized_dataset['test'],\n",
    ")\n",
    "\n",
    "trainer.train()\n"
   ]
  },
  {
   "cell_type": "code",
   "execution_count": null,
   "metadata": {},
   "outputs": [],
   "source": [
    "results = trainer.evaluate()\n",
    "print(results)\n"
   ]
  },
  {
   "cell_type": "code",
   "execution_count": null,
   "metadata": {},
   "outputs": [],
   "source": [
    "def extract_entities_with_model(text):\n",
    "    inputs = tokenizer(text, return_tensors=\"pt\", truncation=True, padding=\"max_length\", max_length=128)\n",
    "    outputs = model(**inputs)\n",
    "    predictions = torch.argmax(outputs.logits, dim=2)\n",
    "    tokens = tokenizer.convert_ids_to_tokens(inputs[\"input_ids\"][0])\n",
    "    entities = [(tokens[i], predictions[0][i].item()) for i in range(len(tokens))]\n",
    "    return entities\n",
    "\n",
    "df['entities_finetuned'] = df['cleaned_notes'].apply(extract_entities_with_model)\n"
   ]
  }
 ],
 "metadata": {
  "kernelspec": {
   "display_name": "cse251u",
   "language": "python",
   "name": "python3"
  },
  "language_info": {
   "codemirror_mode": {
    "name": "ipython",
    "version": 3
   },
   "file_extension": ".py",
   "mimetype": "text/x-python",
   "name": "python",
   "nbconvert_exporter": "python",
   "pygments_lexer": "ipython3",
   "version": "3.11.7"
  }
 },
 "nbformat": 4,
 "nbformat_minor": 2
}
